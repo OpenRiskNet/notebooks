{
 "cells": [
  {
   "cell_type": "markdown",
   "metadata": {},
   "source": [
    "<img src=\"http://prosilico.com/assets/static/media/prosilico_logo_2x.png\" width=\"400\"/> <img src=\"https://openrisknet.org/static/images/orn-logo-lg.png\" width=\"400\" align=\"right\">\n",
    "\n",
    "\n",
    "\n",
    "# Accessing ProSilico services in OpenRiskNet via Jupyter Notebook\n",
    "\n",
    "Ola Spjuth, 2019-10-23\n",
    "\n",
    "## Overview\n",
    "\n",
    "[ProSilico](http://prosilico.com/) has developed the product [ProSilico ADME/PK Studio](http://prosilico.com/products) as a Web-based GUI for their customers. This application delivers estimates of the following human ADME/PK-parameters:\n",
    "\n",
    "### Primary human ADME/PK-parameters\n",
    "\n",
    "|Endpoint | Abbreviation | Description\n",
    ":--- | :--- | :--- \n",
    "Fraction absorbed | fabs | Predicts passive intestinal permeability-based fraction absorbed in-vivo in man (not considering solubility, active transport or instability in GI fluids)\n",
    "Intrinsic hepatic metabolic clearance | CLint | Predicts intrinsic hepatic metabolic clearance in-vivo in man (phase I metabolism and conjugation)\n",
    "Steady-state volume of distribution | Vss | Predicts steady-state volume of distribution in-vivo in man (not considering enterohepatic circulation)\n",
    "Fraction unbound in human plasma | fu | Predicts in-vitro fraction unbound in human plasma.\n",
    "Maximum in-vivo solubility/dissolution potential | fdiss| Predicts the maximum solubility/dissolution potential in the human gastrointestinal tract in-vivo following oral dosing. A value of 40 % shows that maximally 40 % of an oral dose is anticipated to be dissolved using an optimal oral formulation. A value of 100 % indicates complete in-vivo solubility/dissolution potential with an optimized oral formulation.\n",
    "\n",
    "\n",
    "### Secondary human ADME/PK-parameters\n",
    "\n",
    "Endpoint | Abbreviation | Description\n",
    "--- | --- | --- \n",
    "Hepatic clearance | CLH | Calculated based on predicted CLint and fu, hepatic blood flow (1500 mL/min) and the well-stirred liver model.\n",
    "Oral bioavailability | F | Calculated based on predicted fabs (not considering active transport or gut-wall metabolism), fdiss and CLH.\n",
    "Half-life | t2 | Calculated based on predicted CLH and Vss (not considering excretion or enterohepatic circulation).\n",
    "\n",
    "## Modeling details\n",
    "ProSilico models make use of Conformal Prediction methodology that outputs valid prediction intervals at user-specified levels of confidence. The validity of conformal prediction is theoretically proven, see [vovk et al, 2005](http://alrw.net).\n",
    "For an introduction to conformal prediction in cheminformatics, we refer to [Norinder et al., J Chem Inf Model 54:6 2014](https://pubs.acs.org/doi/10.1021/ci5001168).\n",
    "\n",
    "\n",
    "## Implementation in OpenRiskNet\n",
    "ProSilico models have been integrated and is running on the OpenRiskNet infrastructure. In the notebook below, I showcase how easy it is to call the service.\n",
    "\n",
    "#### Remaining tasks\n",
    "* Implement authorization using KeyCloak\n",
    "* Manage ProSilico licenses in a good manner\n"
   ]
  },
  {
   "cell_type": "code",
   "execution_count": 154,
   "metadata": {},
   "outputs": [],
   "source": [
    "import requests\n",
    "from IPython.display import Image\n",
    "from IPython.core.display import HTML\n",
    "import json\n",
    "import pprint\n",
    "\n",
    "prosilicobaseURL='http://prosilico.prod.openrisknet.org/prosilico?molecule='"
   ]
  },
  {
   "cell_type": "markdown",
   "metadata": {},
   "source": [
    "Let us now predict a SMILES at a specific confidence level:"
   ]
  },
  {
   "cell_type": "code",
   "execution_count": 155,
   "metadata": {},
   "outputs": [],
   "source": [
    "smiles='CC1=CN=C(C(=C1OC)C)CS(=O)C2=NC3=C(N2)C=C(C=C3)OC'\n",
    "confidence = 0.7"
   ]
  },
  {
   "cell_type": "markdown",
   "metadata": {},
   "source": [
    "Structure the REST call and parse the JSON results:"
   ]
  },
  {
   "cell_type": "code",
   "execution_count": 156,
   "metadata": {},
   "outputs": [],
   "source": [
    "prosilicoCall = prosilicobaseURL + smiles + '&confidence=' + str(confidence)\n",
    "prosilicoResultJSON = requests.get(prosilicoCall).content\n",
    "prosilicoResult = json.loads(prosilicoResultJSON)"
   ]
  },
  {
   "cell_type": "markdown",
   "metadata": {},
   "source": [
    "Let us inspect the full JSON result:"
   ]
  },
  {
   "cell_type": "code",
   "execution_count": 157,
   "metadata": {},
   "outputs": [
    {
     "name": "stdout",
     "output_type": "stream",
     "text": [
      "{'CLH': 505.5425602239618,\n",
      " 'CLint': {'lower': 2890.6798823654744,\n",
      "           'mid': 19054.607179632483,\n",
      "           'upper': 74131.02413009177,\n",
      "           'url': 'http://m37-modelingweb-deploy.osprod.pharmb.io/v1/predict?&molecule=CC1%3DCN%3DC(C(%3DC1OC)C)CS(%3DO)C2%3DNC3%3DC(N2)C%3DC(C%3DC3)OC&confidence=0.7'},\n",
      " 'F': 0.49517350784581526,\n",
      " 'Vss': {'lower': 0.11117317272815914,\n",
      "         'mid': 0.23988329190194904,\n",
      "         'upper': 0.5176068319505677,\n",
      "         'url': 'http://m38-modelingweb-deploy.osprod.pharmb.io/v1/predict?&molecule=CC1%3DCN%3DC(C(%3DC1OC)C)CS(%3DO)C2%3DNC3%3DC(N2)C%3DC(C%3DC3)OC&confidence=0.7'},\n",
      " 'fabs': {'lower': 0.834,\n",
      "          'mid': 0.97,\n",
      "          'upper': 1,\n",
      "          'url': 'http://m39-modelingweb-deploy.osprod.pharmb.io/v1/predict?&molecule=CC1%3DCN%3DC(C(%3DC1OC)C)CS(%3DO)C2%3DNC3%3DC(N2)C%3DC(C%3DC3)OC&confidence=0.7'},\n",
      " 'fdiss': {'lower': 0.438,\n",
      "           'mid': 0.77,\n",
      "           'upper': 1,\n",
      "           'url': 'http://m40-modelingweb-deploy.osprod.pharmb.io/v1/predict?&molecule=CC1%3DCN%3DC(C(%3DC1OC)C)CS(%3DO)C2%3DNC3%3DC(N2)C%3DC(C%3DC3)OC&confidence=0.7'},\n",
      " 'fu': {'lower': 0.008996532928849525,\n",
      "        'mid': 0.040018682017058875,\n",
      "        'upper': 0.16066936425303438,\n",
      "        'url': 'http://m41-modelingweb-deploy.osprod.pharmb.io/v1/predict?&molecule=CC1%3DCN%3DC(C(%3DC1OC)C)CS(%3DO)C2%3DNC3%3DC(N2)C%3DC(C%3DC3)OC&confidence=0.7'},\n",
      " 'rawData': {'CLintRaw': {'lower': 3.461, 'mid': 4.28, 'upper': 4.87},\n",
      "             'VssRaw': {'lower': -0.954, 'mid': -0.62, 'upper': -0.286},\n",
      "             'fabsRaw': {'lower': 0.834, 'mid': 0.97, 'upper': 1},\n",
      "             'fdissRaw': {'lower': 0.438, 'mid': 0.77, 'upper': 1.103},\n",
      "             'fuRaw': {'lower': 0.718, 'mid': 1.38, 'upper': 2.042}},\n",
      " 't2': 0.41092273357767717}\n"
     ]
    }
   ],
   "source": [
    "pprint.pprint(prosilicoResult)"
   ]
  },
  {
   "cell_type": "markdown",
   "metadata": {},
   "source": [
    "We can extract the five primary endpoints:"
   ]
  },
  {
   "cell_type": "code",
   "execution_count": 158,
   "metadata": {},
   "outputs": [
    {
     "name": "stdout",
     "output_type": "stream",
     "text": [
      "{'CLintRaw': {'lower': 3.461, 'mid': 4.28, 'upper': 4.87},\n",
      " 'VssRaw': {'lower': -0.954, 'mid': -0.62, 'upper': -0.286},\n",
      " 'fabsRaw': {'lower': 0.834, 'mid': 0.97, 'upper': 1},\n",
      " 'fdissRaw': {'lower': 0.438, 'mid': 0.77, 'upper': 1.103},\n",
      " 'fuRaw': {'lower': 0.718, 'mid': 1.38, 'upper': 2.042}}\n"
     ]
    }
   ],
   "source": [
    "pprint.pprint(prosilicoResult['rawData'])"
   ]
  },
  {
   "cell_type": "markdown",
   "metadata": {},
   "source": [
    "We can also look at the there secondary endpoints:"
   ]
  },
  {
   "cell_type": "code",
   "execution_count": 159,
   "metadata": {},
   "outputs": [
    {
     "name": "stdout",
     "output_type": "stream",
     "text": [
      "CLH:\t505.5425602239618\n",
      "F:\t0.49517350784581526\n",
      "t2:\t0.41092273357767717\n"
     ]
    }
   ],
   "source": [
    "print('CLH:\\t'+str(prosilicoResult['CLH']))\n",
    "print('F:\\t'+str(prosilicoResult['F']))\n",
    "print('t2:\\t'+str(prosilicoResult['t2']))"
   ]
  },
  {
   "cell_type": "markdown",
   "metadata": {},
   "source": [
    "## Integration with other OpenRiskNet services\n",
    "\n",
    "We will do a simple demonstration of calling OpenRiskNet services"
   ]
  },
  {
   "cell_type": "code",
   "execution_count": 160,
   "metadata": {},
   "outputs": [
    {
     "name": "stdout",
     "output_type": "stream",
     "text": [
      "b'{\"predictionMidpoint\":2.38,\"smiles\":\"O=S(C1=NC=2C=CC(OC)=CC2N1)CC3=NC=C(C(OC)=C3C)C\",\"lower\":2.102,\"upper\":2.658,\"confidence\":0.7}'\n"
     ]
    },
    {
     "data": {
      "text/html": [
       "<img src=\"https://cplogd.prod.openrisknet.org/v1/predictionImage?smiles=CC1=CN=C(C(=C1OC)C)CS(=O)C2=NC3=C(N2)C=C(C=C3)OC&imageWidth=600&imageHeight=600&addTitle=false&confidence=0.7\"/>"
      ],
      "text/plain": [
       "<IPython.core.display.Image object>"
      ]
     },
     "execution_count": 160,
     "metadata": {},
     "output_type": "execute_result"
    }
   ],
   "source": [
    "callUrl = 'https://cplogd.prod.openrisknet.org/v1/prediction?smiles='+smiles + '&confidence=' + str(confidence)\n",
    "imageURL='https://cplogd.prod.openrisknet.org/v1/predictionImage?smiles='+smiles +'&imageWidth=600&imageHeight=600&addTitle=false&confidence=' + str(confidence)\n",
    "result=requests.get(callUrl).content\n",
    "print(result)\n",
    "Image(url= imageURL)"
   ]
  }
 ],
 "metadata": {
  "kernelspec": {
   "display_name": "Python 3",
   "language": "python",
   "name": "python3"
  },
  "language_info": {
   "codemirror_mode": {
    "name": "ipython",
    "version": 3
   },
   "file_extension": ".py",
   "mimetype": "text/x-python",
   "name": "python",
   "nbconvert_exporter": "python",
   "pygments_lexer": "ipython3",
   "version": "3.7.2"
  }
 },
 "nbformat": 4,
 "nbformat_minor": 2
}
