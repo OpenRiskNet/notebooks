{
 "cells": [
  {
   "cell_type": "markdown",
   "metadata": {},
   "source": [
    "# eNanoMapper API in R"
   ]
  },
  {
   "cell_type": "markdown",
   "metadata": {},
   "source": [
    "This notebook will provide examples on how to download datasets in the various file formats provided on the [eNanoMapper](https://data.enanomapper.net/bundle) website, using R. \n",
    "\n",
    "---"
   ]
  },
  {
   "cell_type": "markdown",
   "metadata": {},
   "source": [
    "## Step 1 - Loading libraries\n",
    "___"
   ]
  },
  {
   "cell_type": "markdown",
   "metadata": {},
   "source": [
    "Set up environment by loading in the necessary libraries"
   ]
  },
  {
   "cell_type": "code",
   "execution_count": 1,
   "metadata": {},
   "outputs": [],
   "source": [
    "library(httr)\n",
    "library(jsonlite)"
   ]
  },
  {
   "cell_type": "markdown",
   "metadata": {},
   "source": [
    "## Step 2 - setting up working directory\n",
    "___"
   ]
  },
  {
   "cell_type": "markdown",
   "metadata": {},
   "source": [
    "Here we will set up the working directory to the preferable directory of your own choice. In this directory the downloaded files will be saved!"
   ]
  },
  {
   "cell_type": "code",
   "execution_count": null,
   "metadata": {},
   "outputs": [],
   "source": [
    "setwd() # Here you can fill in your own directory"
   ]
  },
  {
   "cell_type": "markdown",
   "metadata": {},
   "source": [
    "## Step 3 - Setting up variables\n",
    "___"
   ]
  },
  {
   "cell_type": "markdown",
   "metadata": {},
   "source": [
    "**datasetID** is the ID of the dataset. In this case we will use, as example, **NanoWiki**. This database has the ID: 20. \n",
    "\n",
    "**startPage** is the starting page we would like to use. In this case we will start at the beginning, so this variable will be 0.\n",
    "\n",
    "**pagesize** is the amount of pages we would like to include, this van be 10, 20, 50 or 100. However, in this case we would like to include all so we set this variable to all.\n",
    "\n",
    "**path** is the path we are going to use to download our files from. for eNanoMapper the path is https://data.enanomapper.net:443 which will direct you to the eNanoMapper data webpage."
   ]
  },
  {
   "cell_type": "code",
   "execution_count": 2,
   "metadata": {},
   "outputs": [],
   "source": [
    "datasetID <- \"20\"\n",
    "startPage <- 0\n",
    "pagesize <- \"all\"\n",
    "path <- \"https://data.enanomapper.net:443\""
   ]
  },
  {
   "cell_type": "markdown",
   "metadata": {},
   "source": [
    "## Step 4 - Downloading the files\n",
    "___"
   ]
  },
  {
   "cell_type": "markdown",
   "metadata": {},
   "source": [
    "First off we will start with the **excel** spreadsheet. "
   ]
  },
  {
   "cell_type": "code",
   "execution_count": null,
   "metadata": {},
   "outputs": [],
   "source": [
    "request_bundle <- GET(url = path,  path = paste0(\"bundle/\", datasetID, \"/substance\"), query = list(\n",
    "  mergeDatasets = T,\n",
    "  page = startPage, \n",
    "  pagesize = pagesize,\n",
    "  media = \"application/vnd.openxmlformats-officedocument.spreadsheetml.sheet\"),\n",
    "  write_disk(paste0(\"bundle_\", datasetID, \".xlsx\"), overwrite = T))"
   ]
  },
  {
   "cell_type": "markdown",
   "metadata": {},
   "source": [
    "Next we will download the **CSV** file"
   ]
  },
  {
   "cell_type": "code",
   "execution_count": null,
   "metadata": {},
   "outputs": [],
   "source": [
    "request_bundle <- GET(url = path,  path = paste0(\"bundle/\", datasetID, \"/substance\"), query = list(\n",
    "  mergeDatasets = F,\n",
    "  page = startPage, \n",
    "  pagesize = pagesize,\n",
    "  media = \"text/csv\"),\n",
    "  write_disk(paste0(\"bundle_\", datasetID, \"_CSV.txt\"), overwrite = T))"
   ]
  },
  {
   "cell_type": "markdown",
   "metadata": {},
   "source": [
    "Now the **JSON** format"
   ]
  },
  {
   "cell_type": "code",
   "execution_count": null,
   "metadata": {},
   "outputs": [],
   "source": [
    "request_bundle <- GET(url = path,  path = paste0(\"bundle/\", datasetID, \"/substance\"), query = list(\n",
    "  mergeDatasets = F,\n",
    "  page = startPage, \n",
    "  pagesize = pagesize,\n",
    "  media = \"application/json\"),\n",
    "  write_disk(paste0(\"bundle_\", datasetID, \"_JSON.txt\"), overwrite = T))"
   ]
  },
  {
   "cell_type": "markdown",
   "metadata": {},
   "source": [
    "Next the **JSON-LD** file"
   ]
  },
  {
   "cell_type": "code",
   "execution_count": null,
   "metadata": {},
   "outputs": [],
   "source": [
    "request_bundle <- GET(url = path,  path = paste0(\"bundle/\", datasetID, \"/substance\"), query = list(\n",
    "  mergeDatasets = F,\n",
    "  page = startPage, \n",
    "  pagesize = pagesize,\n",
    "  media = \"application/ld+json\"),\n",
    "  write_disk(paste0(\"bundle_\", datasetID, \"_JSONLD.jsonld\"), overwrite = T))"
   ]
  },
  {
   "cell_type": "markdown",
   "metadata": {},
   "source": [
    "Next, the **RDF** file"
   ]
  },
  {
   "cell_type": "code",
   "execution_count": null,
   "metadata": {},
   "outputs": [],
   "source": [
    "request_bundle <- GET(url = path,  path = paste0(\"bundle/\", datasetID, \"/substance\"), query = list(\n",
    "  mergeDatasets = F,\n",
    "  page = startPage, \n",
    "  pagesize = pagesize,\n",
    "  media = \"text/n3\"),\n",
    "  write_disk(paste0(\"bundle_\", datasetID, \"_RDF.n3\"), overwrite = T))"
   ]
  },
  {
   "cell_type": "markdown",
   "metadata": {},
   "source": [
    "At last the **XML** file"
   ]
  },
  {
   "cell_type": "code",
   "execution_count": null,
   "metadata": {},
   "outputs": [],
   "source": [
    "path <- \"https://data.enanomapper.net:443\"\n",
    "request_bundle <- GET(url = path,  path = paste0(\"bundle/\", datasetID, \"/substance\"), query = list(\n",
    "  mergeDatasets = F,\n",
    "  page = startPage, \n",
    "  pagesize = pagesize,\n",
    "  media = \"application/rdf+xml\"),\n",
    "  write_disk(paste0(\"bundle_\", datasetID, \"_XML.rdf\"), overwrite = T))"
   ]
  },
  {
   "cell_type": "markdown",
   "metadata": {},
   "source": [
    "---"
   ]
  },
  {
   "cell_type": "markdown",
   "metadata": {},
   "source": [
    "### Session info"
   ]
  },
  {
   "cell_type": "code",
   "execution_count": 4,
   "metadata": {},
   "outputs": [
    {
     "data": {
      "text/plain": [
       "R version 3.6.1 (2019-07-05)\n",
       "Platform: i386-w64-mingw32/i386 (32-bit)\n",
       "Running under: Windows 10 x64 (build 17763)\n",
       "\n",
       "Matrix products: default\n",
       "\n",
       "locale:\n",
       "[1] LC_COLLATE=English_Netherlands.1252  LC_CTYPE=English_Netherlands.1252   \n",
       "[3] LC_MONETARY=English_Netherlands.1252 LC_NUMERIC=C                        \n",
       "[5] LC_TIME=English_Netherlands.1252    \n",
       "\n",
       "attached base packages:\n",
       "[1] stats     graphics  grDevices utils     datasets  methods   base     \n",
       "\n",
       "other attached packages:\n",
       "[1] jsonlite_1.6 httr_1.4.1  \n",
       "\n",
       "loaded via a namespace (and not attached):\n",
       " [1] Rcpp_1.0.2      digest_0.6.20   crayon_1.3.4    IRdisplay_0.7.0\n",
       " [5] repr_1.0.1      R6_2.4.0        evaluate_0.14   pillar_1.4.2   \n",
       " [9] rlang_0.4.0     uuid_0.1-2      IRkernel_1.0.2  tools_3.6.1    \n",
       "[13] compiler_3.6.1  base64enc_0.1-3 htmltools_0.3.6 pbdZMQ_0.3-3   "
      ]
     },
     "metadata": {},
     "output_type": "display_data"
    }
   ],
   "source": [
    "sessionInfo()"
   ]
  }
 ],
 "metadata": {
  "kernelspec": {
   "display_name": "R",
   "language": "R",
   "name": "ir"
  },
  "language_info": {
   "codemirror_mode": "r",
   "file_extension": ".r",
   "mimetype": "text/x-r-source",
   "name": "R",
   "pygments_lexer": "r",
   "version": "3.6.1"
  }
 },
 "nbformat": 4,
 "nbformat_minor": 4
}
