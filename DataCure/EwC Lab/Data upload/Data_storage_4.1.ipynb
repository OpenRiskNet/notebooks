{
 "cells": [
  {
   "cell_type": "markdown",
   "metadata": {},
   "source": [
    "## Edelweiss use case: storing the in-house generated raw data (version 2.0)\n",
    "\n",
    "**Goal:** start with the laboratory generated excel file, which contains metadata and measurements of the assay plate. The script creates a csv file, which is ready to be uploaded to Edelweiss.\n",
    "\n",
    "**Description:** the excel file contains:\n",
    "- \"Metadata\" sheet with info regarding the study\n",
    "- \"Test items\" sheet with info on compound properies (SMILES, CAS, etc.)\n",
    "- \"Plate design\" sheet with three assay plate layouts (one for description of the well content,one for the compound name and one for the concentration)\n",
    "- \"Results raw data #\" sheet(s) with the number in the name corresponding to the number of the experimental run\n",
    "\n",
    "**Note:** The final csv file has the same name as the source excel file (except for the extension, of course)."
   ]
  },
  {
   "cell_type": "markdown",
   "metadata": {},
   "source": [
    "### Set the filename of the original dataset"
   ]
  },
  {
   "cell_type": "code",
   "execution_count": 1,
   "metadata": {},
   "outputs": [],
   "source": [
    "filename = \"HepG2 MTT 72h Thioacetamide 20190607 - upload test.xlsx\""
   ]
  },
  {
   "cell_type": "markdown",
   "metadata": {},
   "source": [
    "### Import libraries"
   ]
  },
  {
   "cell_type": "code",
   "execution_count": 2,
   "metadata": {},
   "outputs": [],
   "source": [
    "import pandas as pd\n",
    "import re"
   ]
  },
  {
   "cell_type": "markdown",
   "metadata": {},
   "source": [
    "### Check that pandas version is 0.23.4"
   ]
  },
  {
   "cell_type": "code",
   "execution_count": 3,
   "metadata": {},
   "outputs": [],
   "source": [
    "if pd.__version__  != '0.23.4':\n",
    "    !pip install pandas==0.23.4\n",
    "    import pandas as pd\n",
    "    print(pd.__version__)"
   ]
  },
  {
   "cell_type": "code",
   "execution_count": 4,
   "metadata": {},
   "outputs": [
    {
     "name": "stdout",
     "output_type": "stream",
     "text": [
      "Pandas version: 0.23.4\n"
     ]
    }
   ],
   "source": [
    "print('Pandas version:', pd.__version__)"
   ]
  },
  {
   "cell_type": "markdown",
   "metadata": {},
   "source": [
    "### Read the raw excel file & extract assay plate design, concentrations, responses"
   ]
  },
  {
   "cell_type": "code",
   "execution_count": 5,
   "metadata": {},
   "outputs": [],
   "source": [
    "df = pd.read_excel(filename, sheet_name=None, dtype=object, index_col=None)"
   ]
  },
  {
   "cell_type": "code",
   "execution_count": 6,
   "metadata": {},
   "outputs": [],
   "source": [
    "def addNamesToThePlate(plate):\n",
    "    plate.index.name = \"Row\"\n",
    "    plate.columns.name = \"Column\"\n",
    "    return plate"
   ]
  },
  {
   "cell_type": "code",
   "execution_count": 7,
   "metadata": {},
   "outputs": [],
   "source": [
    "plateDesign = addNamesToThePlate( df['Plate design'].iloc[0:8, 0:12])\n",
    "plateTestItems = addNamesToThePlate( df['Plate design'].iloc[10:18, 0:12])\n",
    "plateConcentrations = addNamesToThePlate(df['Plate design'].iloc[20:28, 0:12])"
   ]
  },
  {
   "cell_type": "markdown",
   "metadata": {},
   "source": [
    "### Collect plates with responses for different experiments"
   ]
  },
  {
   "cell_type": "markdown",
   "metadata": {},
   "source": [
    "Extract the assay plates with responses. There may be several such assay plates within a given excel file. However, they should differ in at least the experiment number (and data/time). The experiment number is extracted from the name of the sheet. Date and time are extracted from the heading in the sheet. All this data is collected in a dictionary `plateResponses`. For each experiment number a nested dictionary is created with the \"plate\", \"date\" and \"time\" keys."
   ]
  },
  {
   "cell_type": "code",
   "execution_count": 8,
   "metadata": {},
   "outputs": [],
   "source": [
    "def reorganizePlate(plate):\n",
    "    plate.set_index(plate.iloc[:,0], inplace=True)\n",
    "    plate.columns = plate.iloc[0, :].fillna(0).astype(int)\n",
    "    plate.index.name = \"Row\"\n",
    "    plate.columns.name = \"Column\"\n",
    "    plate = plate.iloc[1:,1:]\n",
    "    return plate"
   ]
  },
  {
   "cell_type": "code",
   "execution_count": 9,
   "metadata": {},
   "outputs": [
    {
     "name": "stdout",
     "output_type": "stream",
     "text": [
      "Metadata\n",
      "Test items\n",
      "Plate design\n",
      "Results raw data #1\n",
      "Thioacetamide\n"
     ]
    }
   ],
   "source": [
    "plateResponses = {}  # start a dictionary that will collect assay plates for different experiment numbers\n",
    "\n",
    "for key in df.keys():\n",
    "    print(key)\n",
    "    try:\n",
    "        experimentNumber = key.split('#')[1]       \n",
    "    except:\n",
    "        experimentNumber = None\n",
    "        \n",
    "    # if experiment number is not None, then it is a valid assay data sheet and we should proceed with extracting additional info (date, time, responses)\n",
    "    if experimentNumber is not None:\n",
    "        topLine = df[key].columns[3].split()\n",
    "        botLine = df[key].iloc[0, 3].split()\n",
    "        \n",
    "        # remove the first element in each line\n",
    "        topLine = topLine[1:]\n",
    "        botLine = botLine[1:]\n",
    "        \n",
    "        # remove the elements of top line from the bottom line\n",
    "        for item in topLine:\n",
    "            botLine.remove(item)\n",
    "            \n",
    "        # recognize date as XXXX.XX.XX and time as XX:XX:XX and remove them from list (so only compound name remains)\n",
    "        rDate = re.compile(\"(\\d+\\.\\d+\\.\\d+)\")\n",
    "        rTime = re.compile(\"(\\d+\\:\\d+\\:\\d+)\")\n",
    "        date = list(filter(rDate.match, botLine))[0]\n",
    "        time = list(filter(rTime.match, botLine))[0]\n",
    "        botLine.remove(date)\n",
    "        botLine.remove(time)\n",
    "        \n",
    "        # extract compound if the list is not empty\n",
    "        if botLine:\n",
    "            compound = \" \".join(botLine)\n",
    "            print(compound)\n",
    "        else:\n",
    "            print('No compound defined')        \n",
    "        \n",
    "        plateResponses[experimentNumber] = {}\n",
    "        plateResponses[experimentNumber]['plate'] = reorganizePlate(df[key].iloc[7:16, 4:17])\n",
    "        plateResponses[experimentNumber]['date'] = date\n",
    "        plateResponses[experimentNumber]['time'] = time"
   ]
  },
  {
   "cell_type": "markdown",
   "metadata": {},
   "source": [
    "### Collect properties of test items (sort of meta data)"
   ]
  },
  {
   "cell_type": "markdown",
   "metadata": {},
   "source": [
    "Collect test items properties (from a \"Test items\" sheet) in a dictionary `dictTestItems` that will be used later to map the specific test item to its SMILES, CAS, etc. The primary key is a test item (compound name), which then points to the nested dictionary with compounds properties.\n",
    "\n",
    "But first, we need to create a \"temporary\" dictionary `d` (which is not useful for the mapping), which will subsequently be transformed to an actually useful dictionary `dictTestItems`."
   ]
  },
  {
   "cell_type": "code",
   "execution_count": 10,
   "metadata": {},
   "outputs": [],
   "source": [
    "d = df['Test items'].set_index('Test item').to_dict(orient='index')"
   ]
  },
  {
   "cell_type": "code",
   "execution_count": 11,
   "metadata": {},
   "outputs": [],
   "source": [
    "dictTestItems = {}\n",
    "\n",
    "# loop through primary keys (test items)\n",
    "for key, value in d.items():\n",
    "    # loop through secondary keys (compound properties)\n",
    "    for key2, value2 in value.items():\n",
    "        # if the key already exists, append the property to it. Otherwise, create a nested dictionary and append the property to it.\n",
    "        if key2 in dictTestItems:\n",
    "            dictTestItems[key2][key] = value2\n",
    "        else:\n",
    "            dictTestItems[key2] = {}\n",
    "            dictTestItems[key2][key] = value2"
   ]
  },
  {
   "cell_type": "markdown",
   "metadata": {},
   "source": [
    "### Build final dataframe"
   ]
  },
  {
   "cell_type": "markdown",
   "metadata": {},
   "source": [
    "Initiate dataframe `data` that will store assay plate descriptions and measurements in a more convenient form (each row of dataframe `data` corresponds to a single plate well). Extract information on compound, replicate and concentration from the assay plate descriptions.\n",
    "\n",
    "First the dataframe `subdata` is created for each experiment number (assay plate), and then these are concatenated into a dataframe `data`."
   ]
  },
  {
   "cell_type": "code",
   "execution_count": 12,
   "metadata": {},
   "outputs": [],
   "source": [
    "data = pd.DataFrame()\n",
    "\n",
    "for key in plateResponses:\n",
    "    subdata = pd.DataFrame()\n",
    "    \n",
    "    subdata['Well'] = plateDesign.stack()\n",
    "    subdata['Test item'] = plateTestItems.stack()\n",
    "\n",
    "    subdata['Concentration'] = plateConcentrations.stack().str.split().str[0]\n",
    "    subdata['Concentration unit'] = plateConcentrations.stack().str.split().str[1]  # add a concentration unit column!   \n",
    "\n",
    "    subdata['Response'] = plateResponses[key]['plate'].stack()\n",
    "    \n",
    "    # constant field for a given assay plate\n",
    "    subdata['Date'] = plateResponses[key]['date']\n",
    "    subdata['Time'] = plateResponses[key]['time']\n",
    "    subdata['Experiment number'] = int(key)\n",
    "    \n",
    "    # map compound properties to the compound name (\"test item\" column)\n",
    "    for key in dictTestItems:\n",
    "        subdata[key] = subdata['Test item'].map(dictTestItems[key])\n",
    "        \n",
    "    data = pd.concat([data, subdata], axis=0)\n",
    "\n",
    "data = data.reset_index()"
   ]
  },
  {
   "cell_type": "markdown",
   "metadata": {},
   "source": [
    "Collect the assay metadata in a series `meta`."
   ]
  },
  {
   "cell_type": "code",
   "execution_count": 13,
   "metadata": {},
   "outputs": [],
   "source": [
    "meta = df['Metadata'].transpose()\n",
    "meta.columns = meta.loc[\"Column Name\"]\n",
    "meta = meta.loc[\"Value\", :]"
   ]
  },
  {
   "cell_type": "markdown",
   "metadata": {},
   "source": [
    "Some column names (e.g. Time unit) are repeated. These should be treated such that they become unique."
   ]
  },
  {
   "cell_type": "code",
   "execution_count": 14,
   "metadata": {},
   "outputs": [],
   "source": [
    "d = pd.DataFrame(meta).transpose()\n",
    "for i in data.index:\n",
    "    d = d.append(meta, ignore_index=True)\n",
    "d = d[:-1]\n",
    "d.index = data.index"
   ]
  },
  {
   "cell_type": "code",
   "execution_count": 15,
   "metadata": {},
   "outputs": [],
   "source": [
    "#for index, value in meta.items():\n",
    "#    data[index] = value\n",
    "\n",
    "data = pd.concat([data, d], axis=1)"
   ]
  },
  {
   "cell_type": "code",
   "execution_count": 16,
   "metadata": {},
   "outputs": [],
   "source": [
    "fileCSV = filename[:-5] + \".csv\"\n",
    "data.to_csv(fileCSV, index=False)"
   ]
  },
  {
   "cell_type": "markdown",
   "metadata": {},
   "source": [
    "### Upload to EdelweissData"
   ]
  },
  {
   "cell_type": "code",
   "execution_count": 17,
   "metadata": {},
   "outputs": [],
   "source": [
    "def uploadCSVandSchema(base, fileName, schemaName, collectionName, datasetName, position):\n",
    "    import requests\n",
    "    import json\n",
    "        \n",
    "    # Create collection\n",
    "    payload = {\n",
    "      \"name\": collectionName\n",
    "    }\n",
    "    \n",
    "    url = base + '/collections'\n",
    "    r = requests.post(url, data=json.dumps(payload))\n",
    "    \n",
    "    if r.status_code == 200:\n",
    "        print('Collection created')\n",
    "    else:\n",
    "        print('Creating collection failed')\n",
    "        return \"\"\n",
    "        \n",
    "    collectionId = r.json()['id']\n",
    "\n",
    "    \n",
    "    # Create dataset\n",
    "    payload = {\n",
    "      \"datasetCollectionId\": collectionId,\n",
    "      \"name\": datasetName,\n",
    "      \"position\": position\n",
    "    }\n",
    "    \n",
    "    url = base + '/datasets/in-progress'\n",
    "    r = requests.post(url, data=json.dumps(payload))\n",
    "\n",
    "    if r.status_code == 200:\n",
    "        print('Dataset created')\n",
    "    else:\n",
    "        print('Creating dataset failed')\n",
    "        return \"\"\n",
    "    \n",
    "    datasetId = r.json()['id']\n",
    "\n",
    "\n",
    "    # Upload dataset and schema\n",
    "    url = base + '/datasets/in-progress/' + datasetId + '/upload-data-and-schema'\n",
    "\n",
    "    files = {\n",
    "        'data': open(fileName, 'rb'),\n",
    "        'schema': open(schemaName, 'rb')\n",
    "    }\n",
    "    \n",
    "    r = requests.post(url=url, files=files)\n",
    "    \n",
    "    if r.status_code == 200:\n",
    "        print('Dataset uploaded')\n",
    "    else:\n",
    "        print('Uploading dataset failed')\n",
    "        return \"\"\n",
    "    \n",
    "    \n",
    "    # Publish dataset\n",
    "    url = base + '/datasets/in-progress/' + datasetId + '/publish'\n",
    "\n",
    "    r = requests.post(url=url)\n",
    "    \n",
    "    if r.status_code == 200:\n",
    "        print('Successfully published dataset')\n",
    "    else:\n",
    "        print('Publishing failed')\n",
    "        return \"\"\n",
    "    return datasetId"
   ]
  },
  {
   "cell_type": "code",
   "execution_count": 18,
   "metadata": {},
   "outputs": [],
   "source": [
    "def uploadCSV(base, fileName, collectionName, datasetName, position):\n",
    "    import requests\n",
    "    import json\n",
    "        \n",
    "    # Create collection\n",
    "    payload = {\n",
    "      \"name\": collectionName\n",
    "    }\n",
    "    \n",
    "    url = base + '/collections'\n",
    "    r = requests.post(url, data=json.dumps(payload))\n",
    "    \n",
    "    if r.status_code == 200:\n",
    "        print('Collection created')\n",
    "    else:\n",
    "        print('Creating collection failed')\n",
    "        return \"\"\n",
    "        \n",
    "    collectionId = r.json()['id']\n",
    "\n",
    "    \n",
    "    # Create dataset\n",
    "    payload = {\n",
    "      \"datasetCollectionId\": collectionId,\n",
    "      \"name\": datasetName,\n",
    "      \"position\": position\n",
    "    }\n",
    "    \n",
    "    url = base + '/datasets/in-progress'\n",
    "    r = requests.post(url, data=json.dumps(payload))\n",
    "\n",
    "    if r.status_code == 200:\n",
    "        print('Dataset created')\n",
    "    else:\n",
    "        print('Creating dataset failed')\n",
    "        return \"\"\n",
    "    \n",
    "    datasetId = r.json()['id']\n",
    "\n",
    "\n",
    "    # Upload dataset\n",
    "    url = base + '/datasets/in-progress/' + datasetId + '/upload-data'\n",
    "\n",
    "    files = {\n",
    "        'data': open(fileName, 'rb')\n",
    "    }\n",
    "    \n",
    "    r = requests.post(url=url, files=files)\n",
    "    \n",
    "    if r.status_code == 200:\n",
    "        print('Dataset uploaded')\n",
    "    else:\n",
    "        print('Uploading dataset failed')\n",
    "        return \"\"\n",
    "    \n",
    "    \n",
    "    # Publish dataset\n",
    "    url = base + '/datasets/in-progress/' + datasetId + '/publish'\n",
    "\n",
    "    r = requests.post(url=url)\n",
    "    \n",
    "    if r.status_code == 200:\n",
    "        print('Successfully published dataset')\n",
    "    else:\n",
    "        print('Publishing failed')\n",
    "        return \"\"\n",
    "    return datasetId"
   ]
  },
  {
   "cell_type": "code",
   "execution_count": 19,
   "metadata": {},
   "outputs": [
    {
     "name": "stdout",
     "output_type": "stream",
     "text": [
      "Collection created\n",
      "Dataset created\n",
      "Dataset uploaded\n",
      "Successfully published dataset\n"
     ]
    },
    {
     "data": {
      "text/html": [
       "<a href=https://dataexplorer.edelweiss.douglasconnect.com?dataset=f7f23461-89cc-493f-8baf-44716db10db7>TAKE ME TO DATASET</a>"
      ],
      "text/plain": [
       "<IPython.core.display.HTML object>"
      ]
     },
     "metadata": {},
     "output_type": "display_data"
    }
   ],
   "source": [
    "# Set the name of collection\n",
    "collectionName = filename[:-5] + \"_collection\"\n",
    "datasetName = filename[:-5] + \"_dataset\"\n",
    "position= 0  # position in collection\n",
    "\n",
    "registry = 'https://registry.edelweiss.douglasconnect.com'\n",
    "#registry = 'https://registry.develop.edelweiss.douglasconnect.com'  \n",
    "\n",
    "linkToEdelweiss = registry.replace('registry', 'dataexplorer')\n",
    "fileSchema = \"schema.json\"\n",
    "\n",
    "datasetId = uploadCSVandSchema(registry, fileCSV, fileSchema, collectionName, datasetName, position)\n",
    "linkToEdelweiss = linkToEdelweiss + \"?dataset=\" + datasetId\n",
    "\n",
    "from IPython.core.display import display, HTML\n",
    "display(HTML(\"<a href=\" + linkToEdelweiss + \">TAKE ME TO DATASET</a>\"))"
   ]
  },
  {
   "cell_type": "markdown",
   "metadata": {},
   "source": [
    "### Visualize assay plates"
   ]
  },
  {
   "cell_type": "code",
   "execution_count": 20,
   "metadata": {},
   "outputs": [],
   "source": [
    "try:\n",
    "    import altair as alt\n",
    "except ModuleNotFoundError:\n",
    "    !pip install altair==2.3.0\n",
    "    import altair as alt\n",
    "    \n",
    "import numpy as np\n",
    "import matplotlib.pyplot as plt\n",
    "%matplotlib inline"
   ]
  },
  {
   "cell_type": "code",
   "execution_count": 21,
   "metadata": {},
   "outputs": [],
   "source": [
    "chart = []\n",
    "\n",
    "for en in data['Experiment number'].unique():\n",
    "    # select a subset with a given experiment number\n",
    "    g = data[data['Experiment number'] == en]\n",
    "    g = g[['Row', 'Column', 'Response', 'Test item', 'Concentration', 'Concentration unit']].fillna(0.)\n",
    "    \n",
    "    \n",
    "    chart.append(alt.Chart(\n",
    "        g,\n",
    "        title = \"Experiment number: \" + str(en)\n",
    "    ).mark_rect().encode(\n",
    "        y='Row:O',\n",
    "        x='Column:O',\n",
    "        color=alt.Color(\n",
    "            'Response:Q',\n",
    "            scale=alt.Scale(scheme='plasma')\n",
    "        ),\n",
    "        tooltip = [\n",
    "            alt.Tooltip('Response:Q', title=\"response\"),\n",
    "            alt.Tooltip('Test item:N', title='compound'),\n",
    "            alt.Tooltip('Concentration:Q', title='conc.'),\n",
    "            alt.Tooltip('Concentration unit:N', title='unit')\n",
    "        ]\n",
    "    ).properties(width=300, height=200))\n"
   ]
  },
  {
   "cell_type": "code",
   "execution_count": 22,
   "metadata": {},
   "outputs": [
    {
     "data": {
      "application/vnd.vegalite.v3+json": {
       "$schema": "https://vega.github.io/schema/vega-lite/v3.4.0.json",
       "config": {
        "mark": {
         "tooltip": null
        },
        "view": {
         "height": 300,
         "width": 400
        }
       },
       "data": {
        "name": "data-19fb1bf081f410778f4da7173032a4af"
       },
       "datasets": {
        "data-19fb1bf081f410778f4da7173032a4af": [
         {
          "Column": 1,
          "Concentration": 0,
          "Concentration unit": 0,
          "Response": 0.0414344229535225,
          "Row": "A",
          "Test item": 0
         },
         {
          "Column": 2,
          "Concentration": 0,
          "Concentration unit": 0,
          "Response": 0.0232485565873514,
          "Row": "A",
          "Test item": 0
         },
         {
          "Column": 3,
          "Concentration": 0,
          "Concentration unit": 0,
          "Response": 0.0264989376528296,
          "Row": "A",
          "Test item": 0
         },
         {
          "Column": 4,
          "Concentration": 0,
          "Concentration unit": 0,
          "Response": 0.0264989376528296,
          "Row": "A",
          "Test item": 0
         },
         {
          "Column": 5,
          "Concentration": 0,
          "Concentration unit": 0,
          "Response": 0.0244646004782765,
          "Row": "A",
          "Test item": 0
         },
         {
          "Column": 6,
          "Concentration": 0,
          "Concentration unit": 0,
          "Response": 0.0343175110841609,
          "Row": "A",
          "Test item": 0
         },
         {
          "Column": 7,
          "Concentration": 0,
          "Concentration unit": 0,
          "Response": 0.0260913071586809,
          "Row": "A",
          "Test item": 0
         },
         {
          "Column": 8,
          "Concentration": 0,
          "Concentration unit": 0,
          "Response": 0.0322463062058282,
          "Row": "A",
          "Test item": 0
         },
         {
          "Column": 9,
          "Concentration": 0,
          "Concentration unit": 0,
          "Response": 0.0224397482037707,
          "Row": "A",
          "Test item": 0
         },
         {
          "Column": 10,
          "Concentration": 0,
          "Concentration unit": 0,
          "Response": 0.0289527881219857,
          "Row": "A",
          "Test item": 0
         },
         {
          "Column": 11,
          "Concentration": 0,
          "Concentration unit": 0,
          "Response": 0.0285428490049443,
          "Row": "A",
          "Test item": 0
         },
         {
          "Column": 12,
          "Concentration": 0,
          "Concentration unit": 0,
          "Response": 0.0318332479378627,
          "Row": "A",
          "Test item": 0
         },
         {
          "Column": 1,
          "Concentration": 0,
          "Concentration unit": 0,
          "Response": 0.0435500219693338,
          "Row": "B",
          "Test item": 0
         },
         {
          "Column": 2,
          "Concentration": "20000",
          "Concentration unit": "μM",
          "Response": 3.53591779402074,
          "Row": "B",
          "Test item": "Thioacetamide"
         },
         {
          "Column": 3,
          "Concentration": "10000",
          "Concentration unit": "μM",
          "Response": 3.15086936451401,
          "Row": "B",
          "Test item": "Thioacetamide"
         },
         {
          "Column": 4,
          "Concentration": "5000",
          "Concentration unit": "μM",
          "Response": 3.69052050080723,
          "Row": "B",
          "Test item": "Thioacetamide"
         },
         {
          "Column": 5,
          "Concentration": "2500",
          "Concentration unit": "μM",
          "Response": 3.22378254629664,
          "Row": "B",
          "Test item": "Thioacetamide"
         },
         {
          "Column": 6,
          "Concentration": "1250",
          "Concentration unit": "μM",
          "Response": 3.288345375443,
          "Row": "B",
          "Test item": "Thioacetamide"
         },
         {
          "Column": 7,
          "Concentration": "625",
          "Concentration unit": "μM",
          "Response": 3.84421732037746,
          "Row": "B",
          "Test item": "Thioacetamide"
         },
         {
          "Column": 8,
          "Concentration": "312.5",
          "Concentration unit": "μM",
          "Response": 3.18591530785237,
          "Row": "B",
          "Test item": "Thioacetamide"
         },
         {
          "Column": 9,
          "Concentration": "156.25",
          "Concentration unit": "μM",
          "Response": 4.11765101146715,
          "Row": "B",
          "Test item": "Thioacetamide"
         },
         {
          "Column": 10,
          "Concentration": "78.13",
          "Concentration unit": "μM",
          "Response": 4.03498747437436,
          "Row": "B",
          "Test item": "Thioacetamide"
         },
         {
          "Column": 11,
          "Concentration": "0",
          "Concentration unit": "μM",
          "Response": 3.80234487689479,
          "Row": "B",
          "Test item": "Thioacetamide"
         },
         {
          "Column": 12,
          "Concentration": 0,
          "Concentration unit": 0,
          "Response": 0.0359816165550664,
          "Row": "B",
          "Test item": 0
         },
         {
          "Column": 1,
          "Concentration": 0,
          "Concentration unit": 0,
          "Response": 0.0473842664589922,
          "Row": "C",
          "Test item": 0
         },
         {
          "Column": 2,
          "Concentration": "20000",
          "Concentration unit": "μM",
          "Response": 3.70818420592201,
          "Row": "C",
          "Test item": "Thioacetamide"
         },
         {
          "Column": 3,
          "Concentration": "10000",
          "Concentration unit": "μM",
          "Response": 3.30158754808945,
          "Row": "C",
          "Test item": "Thioacetamide"
         },
         {
          "Column": 4,
          "Concentration": "5000",
          "Concentration unit": "μM",
          "Response": 3.51207130228258,
          "Row": "C",
          "Test item": "Thioacetamide"
         },
         {
          "Column": 5,
          "Concentration": "2500",
          "Concentration unit": "μM",
          "Response": 3.15540024373979,
          "Row": "C",
          "Test item": "Thioacetamide"
         },
         {
          "Column": 6,
          "Concentration": "1250",
          "Concentration unit": "μM",
          "Response": 3.675905754336,
          "Row": "C",
          "Test item": "Thioacetamide"
         },
         {
          "Column": 7,
          "Concentration": "625",
          "Concentration unit": "μM",
          "Response": 3.48171986207441,
          "Row": "C",
          "Test item": "Thioacetamide"
         },
         {
          "Column": 8,
          "Concentration": "312.5",
          "Concentration unit": "μM",
          "Response": 3.26322502500042,
          "Row": "C",
          "Test item": "Thioacetamide"
         },
         {
          "Column": 9,
          "Concentration": "156.25",
          "Concentration unit": "μM",
          "Response": 3.61855782198242,
          "Row": "C",
          "Test item": "Thioacetamide"
         },
         {
          "Column": 10,
          "Concentration": "78.13",
          "Concentration unit": "μM",
          "Response": 3.87446207002982,
          "Row": "C",
          "Test item": "Thioacetamide"
         },
         {
          "Column": 11,
          "Concentration": "0",
          "Concentration unit": "μM",
          "Response": 3.63579334664937,
          "Row": "C",
          "Test item": "Thioacetamide"
         },
         {
          "Column": 12,
          "Concentration": 0,
          "Concentration unit": 0,
          "Response": 0.0322463062058282,
          "Row": "C",
          "Test item": 0
         },
         {
          "Column": 1,
          "Concentration": 0,
          "Concentration unit": 0,
          "Response": 0.0503900374179196,
          "Row": "D",
          "Test item": 0
         },
         {
          "Column": 2,
          "Concentration": "20000",
          "Concentration unit": "μM",
          "Response": 3.43983358413824,
          "Row": "D",
          "Test item": "Thioacetamide"
         },
         {
          "Column": 3,
          "Concentration": "10000",
          "Concentration unit": "μM",
          "Response": 3.3447718742912,
          "Row": "D",
          "Test item": "Thioacetamide"
         },
         {
          "Column": 4,
          "Concentration": "5000",
          "Concentration unit": "μM",
          "Response": 3.12555519986402,
          "Row": "D",
          "Test item": "Thioacetamide"
         },
         {
          "Column": 5,
          "Concentration": "2500",
          "Concentration unit": "μM",
          "Response": 3.43218993797372,
          "Row": "D",
          "Test item": "Thioacetamide"
         },
         {
          "Column": 6,
          "Concentration": "1250",
          "Concentration unit": "μM",
          "Response": 3.17383999048983,
          "Row": "D",
          "Test item": "Thioacetamide"
         },
         {
          "Column": 7,
          "Concentration": "625",
          "Concentration unit": "μM",
          "Response": 3.43302106418849,
          "Row": "D",
          "Test item": "Thioacetamide"
         },
         {
          "Column": 8,
          "Concentration": "312.5",
          "Concentration unit": "μM",
          "Response": 3.36138006386416,
          "Row": "D",
          "Test item": "Thioacetamide"
         },
         {
          "Column": 9,
          "Concentration": "156.25",
          "Concentration unit": "μM",
          "Response": 2.9634735634596,
          "Row": "D",
          "Test item": "Thioacetamide"
         },
         {
          "Column": 10,
          "Concentration": "78.13",
          "Concentration unit": "μM",
          "Response": 3.79822670335976,
          "Row": "D",
          "Test item": "Thioacetamide"
         },
         {
          "Column": 11,
          "Concentration": "0",
          "Concentration unit": "μM",
          "Response": 3.77044367046286,
          "Row": "D",
          "Test item": "Thioacetamide"
         },
         {
          "Column": 12,
          "Concentration": 0,
          "Concentration unit": 0,
          "Response": 0.0355649920156466,
          "Row": "D",
          "Test item": 0
         },
         {
          "Column": 1,
          "Concentration": 0,
          "Concentration unit": 0,
          "Response": 0.0397493327426599,
          "Row": "E",
          "Test item": 0
         },
         {
          "Column": 2,
          "Concentration": "20000",
          "Concentration unit": "μM",
          "Response": 3.94956470538787,
          "Row": "E",
          "Test item": "Thioacetamide"
         },
         {
          "Column": 3,
          "Concentration": "10000",
          "Concentration unit": "μM",
          "Response": 3.73339641492214,
          "Row": "E",
          "Test item": "Thioacetamide"
         },
         {
          "Column": 4,
          "Concentration": "5000",
          "Concentration unit": "μM",
          "Response": 3.2981436638828,
          "Row": "E",
          "Test item": "Thioacetamide"
         },
         {
          "Column": 5,
          "Concentration": "2500",
          "Concentration unit": "μM",
          "Response": 3.82405414115694,
          "Row": "E",
          "Test item": "Thioacetamide"
         },
         {
          "Column": 6,
          "Concentration": "1250",
          "Concentration unit": "μM",
          "Response": 3.64180605713725,
          "Row": "E",
          "Test item": "Thioacetamide"
         },
         {
          "Column": 7,
          "Concentration": "625",
          "Concentration unit": "μM",
          "Response": 2.56579394920841,
          "Row": "E",
          "Test item": "Thioacetamide"
         },
         {
          "Column": 8,
          "Concentration": "312.5",
          "Concentration unit": "μM",
          "Response": 3.47559773092199,
          "Row": "E",
          "Test item": "Thioacetamide"
         },
         {
          "Column": 9,
          "Concentration": "156.25",
          "Concentration unit": "μM",
          "Response": 3.42816081996667,
          "Row": "E",
          "Test item": "Thioacetamide"
         },
         {
          "Column": 10,
          "Concentration": "78.13",
          "Concentration unit": "μM",
          "Response": 3.90082154233969,
          "Row": "E",
          "Test item": "Thioacetamide"
         },
         {
          "Column": 11,
          "Concentration": "0",
          "Concentration unit": "μM",
          "Response": 4.34428839650197,
          "Row": "E",
          "Test item": "Thioacetamide"
         },
         {
          "Column": 12,
          "Concentration": 0,
          "Concentration unit": 0,
          "Response": 0.032659757708296,
          "Row": "E",
          "Test item": 0
         },
         {
          "Column": 1,
          "Concentration": 0,
          "Concentration unit": 0,
          "Response": 0.0452499528387286,
          "Row": "F",
          "Test item": 0
         },
         {
          "Column": 2,
          "Concentration": "20000",
          "Concentration unit": "μM",
          "Response": 3.63728873810966,
          "Row": "F",
          "Test item": "Thioacetamide"
         },
         {
          "Column": 3,
          "Concentration": "10000",
          "Concentration unit": "μM",
          "Response": 3.47239790445995,
          "Row": "F",
          "Test item": "Thioacetamide"
         },
         {
          "Column": 4,
          "Concentration": "5000",
          "Concentration unit": "μM",
          "Response": 3.75271761742737,
          "Row": "F",
          "Test item": "Thioacetamide"
         },
         {
          "Column": 5,
          "Concentration": "2500",
          "Concentration unit": "μM",
          "Response": 3.11517796441472,
          "Row": "F",
          "Test item": "Thioacetamide"
         },
         {
          "Column": 6,
          "Concentration": "1250",
          "Concentration unit": "μM",
          "Response": 3.84048097167172,
          "Row": "F",
          "Test item": "Thioacetamide"
         },
         {
          "Column": 7,
          "Concentration": "625",
          "Concentration unit": "μM",
          "Response": 3.47456664192412,
          "Row": "F",
          "Test item": "Thioacetamide"
         },
         {
          "Column": 8,
          "Concentration": "312.5",
          "Concentration unit": "μM",
          "Response": 3.45335173318555,
          "Row": "F",
          "Test item": "Thioacetamide"
         },
         {
          "Column": 9,
          "Concentration": "156.25",
          "Concentration unit": "μM",
          "Response": 3.24537894832651,
          "Row": "F",
          "Test item": "Thioacetamide"
         },
         {
          "Column": 10,
          "Concentration": "78.13",
          "Concentration unit": "μM",
          "Response": 3.1930975227514,
          "Row": "F",
          "Test item": "Thioacetamide"
         },
         {
          "Column": 11,
          "Concentration": "0",
          "Concentration unit": "μM",
          "Response": 4.00486624861782,
          "Row": "F",
          "Test item": "Thioacetamide"
         },
         {
          "Column": 12,
          "Concentration": 0,
          "Concentration unit": 0,
          "Response": 0.0318332479378627,
          "Row": "F",
          "Test item": 0
         },
         {
          "Column": 1,
          "Concentration": 0,
          "Concentration unit": 0,
          "Response": 0.0431260768975437,
          "Row": "G",
          "Test item": 0
         },
         {
          "Column": 2,
          "Concentration": "20000",
          "Concentration unit": "μM",
          "Response": 3.71869600209773,
          "Row": "G",
          "Test item": "Thioacetamide"
         },
         {
          "Column": 3,
          "Concentration": "10000",
          "Concentration unit": "μM",
          "Response": 3.33082528699257,
          "Row": "G",
          "Test item": "Thioacetamide"
         },
         {
          "Column": 4,
          "Concentration": "5000",
          "Concentration unit": "μM",
          "Response": 3.72111177515693,
          "Row": "G",
          "Test item": "Thioacetamide"
         },
         {
          "Column": 5,
          "Concentration": "2500",
          "Concentration unit": "μM",
          "Response": 3.37544918093013,
          "Row": "G",
          "Test item": "Thioacetamide"
         },
         {
          "Column": 6,
          "Concentration": "1250",
          "Concentration unit": "μM",
          "Response": 2.8993187864943,
          "Row": "G",
          "Test item": "Thioacetamide"
         },
         {
          "Column": 7,
          "Concentration": "625",
          "Concentration unit": "μM",
          "Response": 3.01829096152542,
          "Row": "G",
          "Test item": "Thioacetamide"
         },
         {
          "Column": 8,
          "Concentration": "312.5",
          "Concentration unit": "μM",
          "Response": 3.45872456216688,
          "Row": "G",
          "Test item": "Thioacetamide"
         },
         {
          "Column": 9,
          "Concentration": "156.25",
          "Concentration unit": "μM",
          "Response": 4.04127077960248,
          "Row": "G",
          "Test item": "Thioacetamide"
         },
         {
          "Column": 10,
          "Concentration": "78.13",
          "Concentration unit": "μM",
          "Response": 3.76082608579421,
          "Row": "G",
          "Test item": "Thioacetamide"
         },
         {
          "Column": 11,
          "Concentration": "0",
          "Concentration unit": "μM",
          "Response": 4.52708588506368,
          "Row": "G",
          "Test item": "Thioacetamide"
         },
         {
          "Column": 12,
          "Concentration": 0,
          "Concentration unit": 0,
          "Response": 0.0322463062058282,
          "Row": "G",
          "Test item": 0
         },
         {
          "Column": 1,
          "Concentration": 0,
          "Concentration unit": 0,
          "Response": 0.0397493327426599,
          "Row": "H",
          "Test item": 0
         },
         {
          "Column": 2,
          "Concentration": 0,
          "Concentration unit": 0,
          "Response": 0.028133296472635,
          "Row": "H",
          "Test item": 0
         },
         {
          "Column": 3,
          "Concentration": 0,
          "Concentration unit": 0,
          "Response": 0.0330736031947036,
          "Row": "H",
          "Test item": 0
         },
         {
          "Column": 4,
          "Concentration": 0,
          "Concentration unit": 0,
          "Response": 0.0351487667667384,
          "Row": "H",
          "Test item": 0
         },
         {
          "Column": 5,
          "Concentration": 0,
          "Concentration unit": 0,
          "Response": 0.0293631145542587,
          "Row": "H",
          "Test item": 0
         },
         {
          "Column": 6,
          "Concentration": 0,
          "Concentration unit": 0,
          "Response": 0.0273153482505303,
          "Row": "H",
          "Test item": 0
         },
         {
          "Column": 7,
          "Concentration": 0,
          "Concentration unit": 0,
          "Response": 0.0305964250785975,
          "Row": "H",
          "Test item": 0
         },
         {
          "Column": 8,
          "Concentration": 0,
          "Concentration unit": 0,
          "Response": 0.0285428490049443,
          "Row": "H",
          "Test item": 0
         },
         {
          "Column": 9,
          "Concentration": 0,
          "Concentration unit": 0,
          "Response": 0.0289527881219857,
          "Row": "H",
          "Test item": 0
         },
         {
          "Column": 10,
          "Concentration": 0,
          "Concentration unit": 0,
          "Response": 0.0289527881219857,
          "Row": "H",
          "Test item": 0
         },
         {
          "Column": 11,
          "Concentration": 0,
          "Concentration unit": 0,
          "Response": 0.0330736031947036,
          "Row": "H",
          "Test item": 0
         },
         {
          "Column": 12,
          "Concentration": 0,
          "Concentration unit": 0,
          "Response": 0.028133296472635,
          "Row": "H",
          "Test item": 0
         }
        ]
       },
       "vconcat": [
        {
         "encoding": {
          "color": {
           "field": "Response",
           "scale": {
            "scheme": "plasma"
           },
           "type": "quantitative"
          },
          "tooltip": [
           {
            "field": "Response",
            "title": "response",
            "type": "quantitative"
           },
           {
            "field": "Test item",
            "title": "compound",
            "type": "nominal"
           },
           {
            "field": "Concentration",
            "title": "conc.",
            "type": "quantitative"
           },
           {
            "field": "Concentration unit",
            "title": "unit",
            "type": "nominal"
           }
          ],
          "x": {
           "field": "Column",
           "type": "ordinal"
          },
          "y": {
           "field": "Row",
           "type": "ordinal"
          }
         },
         "height": 200,
         "mark": "rect",
         "title": "Experiment number: 1",
         "width": 300
        }
       ]
      },
      "image/png": "[encoded data removed]",
      "text/plain": [
       "<VegaLite 3 object>\n",
       "\n",
       "If you see this message, it means the renderer has not been properly enabled\n",
       "for the frontend that you are using. For more information, see\n",
       "https://altair-viz.github.io/user_guide/troubleshooting.html\n"
      ]
     },
     "execution_count": 22,
     "metadata": {},
     "output_type": "execute_result"
    }
   ],
   "source": [
    "alt.vconcat(*chart)"
   ]
  },
  {
   "cell_type": "code",
   "execution_count": 23,
   "metadata": {},
   "outputs": [
    {
     "data": {
      "text/plain": [
       "'3.2.0'"
      ]
     },
     "execution_count": 23,
     "metadata": {},
     "output_type": "execute_result"
    }
   ],
   "source": [
    "alt.__version__"
   ]
  },
  {
   "cell_type": "code",
   "execution_count": null,
   "metadata": {},
   "outputs": [],
   "source": []
  }
 ],
 "metadata": {
  "kernelspec": {
   "display_name": "Python 3",
   "language": "python",
   "name": "python3"
  },
  "language_info": {
   "codemirror_mode": {
    "name": "ipython",
    "version": 3
   },
   "file_extension": ".py",
   "mimetype": "text/x-python",
   "name": "python",
   "nbconvert_exporter": "python",
   "pygments_lexer": "ipython3",
   "version": "3.7.3"
  }
 },
 "nbformat": 4,
 "nbformat_minor": 4
}
