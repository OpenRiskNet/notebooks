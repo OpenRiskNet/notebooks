{
 "cells": [
  {
   "cell_type": "code",
   "execution_count": null,
   "metadata": {},
   "outputs": [],
   "source": [
    "test <-try(library(\"MASS\"))\n",
    "if (class(test) == \"try-error\") {\n",
    "    install.packages(\"MASS\", repos='http://cran.us.r-project.org')\n",
    "    library(\"MASS\")\n",
    "}\n",
    "\n",
    "test <-try(library(\"RJSONIO\"))\n",
    "if (class(test) == \"try-error\") {\n",
    "    install.packages(\"RJSONIO\", repos='http://cran.us.r-project.org')\n",
    "    library(\"RJSONIO\")\n",
    "}\n",
    "\n",
    "test <-try(library(\"drc\"))\n",
    "if (class(test) == \"try-error\") {\n",
    "    install.packages(\"openxlsx\", repos='http://cran.us.r-project.org')\n",
    "    install.packages(\"drc\", repos='http://cran.us.r-project.org')\n",
    "    install.packages(\"nloptr\", repos='http://cran.us.r-project.org')\n",
    "    library(\"drc\")\n",
    "}"
   ]
  },
  {
   "cell_type": "code",
   "execution_count": null,
   "metadata": {},
   "outputs": [],
   "source": []
  }
 ],
 "metadata": {
  "kernelspec": {
   "display_name": "R",
   "language": "R",
   "name": "ir"
  },
  "language_info": {
   "name": ""
  }
 },
 "nbformat": 4,
 "nbformat_minor": 4
}
