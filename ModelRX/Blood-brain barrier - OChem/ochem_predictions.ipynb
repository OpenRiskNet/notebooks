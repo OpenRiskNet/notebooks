{
 "cells": [
  {
   "cell_type": "markdown",
   "metadata": {},
   "source": [
    "### Curate the predictions from the OChem model"
   ]
  },
  {
   "cell_type": "code",
   "execution_count": 21,
   "metadata": {},
   "outputs": [],
   "source": [
    "import pandas as pd"
   ]
  },
  {
   "cell_type": "markdown",
   "metadata": {},
   "source": [
    "### Read the original file"
   ]
  },
  {
   "cell_type": "code",
   "execution_count": 22,
   "metadata": {},
   "outputs": [],
   "source": [
    "df = pd.read_excel('bbb_permeability.xls', index_col=0)\n",
    "\n",
    "# drop unneccessary column \"N\"\n",
    "df = df.drop(columns=['N'])"
   ]
  },
  {
   "cell_type": "markdown",
   "metadata": {},
   "source": [
    "### Rename columns in line with other datasets"
   ]
  },
  {
   "cell_type": "code",
   "execution_count": 23,
   "metadata": {},
   "outputs": [
    {
     "data": {
      "text/html": [
       "<div>\n",
       "<style scoped>\n",
       "    .dataframe tbody tr th:only-of-type {\n",
       "        vertical-align: middle;\n",
       "    }\n",
       "\n",
       "    .dataframe tbody tr th {\n",
       "        vertical-align: top;\n",
       "    }\n",
       "\n",
       "    .dataframe thead th {\n",
       "        text-align: right;\n",
       "    }\n",
       "</style>\n",
       "<table border=\"1\" class=\"dataframe\">\n",
       "  <thead>\n",
       "    <tr style=\"text-align: right;\">\n",
       "      <th></th>\n",
       "      <th>True</th>\n",
       "      <th>Predicted</th>\n",
       "      <th>Score</th>\n",
       "    </tr>\n",
       "    <tr>\n",
       "      <th>SMILES</th>\n",
       "      <th></th>\n",
       "      <th></th>\n",
       "      <th></th>\n",
       "    </tr>\n",
       "  </thead>\n",
       "  <tbody>\n",
       "    <tr>\n",
       "      <th>CN1CC2=C(N=CN2C2=CC=CC(Cl)=C2C1=O)C1=NOC(=N1)[C@](C)(O)CO</th>\n",
       "      <td>BBB-</td>\n",
       "      <td>BBB-</td>\n",
       "      <td>0.0302</td>\n",
       "    </tr>\n",
       "    <tr>\n",
       "      <th>NCCC1=CN2C=CC=CC2=N1</th>\n",
       "      <td>BBB-</td>\n",
       "      <td>BBB+</td>\n",
       "      <td>0.9730</td>\n",
       "    </tr>\n",
       "    <tr>\n",
       "      <th>NCCC1=CN2C=CC=CC2=N1</th>\n",
       "      <td>BBB-</td>\n",
       "      <td>BBB+</td>\n",
       "      <td>0.9730</td>\n",
       "    </tr>\n",
       "    <tr>\n",
       "      <th>CCCN(CCC)CCC1=CC=C(O)C2=C1CC(=C)N2</th>\n",
       "      <td>BBB+</td>\n",
       "      <td>BBB+</td>\n",
       "      <td>0.9150</td>\n",
       "    </tr>\n",
       "    <tr>\n",
       "      <th>CC1=C(CCN2CCC(CC2)C2=NOC3=CC(F)=CC=C23)C(=O)N2CCC[C@@H](O)C2=N1</th>\n",
       "      <td>BBB+</td>\n",
       "      <td>BBB+</td>\n",
       "      <td>0.8530</td>\n",
       "    </tr>\n",
       "  </tbody>\n",
       "</table>\n",
       "</div>"
      ],
      "text/plain": [
       "                                                    True Predicted   Score\n",
       "SMILES                                                                    \n",
       "CN1CC2=C(N=CN2C2=CC=CC(Cl)=C2C1=O)C1=NOC(=N1)[C...  BBB-      BBB-  0.0302\n",
       "NCCC1=CN2C=CC=CC2=N1                                BBB-      BBB+  0.9730\n",
       "NCCC1=CN2C=CC=CC2=N1                                BBB-      BBB+  0.9730\n",
       "CCCN(CCC)CCC1=CC=C(O)C2=C1CC(=C)N2                  BBB+      BBB+  0.9150\n",
       "CC1=C(CCN2CCC(CC2)C2=NOC3=CC(F)=CC=C23)C(=O)N2C...  BBB+      BBB+  0.8530"
      ]
     },
     "execution_count": 23,
     "metadata": {},
     "output_type": "execute_result"
    }
   ],
   "source": [
    "df.columns = ['True', 'Predicted', 'Score']\n",
    "df.head()"
   ]
  },
  {
   "cell_type": "markdown",
   "metadata": {},
   "source": [
    "### The original dataset contains corrected SMILES strings. The order of compounds is the same as in the original Lazar dataset. We take index from the Lazar predictions."
   ]
  },
  {
   "cell_type": "code",
   "execution_count": 24,
   "metadata": {},
   "outputs": [],
   "source": [
    "dg = pd.read_csv('../Blood-brain barrier - Lazar/predictions_Lazar.csv', index_col=0)\n",
    "df.index = dg.index"
   ]
  },
  {
   "cell_type": "markdown",
   "metadata": {},
   "source": [
    "### Change BBB+ and BBB- to penetrating and non-penetrating"
   ]
  },
  {
   "cell_type": "code",
   "execution_count": 25,
   "metadata": {},
   "outputs": [],
   "source": [
    "df = df.replace({'BBB-': 'non-penetrating', 'BBB+' : 'penetrating'})\n",
    "\n",
    "df.to_csv('predictions_OChem.csv')"
   ]
  }
 ],
 "metadata": {
  "kernelspec": {
   "display_name": "Python 3",
   "language": "python",
   "name": "python3"
  },
  "language_info": {
   "codemirror_mode": {
    "name": "ipython",
    "version": 3
   },
   "file_extension": ".py",
   "mimetype": "text/x-python",
   "name": "python",
   "nbconvert_exporter": "python",
   "pygments_lexer": "ipython3",
   "version": "3.6.8"
  }
 },
 "nbformat": 4,
 "nbformat_minor": 2
}
