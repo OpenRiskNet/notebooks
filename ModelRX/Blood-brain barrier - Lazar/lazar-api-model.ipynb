{
 "cells": [
  {
   "cell_type": "markdown",
   "metadata": {},
   "source": [
    "### Goal:\n",
    "Generate Lazar predictions for the blood-brain barrier penetration."
   ]
  },
  {
   "cell_type": "markdown",
   "metadata": {},
   "source": [
    "#### Load libraries"
   ]
  },
  {
   "cell_type": "code",
   "execution_count": null,
   "metadata": {},
   "outputs": [],
   "source": [
    "from pip._internal import main as pip\n",
    "#%pip install pandas\n",
    "try:\n",
    "    import requests\n",
    "except ImportError:\n",
    "    pip(['install', 'request'])\n",
    "    import requests\n",
    "\n",
    "try:\n",
    "    import pandas as pd\n",
    "except ImportError:\n",
    "    pip(['install', 'pandas'])\n",
    "    import pandas as pd\n",
    "    \n",
    "try:\n",
    "    import urllib\n",
    "except ImportError:\n",
    "    pip(['install', 'urllib'])\n",
    "    import urllib\n",
    "    \n",
    "try:\n",
    "    import json\n",
    "except ImportError:\n",
    "    pip(['install', 'json'])\n",
    "    import json\n",
    "    \n",
    "try:\n",
    "    from io import StringIO\n",
    "except ImportError:\n",
    "    pip(['install', 'io'])\n",
    "    from io import StringIO\n",
    "    \n",
    "try:\n",
    "    import pprint\n",
    "except ImportError:\n",
    "    pip(['install', 'pprint'])\n",
    "    import pprint\n",
    "    \n",
    "try:\n",
    "    import numpy as np\n",
    "except ImportError:\n",
    "    pip(['install', 'numpy'])\n",
    "    import numpy as np\n",
    "#%pip install sklearn    \n",
    "try:\n",
    "    import sklearn\n",
    "    from sklearn import metrics\n",
    "except ImportError:\n",
    "    pip(['install', 'sklearn'])\n",
    "    import sklearn\n",
    "    from sklearn import metrics\n",
    "#%pip install matplotlib\n",
    "try:\n",
    "    import matplotlib.pyplot as plt\n",
    "except ImportError:\n",
    "    pip(['install', 'matplotlib'])\n",
    "    import matplotlib.pyplot as plt"
   ]
  },
  {
   "cell_type": "markdown",
   "metadata": {},
   "source": [
    "#### Authorize the user to get subjectid"
   ]
  },
  {
   "cell_type": "code",
   "execution_count": 15,
   "metadata": {},
   "outputs": [],
   "source": [
    "base = 'https://lazar.prod.openrisknet.org'\n",
    "\n",
    "url = '/'.join([base,'authenticate','login'])\n",
    "headers = {'accept': 'application/json', 'Content-Type': 'application/x-www-form-urlencoded'}\n",
    "payload = {'username':'name', 'password': 'pw'}\n",
    "\n",
    "r = requests.post(url, headers=headers, data=payload)\n",
    "if r.status_code == 200:\n",
    "    res = r.json()\n",
    "    subjectid = res['subjectid']\n",
    "else:\n",
    "    print(r.json())"
   ]
  },
  {
   "cell_type": "markdown",
   "metadata": {},
   "source": [
    "#### Get list of endpoints available through Lazar web service"
   ]
  },
  {
   "cell_type": "code",
   "execution_count": 17,
   "metadata": {},
   "outputs": [
    {
     "name": "stdout",
     "output_type": "stream",
     "text": [
      "['Blood Brain Barrier Penetration',\n",
      " 'Carcinogenicity',\n",
      " 'Mutagenicity',\n",
      " 'Lowest observed adverse effect level (LOAEL)',\n",
      " 'Acute toxicity',\n",
      " 'Maximum Recommended Daily Dose']\n"
     ]
    }
   ],
   "source": [
    "#base = 'https://lazar.prod.openrisknet.org'\n",
    "\n",
    "url = '/'.join([base, 'endpoint'])\n",
    "headers = {'accept': 'application/json', 'subjectid': subjectid}\n",
    "\n",
    "r = requests.get(url, headers=headers)\n",
    "\n",
    "if r.status_code == 200:\n",
    "    endpoints = json.loads(r.content.decode('utf-8'))\n",
    "else:\n",
    "    print('Error accessing web service')\n",
    "pprint.pprint(endpoints)"
   ]
  },
  {
   "cell_type": "markdown",
   "metadata": {},
   "source": [
    "#### Select the Blood Brain Barrier Penetration endpoint and get the list of species with this endpoint"
   ]
  },
  {
   "cell_type": "code",
   "execution_count": 18,
   "metadata": {},
   "outputs": [
    {
     "name": "stdout",
     "output_type": "stream",
     "text": [
      "[{'Human': 'https://lazar.prod.openrisknet.org/model/5ae2dd885f1c2d01323270ee'}]\n"
     ]
    }
   ],
   "source": [
    "# select the relevant endpoint\n",
    "endpoint = endpoints[0]\n",
    "\n",
    "# get URL to access the model\n",
    "url = '/'.join([base, 'endpoint', endpoint])\n",
    "headers = {'accept': 'application/json', 'subjectid': subjectid}\n",
    "\n",
    "r = requests.get(url, headers=headers)\n",
    "\n",
    "if r.status_code == 200:\n",
    "    # list of species for a given endpoint\n",
    "    speciesList = json.loads(r.content.decode('utf-8'))\n",
    "    pprint.pprint(speciesList)\n",
    "else:\n",
    "    print('Error accessing web service')"
   ]
  },
  {
   "cell_type": "markdown",
   "metadata": {},
   "source": [
    "#### Select the relevant species (Human) and get the model information"
   ]
  },
  {
   "cell_type": "code",
   "execution_count": 19,
   "metadata": {},
   "outputs": [
    {
     "name": "stdout",
     "output_type": "stream",
     "text": [
      "{'_id': {'$oid': '5ae2dd885f1c2d01323270ee'},\n",
      " 'created_at': '2018-04-27T08:21:28.530+00:00',\n",
      " 'endpoint': 'Blood Brain Barrier Penetration',\n",
      " 'model_id': {'$oid': '5ae2dd695f1c2d0132326ff7'},\n",
      " 'qmrf': {'group': 'QMRF 5. Toxicokinetics',\n",
      "          'name': 'QMRF 5.4. Toxicokinetics.Blood-brain barrier penetration'},\n",
      " 'repeated_crossvalidation_id': {'$oid': '5ae2dd885f1c2d01323270ed'},\n",
      " 'source': 'http://cheminformatics.org/datasets/',\n",
      " 'species': 'Human',\n",
      " 'training_dataset': '5ae2dd675f1c2d0132326e63',\n",
      " 'unit': None,\n",
      " 'updated_at': '2018-04-27T08:21:28.530+00:00'}\n"
     ]
    }
   ],
   "source": [
    "# select species\n",
    "species = 'Human'\n",
    "\n",
    "# url of the model for the selected species\n",
    "modelUrl = speciesList[0][species]\n",
    "\n",
    "r = requests.get(modelUrl, headers=headers)\n",
    "\n",
    "if r.status_code == 200:\n",
    "    modelInfo = json.loads(r.content.decode('utf-8'))\n",
    "\n",
    "    pprint.pprint(modelInfo)\n",
    "else:\n",
    "    print('Error accessing web service')"
   ]
  },
  {
   "cell_type": "markdown",
   "metadata": {},
   "source": [
    "#### Access the training dataset"
   ]
  },
  {
   "cell_type": "code",
   "execution_count": 21,
   "metadata": {},
   "outputs": [
    {
     "data": {
      "text/html": [
       "<div>\n",
       "<style scoped>\n",
       "    .dataframe tbody tr th:only-of-type {\n",
       "        vertical-align: middle;\n",
       "    }\n",
       "\n",
       "    .dataframe tbody tr th {\n",
       "        vertical-align: top;\n",
       "    }\n",
       "\n",
       "    .dataframe thead th {\n",
       "        text-align: right;\n",
       "    }\n",
       "</style>\n",
       "<table border=\"1\" class=\"dataframe\">\n",
       "  <thead>\n",
       "    <tr style=\"text-align: right;\">\n",
       "      <th></th>\n",
       "      <th>SMILES</th>\n",
       "      <th>Blood-Brain-Barrier Penetration</th>\n",
       "    </tr>\n",
       "  </thead>\n",
       "  <tbody>\n",
       "    <tr>\n",
       "      <th>0</th>\n",
       "      <td>OC[C@](c1onc(n1)c1ncn2-c3cccc(c3C(=O)N(Cc12)C)...</td>\n",
       "      <td>non-penetrating</td>\n",
       "    </tr>\n",
       "    <tr>\n",
       "      <th>1</th>\n",
       "      <td>NCCc1nc2n(c1)cccc2</td>\n",
       "      <td>non-penetrating</td>\n",
       "    </tr>\n",
       "    <tr>\n",
       "      <th>2</th>\n",
       "      <td>NCCc1nc2n(c1)cccc2</td>\n",
       "      <td>non-penetrating</td>\n",
       "    </tr>\n",
       "    <tr>\n",
       "      <th>3</th>\n",
       "      <td>CCCN(CCC)CCc1ccc(c2c1CC(=C)N2)O</td>\n",
       "      <td>penetrating</td>\n",
       "    </tr>\n",
       "    <tr>\n",
       "      <th>4</th>\n",
       "      <td>Fc1ccc2c(c1)onc2C1CCN(CC1)CCc1c(C)nc2n(c1=O)CC...</td>\n",
       "      <td>penetrating</td>\n",
       "    </tr>\n",
       "  </tbody>\n",
       "</table>\n",
       "</div>"
      ],
      "text/plain": [
       "                                              SMILES  \\\n",
       "0  OC[C@](c1onc(n1)c1ncn2-c3cccc(c3C(=O)N(Cc12)C)...   \n",
       "1                                 NCCc1nc2n(c1)cccc2   \n",
       "2                                 NCCc1nc2n(c1)cccc2   \n",
       "3                    CCCN(CCC)CCc1ccc(c2c1CC(=C)N2)O   \n",
       "4  Fc1ccc2c(c1)onc2C1CCN(CC1)CCc1c(C)nc2n(c1=O)CC...   \n",
       "\n",
       "  Blood-Brain-Barrier Penetration  \n",
       "0                 non-penetrating  \n",
       "1                 non-penetrating  \n",
       "2                 non-penetrating  \n",
       "3                     penetrating  \n",
       "4                     penetrating  "
      ]
     },
     "execution_count": 21,
     "metadata": {},
     "output_type": "execute_result"
    }
   ],
   "source": [
    "# training ID\n",
    "trainingId = modelInfo['training_dataset']\n",
    "\n",
    "# access the training dataset\n",
    "headers = {'accept': 'text/csv', 'subjectid': subjectid}\n",
    "url = '/'.join([base, 'dataset', trainingId])\n",
    "\n",
    "r = requests.get(url, headers=headers)\n",
    "\n",
    "if r.status_code == 200:\n",
    "    dfTrain = pd.read_csv(StringIO(r.text))\n",
    "else:\n",
    "    print('Error accessing web service')\n",
    "    \n",
    "dfTrain.head()"
   ]
  },
  {
   "cell_type": "markdown",
   "metadata": {},
   "source": [
    "#### Store the set of compounds"
   ]
  },
  {
   "cell_type": "code",
   "execution_count": 22,
   "metadata": {},
   "outputs": [],
   "source": [
    "dfTrain.to_csv('compounds.csv', index=False)"
   ]
  },
  {
   "cell_type": "markdown",
   "metadata": {},
   "source": [
    "#### Loop over compounds of the training set and make predictions"
   ]
  },
  {
   "cell_type": "code",
   "execution_count": 23,
   "metadata": {},
   "outputs": [
    {
     "data": {
      "text/html": [
       "<div>\n",
       "<style scoped>\n",
       "    .dataframe tbody tr th:only-of-type {\n",
       "        vertical-align: middle;\n",
       "    }\n",
       "\n",
       "    .dataframe tbody tr th {\n",
       "        vertical-align: top;\n",
       "    }\n",
       "\n",
       "    .dataframe thead th {\n",
       "        text-align: right;\n",
       "    }\n",
       "</style>\n",
       "<table border=\"1\" class=\"dataframe\">\n",
       "  <thead>\n",
       "    <tr style=\"text-align: right;\">\n",
       "      <th></th>\n",
       "      <th>SMILES</th>\n",
       "      <th>Blood-Brain-Barrier Penetration</th>\n",
       "      <th>Predicted</th>\n",
       "      <th>Probability_P</th>\n",
       "      <th>Probability_N</th>\n",
       "    </tr>\n",
       "  </thead>\n",
       "  <tbody>\n",
       "    <tr>\n",
       "      <th>0</th>\n",
       "      <td>OC[C@](c1onc(n1)c1ncn2-c3cccc(c3C(=O)N(Cc12)C)...</td>\n",
       "      <td>non-penetrating</td>\n",
       "      <td>penetrating</td>\n",
       "      <td>0.458281</td>\n",
       "      <td>0.398862</td>\n",
       "    </tr>\n",
       "    <tr>\n",
       "      <th>1</th>\n",
       "      <td>NCCc1nc2n(c1)cccc2</td>\n",
       "      <td>non-penetrating</td>\n",
       "      <td>penetrating</td>\n",
       "      <td>0.107072</td>\n",
       "      <td>0.050823</td>\n",
       "    </tr>\n",
       "    <tr>\n",
       "      <th>2</th>\n",
       "      <td>NCCc1nc2n(c1)cccc2</td>\n",
       "      <td>non-penetrating</td>\n",
       "      <td>penetrating</td>\n",
       "      <td>0.107072</td>\n",
       "      <td>0.050823</td>\n",
       "    </tr>\n",
       "    <tr>\n",
       "      <th>3</th>\n",
       "      <td>CCCN(CCC)CCc1ccc(c2c1CC(=C)N2)O</td>\n",
       "      <td>penetrating</td>\n",
       "      <td>penetrating</td>\n",
       "      <td>0.317589</td>\n",
       "      <td>0.099078</td>\n",
       "    </tr>\n",
       "    <tr>\n",
       "      <th>4</th>\n",
       "      <td>Fc1ccc2c(c1)onc2C1CCN(CC1)CCc1c(C)nc2n(c1=O)CC...</td>\n",
       "      <td>penetrating</td>\n",
       "      <td>penetrating</td>\n",
       "      <td>0.691857</td>\n",
       "      <td>0.089393</td>\n",
       "    </tr>\n",
       "  </tbody>\n",
       "</table>\n",
       "</div>"
      ],
      "text/plain": [
       "                                              SMILES  \\\n",
       "0  OC[C@](c1onc(n1)c1ncn2-c3cccc(c3C(=O)N(Cc12)C)...   \n",
       "1                                 NCCc1nc2n(c1)cccc2   \n",
       "2                                 NCCc1nc2n(c1)cccc2   \n",
       "3                    CCCN(CCC)CCc1ccc(c2c1CC(=C)N2)O   \n",
       "4  Fc1ccc2c(c1)onc2C1CCN(CC1)CCc1c(C)nc2n(c1=O)CC...   \n",
       "\n",
       "  Blood-Brain-Barrier Penetration    Predicted  Probability_P  Probability_N  \n",
       "0                 non-penetrating  penetrating       0.458281       0.398862  \n",
       "1                 non-penetrating  penetrating       0.107072       0.050823  \n",
       "2                 non-penetrating  penetrating       0.107072       0.050823  \n",
       "3                     penetrating  penetrating       0.317589       0.099078  \n",
       "4                     penetrating  penetrating       0.691857       0.089393  "
      ]
     },
     "execution_count": 23,
     "metadata": {},
     "output_type": "execute_result"
    }
   ],
   "source": [
    "dfLazar = dfTrain.copy()\n",
    "\n",
    "for index, row in dfTrain.iterrows():\n",
    "    mol = row['SMILES']\n",
    "    body = {'identifier': mol}\n",
    "\n",
    "    headers = {'accept': 'text/csv', 'subjectid': subjectid}\n",
    "\n",
    "    result = requests.post(modelUrl, headers=headers, data=body)\n",
    "    result = json.loads(result.text)\n",
    "    \n",
    "    try:\n",
    "        dfLazar.at[index, 'Predicted'] = result['prediction']['value']\n",
    "    except KeyError:\n",
    "        dfLazar.at[index, 'Predicted'] = np.nan\n",
    "        \n",
    "    try:\n",
    "        dfLazar.at[index, 'Probability_P'] = result['prediction']['probabilities']['penetrating']\n",
    "    except KeyError:\n",
    "        dfLazar.at[index, 'Predicted'] = np.nan\n",
    "        \n",
    "    try:\n",
    "        dfLazar.at[index, 'Probability_N'] = result['prediction']['probabilities']['non-penetrating']\n",
    "    except KeyError:\n",
    "        dfLazar.at[index, 'Predicted'] = np.nan\n",
    "\n",
    "dfLazar.head()"
   ]
  },
  {
   "cell_type": "markdown",
   "metadata": {},
   "source": [
    "#### Store Lazar predictions"
   ]
  },
  {
   "cell_type": "code",
   "execution_count": 87,
   "metadata": {},
   "outputs": [],
   "source": [
    "dfLazar = dfLazar.rename(columns={'Blood-Brain-Barrier Penetration': 'True'})\n",
    "dfLazar.to_csv('predictions_Lazar.csv', index=False)"
   ]
  },
  {
   "cell_type": "markdown",
   "metadata": {},
   "source": [
    "#### Evalute model performance:\n",
    "- confusion matrix\n",
    "- ROC, AUC"
   ]
  },
  {
   "cell_type": "code",
   "execution_count": 88,
   "metadata": {},
   "outputs": [
    {
     "data": {
      "text/html": [
       "<div>\n",
       "<style scoped>\n",
       "    .dataframe tbody tr th:only-of-type {\n",
       "        vertical-align: middle;\n",
       "    }\n",
       "\n",
       "    .dataframe tbody tr th {\n",
       "        vertical-align: top;\n",
       "    }\n",
       "\n",
       "    .dataframe thead th {\n",
       "        text-align: right;\n",
       "    }\n",
       "</style>\n",
       "<table border=\"1\" class=\"dataframe\">\n",
       "  <thead>\n",
       "    <tr style=\"text-align: right;\">\n",
       "      <th>Predicted</th>\n",
       "      <th>non-penetrating</th>\n",
       "      <th>penetrating</th>\n",
       "    </tr>\n",
       "    <tr>\n",
       "      <th>True</th>\n",
       "      <th></th>\n",
       "      <th></th>\n",
       "    </tr>\n",
       "  </thead>\n",
       "  <tbody>\n",
       "    <tr>\n",
       "      <th>non-penetrating</th>\n",
       "      <td>60</td>\n",
       "      <td>69</td>\n",
       "    </tr>\n",
       "    <tr>\n",
       "      <th>penetrating</th>\n",
       "      <td>28</td>\n",
       "      <td>222</td>\n",
       "    </tr>\n",
       "  </tbody>\n",
       "</table>\n",
       "</div>"
      ],
      "text/plain": [
       "Predicted        non-penetrating  penetrating\n",
       "True                                         \n",
       "non-penetrating               60           69\n",
       "penetrating                   28          222"
      ]
     },
     "execution_count": 88,
     "metadata": {},
     "output_type": "execute_result"
    }
   ],
   "source": [
    "# confusion matrix\n",
    "conf = pd.crosstab(dfLazar['True'], dfLazar['Predicted'])\n",
    "conf"
   ]
  },
  {
   "cell_type": "code",
   "execution_count": 128,
   "metadata": {},
   "outputs": [
    {
     "data": {
      "image/png": "[encoded data removed]",
      "text/plain": [
       "<Figure size 432x288 with 1 Axes>"
      ]
     },
     "metadata": {
      "needs_background": "light"
     },
     "output_type": "display_data"
    }
   ],
   "source": [
    "# ROC plot\n",
    "df = dfLazar.copy()\n",
    "\n",
    "df = df.dropna(axis=0, how='any').drop_duplicates()\n",
    "\n",
    "df['Probability_diff'] = (df['Probability_P'] - df['Probability_N']) # / 2. + 0.5\n",
    "df['True'] = df['True'].replace({'penetrating': 1, 'non-penetrating': 0})\n",
    "\n",
    "# compute ROC\n",
    "fpr, tpr, thresholds = metrics.roc_curve(df['True'], df['Probability_diff'], pos_label=1)\n",
    "\n",
    "# compute AUC\n",
    "auc = metrics.auc(fpr, tpr)\n",
    "\n",
    "# prepare the plot\n",
    "fig, ax = plt.subplots(1, 1)\n",
    "\n",
    "ax.plot(fpr, tpr, label='ROC curve (AUC = %0.2f)' % auc)\n",
    "ax.plot([0,1], [0,1], label='', color='black', linestyle='--')\n",
    "ax.legend(loc=\"lower right\")\n",
    "ax.set_xlabel('False positive rate')\n",
    "ax.set_ylabel('True positive rate')\n",
    "ax.set_aspect('equal')\n",
    "ax.set_xlim([0, 1])\n",
    "ax.set_ylim([0, 1])\n",
    "\n",
    "fig.tight_layout()\n",
    "\n",
    "plt.show()"
   ]
  },
  {
   "cell_type": "code",
   "execution_count": null,
   "metadata": {},
   "outputs": [],
   "source": []
  }
 ],
 "metadata": {
  "kernelspec": {
   "display_name": "Python 3",
   "language": "python",
   "name": "python3"
  },
  "language_info": {
   "codemirror_mode": {
    "name": "ipython",
    "version": 3
   },
   "file_extension": ".py",
   "mimetype": "text/x-python",
   "name": "python",
   "nbconvert_exporter": "python",
   "pygments_lexer": "ipython3",
   "version": "3.6.3"
  }
 },
 "nbformat": 4,
 "nbformat_minor": 4
}
