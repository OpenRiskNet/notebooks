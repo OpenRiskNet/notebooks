import requests
#getting token
headers = {
    'Content-Type': 'application/x-www-form-urlencoded',
    'Accept': 'application/json',
    'Authorization': '',
}

data = {
  'username': '******',
  'password': '*****'
}

responselogin = requests.post('https://api-jaqpot.prod.openrisknet.org/jaqpot/services/aa/login', headers=headers, data=data)
responselogin
import json

todos = json.loads(responselogin.text)
JQtoken=todos["authToken"]
JQtoken

#validating token
headers = {
    'Content-Type': 'application/json',
    'Accept': 'application/json',
    'Authorization': "Bearer " + JQtoken,
}
responseValidation = requests.post('https://api-jaqpot.prod.openrisknet.org/jaqpot/services/aa/validate/accesstoken', headers=headers)
responseValidation

#continue with Gajewicz_10_29

#GET DATASET
headers = {
    'Accept': 'text/csv',
    'Authorization': "Bearer " + JQtoken,
}

responseGetDataset2 = requests.get('https://api-jaqpot.prod.openrisknet.org/jaqpot/services/dataset/Gajewicz_10_29', headers=headers)
responseGetDataset2.text
#CREATE MODEL
headers = {
    'Content-Type': 'application/x-www-form-urlencoded',
    'Accept': 'application/json',
    'Authorization': "Bearer " + JQtoken,
}

data = {
  'title': 'Gaj_Python2',
  'description': 'Gaj_Python2',
  'dataset_uri': 'https://api-jaqpot.prod.openrisknet.org/jaqpot/services/dataset/Gajewicz_10_29',
  'prediction_feature': 'https://apps.ideaconsult.net/enmtest/property/TOX/UNKNOWN_TOXICITY_SECTION/logLC50/63A6D4C95CE54B1630770EB000899C3EECE8DFDF/2ced6b25-4648-3217-87eb-70595145c4b1'
}

#responseModelCreate = requests.post('https://api-jaqpot.prod.openrisknet.org/jaqpot/services/algorithm/weka-svm', headers=headers, data=data)
responseModelCreate = requests.post('https://api-jaqpot.prod.openrisknet.org/jaqpot/services/algorithm/python-lm', headers=headers, data=data)

responseModelCreate.text
#QUERY TASK FOR MODEL ID
todosModelCreate = json.loads(responseModelCreate.text)
taskIDModelCreate=todosModelCreate["_id"]
taskIDModelCreate
taskURI_ModelCreate='https://api-jaqpot.prod.openrisknet.org/jaqpot/services/task/'+taskIDModelCreate

#taskURI_ModelCreate='https://api-jaqpot.prod.openrisknet.org/jaqpot/services/task/qDkApzeWjuo0'

headers = {
    'Accept': 'application/json',
    'Authorization': "Bearer " + JQtoken, }

responseTask_ModelCreate = requests.get(taskURI_ModelCreate, headers=headers)
responseTask_ModelCreate
responseTask_ModelCreate.text
todosTask_ModelCreate = json.loads(responseTask_ModelCreate.text)
todosTask_ModelCreate
modelID=todosTask_ModelCreate["result"]
modelID
#making a prediction 

modelURI='https://api-jaqpot.prod.openrisknet.org/jaqpot/services/'+modelID
headers = {
    'Content-Type': 'application/x-www-form-urlencoded',
    'Accept': 'application/json',
    'Authorization': "Bearer " + JQtoken, }

data = {
  'dataset_uri': 'https://api-jaqpot.prod.openrisknet.org/jaqpot/services/dataset/Gajewicz_8_29'
}
responsePredict = requests.post(modelURI, headers=headers, data=data)
#QUERY PREDICTION TASK
todosPredict = json.loads(responsePredict.text)
taskID_Predict=todosPredict["_id"]
taskID_Predict
taskURI_Predict='https://api-jaqpot.prod.openrisknet.org/jaqpot/services/task/'+taskID_Predict
taskURI_Predict

headers = {
    'Accept': 'application/json',
    'Authorization': "Bearer " + JQtoken, }

response_Task_Predict = requests.get(taskURI_Predict, headers=headers)
response_Task_Predict.text
#GET PREDICTION DATASET IN CSV
todos_Task_Predict = json.loads(response_Task_Predict.text)
datasetID=todos_Task_Predict["result"]
datasetID
datasetURI='https://api-jaqpot.prod.openrisknet.org/jaqpot/services/'+datasetID



headers = {
    'Accept': 'text/csv',
    'Authorization': "Bearer " + JQtoken, }

responsePredictedDataset = requests.get(datasetURI, headers=headers)
responsePredictedDataset.text
#GET PREDICTION DATASET IN JSON
headers = {
    'Accept': 'application/json',
    'Authorization': "Bearer " + JQtoken, }

responsePredictedDataset_JSON = requests.get(datasetURI, headers=headers)
responsePredictedDataset_JSON.text
