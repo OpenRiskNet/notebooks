{
 "cells": [
  {
   "cell_type": "markdown",
   "metadata": {},
   "source": [
    "### Goal:\n",
    "Based on provided Smiles string, get the blood-brain barrier penetration prediction from different models available through OpenRiskNet service (Lazar, CPSign)"
   ]
  },
  {
   "cell_type": "markdown",
   "metadata": {},
   "source": [
    "#### Load libraries"
   ]
  },
  {
   "cell_type": "code",
   "execution_count": 18,
   "metadata": {},
   "outputs": [],
   "source": [
    "from pip._internal import main as pip\n",
    "\n",
    "import dst\n",
    "\n",
    "try:\n",
    "    import requests\n",
    "except ImportError:\n",
    "    pip(['install', 'request'])\n",
    "    import requests\n",
    "\n",
    "try:\n",
    "    import pandas as pd\n",
    "except ImportError:\n",
    "    pip(['install', 'pandas'])\n",
    "    import pandas as pd\n",
    "    \n",
    "try:\n",
    "    import numpy as np\n",
    "except ImportError:\n",
    "    pip(['install', 'numpy'])\n",
    "    import numpy as np\n",
    "    \n",
    "try:\n",
    "    import json\n",
    "except ImportError:\n",
    "    pip(['install', 'json'])\n",
    "    import json\n",
    "    \n",
    "try:\n",
    "    import matplotlib.pyplot as plt\n",
    "except ImportError:\n",
    "    pip(['install', 'matplotlib'])\n",
    "    import matplotlib.pyplot as plt\n",
    "    \n",
    "    \n",
    "try:\n",
    "    import pprint\n",
    "except ImportError:\n",
    "    pip(['install', 'pprint'])\n",
    "    import pprint\n",
    "    \n",
    "try:\n",
    "    from rdkit import Chem\n",
    "except ImportError:\n",
    "    print(\"Run the following from command line:\\n\\tconda install -c conda-forge rdkit\")\n",
    "    \n",
    "try:\n",
    "    from mordred import Calculator, descriptors\n",
    "except ImportError:\n",
    "    pip(['install', 'mordred'])\n",
    "    from mordred import Calculator, descriptors\n",
    "    \n",
    "try:\n",
    "    from jaqpotpy import Jaqpot\n",
    "except ImportError:\n",
    "    pip(['install', 'jaqpotpy'])\n",
    "    from jaqpotpy import Jaqpot"
   ]
  },
  {
   "cell_type": "markdown",
   "metadata": {},
   "source": [
    "#### Define which models are used (and set their PPV, NPV values)"
   ]
  },
  {
   "cell_type": "code",
   "execution_count": 2,
   "metadata": {},
   "outputs": [],
   "source": [
    "# define models used\n",
    "models = ['CPSign', 'Lazar', 'Jaqpot']\n",
    "\n",
    "# initiate dictionaries to collect model properties/predictions\n",
    "models_pred, models_prob, models_ppv, models_npv = {}, {}, {}, {}\n",
    "\n",
    "models_npv['CPSign'] = 0.701\n",
    "models_npv['Lazar'] = 0.489\n",
    "models_npv['Jaqpot'] = 0.864\n",
    "\n",
    "models_ppv['CPSign'] = 0.809\n",
    "models_ppv['Lazar'] = 0.886\n",
    "models_ppv['Jaqpot'] = 0.788"
   ]
  },
  {
   "cell_type": "markdown",
   "metadata": {},
   "source": [
    "#### User enters Smiles string"
   ]
  },
  {
   "cell_type": "code",
   "execution_count": 14,
   "metadata": {},
   "outputs": [
    {
     "name": "stdin",
     "output_type": "stream",
     "text": [
      " CCCC\n"
     ]
    }
   ],
   "source": [
    "smiles = input()"
   ]
  },
  {
   "cell_type": "markdown",
   "metadata": {},
   "source": [
    "#### Lazar model"
   ]
  },
  {
   "cell_type": "code",
   "execution_count": 15,
   "metadata": {},
   "outputs": [],
   "source": [
    "# parameters to access the LAZAR API\n",
    "url = 'https://lazar.prod.openrisknet.org/model/5ae2dd885f1c2d01323270ee'\n",
    "body = {'identifier': smiles}\n",
    "headers = {'accept': 'text/csv'}\n",
    "\n",
    "# call the LAZAR API\n",
    "r = requests.post(url, headers=headers, data=body)\n",
    "\n",
    "if r.status_code == 200:\n",
    "    result = json.loads(r.text)\n",
    "   \n",
    "    try:\n",
    "        pred = result['prediction']['value']\n",
    "        \n",
    "        if pred == None:\n",
    "            pass\n",
    "        elif pred == 'penetrating':\n",
    "            pred = 'P'\n",
    "        else:\n",
    "            pred = 'N'\n",
    "        \n",
    "        # these probabilities could be used in DST approach, but currently we assume that predicted class has probability 1\n",
    "        prob_p = result['prediction']['probabilities']['penetrating']\n",
    "        prob_n = result['prediction']['probabilities']['non-penetrating']\n",
    "        \n",
    "    except KeyError:\n",
    "        print('Prediction could not be made')\n",
    "        pred, prob_p, prob_n = None, None, None\n",
    "        \n",
    "    models_pred['Lazar'] = pred\n",
    "    models_prob['Lazar'] = 1.  # we assign probability 1 to the predicted class\n",
    "else:\n",
    "    print('Error in accessing LAZAR web service.')"
   ]
  },
  {
   "cell_type": "markdown",
   "metadata": {},
   "source": [
    "#### CPSign model"
   ]
  },
  {
   "cell_type": "code",
   "execution_count": 64,
   "metadata": {},
   "outputs": [
    {
     "name": "stdout",
     "output_type": "stream",
     "text": [
      "Error in accessing CPSign web service.\n"
     ]
    }
   ],
   "source": [
    "# parameters to access the CPSign API\n",
    "url = \"http://blood-brain-barrier-penetration-cvap-cpsign.prod.openrisknet.org/v1/predict\"\n",
    "body = {'molecule': smiles}\n",
    "headers = {'accept': 'application/json'}\n",
    "\n",
    "# call the CPSign API\n",
    "r = requests.get(url, headers=headers, params=body)\n",
    "\n",
    "# extract the prediction from the API response\n",
    "if r.status_code == 200:\n",
    "    result = json.loads(r.text)\n",
    "    \n",
    "    result = pd.DataFrame(result['prediction']).set_index('label')\n",
    "    \n",
    "    prob_p = result.loc['penetrating', 'probability']\n",
    "    prob_n = result.loc['non-penetrating', 'probability']\n",
    "    \n",
    "    if prob_p > prob_n:\n",
    "        models_pred['CPSign'] = 'P'\n",
    "        models_prob['CPSign'] = prob_p\n",
    "    else:\n",
    "        models_pred['CPSign'] = 'N'\n",
    "        models_prob['CPSign'] = prob_n\n",
    "    \n",
    "else:\n",
    "    print('Error in accessing CPSign web service.')"
   ]
  },
  {
   "cell_type": "code",
   "execution_count": 65,
   "metadata": {},
   "outputs": [],
   "source": [
    "models_pred['CPSign'], models_prob['CPSign'] = 'P', 0.7"
   ]
  },
  {
   "cell_type": "markdown",
   "metadata": {},
   "source": [
    "#### Jaqpot model"
   ]
  },
  {
   "cell_type": "code",
   "execution_count": 60,
   "metadata": {},
   "outputs": [
    {
     "name": "stderr",
     "output_type": "stream",
     "text": [
      "100%|██████████| 1/1 [00:00<00:00,  4.40it/s]\n",
      "\u001b[1m \u001b[32m 2019-10-11 22:53:20,981 - INFO - api key is set\u001b[0m\n",
      "/opt/conda/lib/python3.7/site-packages/urllib3/connectionpool.py:851: InsecureRequestWarning: Unverified HTTPS request is being made. Adding certificate verification is strongly advised. See: https://urllib3.readthedocs.io/en/latest/advanced-usage.html#ssl-warnings\n",
      "  InsecureRequestWarning)\n",
      "/opt/conda/lib/python3.7/site-packages/urllib3/connectionpool.py:851: InsecureRequestWarning: Unverified HTTPS request is being made. Adding certificate verification is strongly advised. See: https://urllib3.readthedocs.io/en/latest/advanced-usage.html#ssl-warnings\n",
      "  InsecureRequestWarning)\n",
      "/opt/conda/lib/python3.7/site-packages/urllib3/connectionpool.py:851: InsecureRequestWarning: Unverified HTTPS request is being made. Adding certificate verification is strongly advised. See: https://urllib3.readthedocs.io/en/latest/advanced-usage.html#ssl-warnings\n",
      "  InsecureRequestWarning)\n",
      "/opt/conda/lib/python3.7/site-packages/urllib3/connectionpool.py:851: InsecureRequestWarning: Unverified HTTPS request is being made. Adding certificate verification is strongly advised. See: https://urllib3.readthedocs.io/en/latest/advanced-usage.html#ssl-warnings\n",
      "  InsecureRequestWarning)\n",
      "/opt/conda/lib/python3.7/site-packages/urllib3/connectionpool.py:851: InsecureRequestWarning: Unverified HTTPS request is being made. Adding certificate verification is strongly advised. See: https://urllib3.readthedocs.io/en/latest/advanced-usage.html#ssl-warnings\n",
      "  InsecureRequestWarning)\n",
      "/opt/conda/lib/python3.7/site-packages/urllib3/connectionpool.py:851: InsecureRequestWarning: Unverified HTTPS request is being made. Adding certificate verification is strongly advised. See: https://urllib3.readthedocs.io/en/latest/advanced-usage.html#ssl-warnings\n",
      "  InsecureRequestWarning)\n",
      "/opt/conda/lib/python3.7/site-packages/urllib3/connectionpool.py:851: InsecureRequestWarning: Unverified HTTPS request is being made. Adding certificate verification is strongly advised. See: https://urllib3.readthedocs.io/en/latest/advanced-usage.html#ssl-warnings\n",
      "  InsecureRequestWarning)\n",
      "/opt/conda/lib/python3.7/site-packages/urllib3/connectionpool.py:851: InsecureRequestWarning: Unverified HTTPS request is being made. Adding certificate verification is strongly advised. See: https://urllib3.readthedocs.io/en/latest/advanced-usage.html#ssl-warnings\n",
      "  InsecureRequestWarning)\n",
      "/opt/conda/lib/python3.7/site-packages/urllib3/connectionpool.py:851: InsecureRequestWarning: Unverified HTTPS request is being made. Adding certificate verification is strongly advised. See: https://urllib3.readthedocs.io/en/latest/advanced-usage.html#ssl-warnings\n",
      "  InsecureRequestWarning)\n",
      "/opt/conda/lib/python3.7/site-packages/urllib3/connectionpool.py:851: InsecureRequestWarning: Unverified HTTPS request is being made. Adding certificate verification is strongly advised. See: https://urllib3.readthedocs.io/en/latest/advanced-usage.html#ssl-warnings\n",
      "  InsecureRequestWarning)\n",
      "/opt/conda/lib/python3.7/site-packages/urllib3/connectionpool.py:851: InsecureRequestWarning: Unverified HTTPS request is being made. Adding certificate verification is strongly advised. See: https://urllib3.readthedocs.io/en/latest/advanced-usage.html#ssl-warnings\n",
      "  InsecureRequestWarning)\n",
      "/opt/conda/lib/python3.7/site-packages/urllib3/connectionpool.py:851: InsecureRequestWarning: Unverified HTTPS request is being made. Adding certificate verification is strongly advised. See: https://urllib3.readthedocs.io/en/latest/advanced-usage.html#ssl-warnings\n",
      "  InsecureRequestWarning)\n",
      "/opt/conda/lib/python3.7/site-packages/urllib3/connectionpool.py:851: InsecureRequestWarning: Unverified HTTPS request is being made. Adding certificate verification is strongly advised. See: https://urllib3.readthedocs.io/en/latest/advanced-usage.html#ssl-warnings\n",
      "  InsecureRequestWarning)\n",
      "/opt/conda/lib/python3.7/site-packages/urllib3/connectionpool.py:851: InsecureRequestWarning: Unverified HTTPS request is being made. Adding certificate verification is strongly advised. See: https://urllib3.readthedocs.io/en/latest/advanced-usage.html#ssl-warnings\n",
      "  InsecureRequestWarning)\n",
      "/opt/conda/lib/python3.7/site-packages/urllib3/connectionpool.py:851: InsecureRequestWarning: Unverified HTTPS request is being made. Adding certificate verification is strongly advised. See: https://urllib3.readthedocs.io/en/latest/advanced-usage.html#ssl-warnings\n",
      "  InsecureRequestWarning)\n",
      "/opt/conda/lib/python3.7/site-packages/urllib3/connectionpool.py:851: InsecureRequestWarning: Unverified HTTPS request is being made. Adding certificate verification is strongly advised. See: https://urllib3.readthedocs.io/en/latest/advanced-usage.html#ssl-warnings\n",
      "  InsecureRequestWarning)\n",
      "/opt/conda/lib/python3.7/site-packages/urllib3/connectionpool.py:851: InsecureRequestWarning: Unverified HTTPS request is being made. Adding certificate verification is strongly advised. See: https://urllib3.readthedocs.io/en/latest/advanced-usage.html#ssl-warnings\n",
      "  InsecureRequestWarning)\n",
      "/opt/conda/lib/python3.7/site-packages/urllib3/connectionpool.py:851: InsecureRequestWarning: Unverified HTTPS request is being made. Adding certificate verification is strongly advised. See: https://urllib3.readthedocs.io/en/latest/advanced-usage.html#ssl-warnings\n",
      "  InsecureRequestWarning)\n",
      "/opt/conda/lib/python3.7/site-packages/urllib3/connectionpool.py:851: InsecureRequestWarning: Unverified HTTPS request is being made. Adding certificate verification is strongly advised. See: https://urllib3.readthedocs.io/en/latest/advanced-usage.html#ssl-warnings\n",
      "  InsecureRequestWarning)\n",
      "/opt/conda/lib/python3.7/site-packages/urllib3/connectionpool.py:851: InsecureRequestWarning: Unverified HTTPS request is being made. Adding certificate verification is strongly advised. See: https://urllib3.readthedocs.io/en/latest/advanced-usage.html#ssl-warnings\n",
      "  InsecureRequestWarning)\n",
      "/opt/conda/lib/python3.7/site-packages/urllib3/connectionpool.py:851: InsecureRequestWarning: Unverified HTTPS request is being made. Adding certificate verification is strongly advised. See: https://urllib3.readthedocs.io/en/latest/advanced-usage.html#ssl-warnings\n",
      "  InsecureRequestWarning)\n",
      "/opt/conda/lib/python3.7/site-packages/urllib3/connectionpool.py:851: InsecureRequestWarning: Unverified HTTPS request is being made. Adding certificate verification is strongly advised. See: https://urllib3.readthedocs.io/en/latest/advanced-usage.html#ssl-warnings\n",
      "  InsecureRequestWarning)\n",
      "/opt/conda/lib/python3.7/site-packages/urllib3/connectionpool.py:851: InsecureRequestWarning: Unverified HTTPS request is being made. Adding certificate verification is strongly advised. See: https://urllib3.readthedocs.io/en/latest/advanced-usage.html#ssl-warnings\n",
      "  InsecureRequestWarning)\n",
      "/opt/conda/lib/python3.7/site-packages/urllib3/connectionpool.py:851: InsecureRequestWarning: Unverified HTTPS request is being made. Adding certificate verification is strongly advised. See: https://urllib3.readthedocs.io/en/latest/advanced-usage.html#ssl-warnings\n",
      "  InsecureRequestWarning)\n",
      "\u001b[1m \u001b[32m 2019-10-11 22:53:23,277 - INFO - completed 10.0\u001b[0m\n",
      "/opt/conda/lib/python3.7/site-packages/urllib3/connectionpool.py:851: InsecureRequestWarning: Unverified HTTPS request is being made. Adding certificate verification is strongly advised. See: https://urllib3.readthedocs.io/en/latest/advanced-usage.html#ssl-warnings\n",
      "  InsecureRequestWarning)\n",
      "\u001b[1m \u001b[32m 2019-10-11 22:53:24,335 - INFO - completed 100.0\u001b[0m\n",
      "/opt/conda/lib/python3.7/site-packages/urllib3/connectionpool.py:851: InsecureRequestWarning: Unverified HTTPS request is being made. Adding certificate verification is strongly advised. See: https://urllib3.readthedocs.io/en/latest/advanced-usage.html#ssl-warnings\n",
      "  InsecureRequestWarning)\n"
     ]
    }
   ],
   "source": [
    "# generate MORDRED descriptors\n",
    "mol = Chem.MolFromSmiles(smiles)\n",
    "calc = Calculator(descriptors)\n",
    "X = calc.pandas([mol])\n",
    "\n",
    "# select only columns needed exactly for this jaqpot model\n",
    "jaqpotCols = ['nAcid', 'MATS1p', 'GATS1se', 'nBondsD', 'RPCG', 'NssssN', 'SssssN', 'SddssS', 'IC1', 'Lipinski', 'PEOE_VSA3', 'PEOE_VSA8', 'PEOE_VSA11', 'SlogP_VSA10', 'EState_VSA2', 'EState_VSA3', 'EState_VSA5', 'VSA_EState8', 'n7HRing', 'n6FRing']\n",
    "\n",
    "# scale values according to the min max of reference dataset\n",
    "Xref = pd.read_csv('compounds_descriptors.csv')\n",
    "Xref = Xref[jaqpotCols]\n",
    "X = pd.DataFrame(X[jaqpotCols])\n",
    "\n",
    "X_scaled = (X - Xref.min()) / (Xref.max() - Xref.min())\n",
    "\n",
    "# parameters to access the Jaqpot API\n",
    "url = '4lQEkyB5vEPMoryODwPy'\n",
    "jaqpot = Jaqpot(\"https://api-jaqpot.prod.openrisknet.org/jaqpot/services/\")\n",
    "apiKey = \"eyJhbGciOiJSUzI1NiIsInR5cCIgOiAiSldUIiwia2lkIiA6ICJoX2p2Z3I3bWZ4VGJ3OHJLNW9Fb3dWWUVHUms2Z0hsLW9sSjdPUnQ3V2QwIn0.eyJqdGkiOiI3MzQ3MGFjMi0xYzM1LTQwOTktOTJhZS05NTAxYmQxZjk1OTYiLCJleHAiOjE1NzA4MzUxNjMsIm5iZiI6MCwiaWF0IjoxNTcwODM0MjYzLCJpc3MiOiJodHRwczovL3Nzby5wcm9kLm9wZW5yaXNrbmV0Lm9yZy9hdXRoL3JlYWxtcy9vcGVucmlza25ldCIsImF1ZCI6ImFjY291bnQiLCJzdWIiOiI1NmUyNjk0MS0wMjk1LTRiNmUtOTRmOS03OWY3OWZiY2Y5NmMiLCJ0eXAiOiJCZWFyZXIiLCJhenAiOiJqYXFwb3QtdWkiLCJub25jZSI6Ik4wLjUwODY3MDk2MzU2MDM5NzYxNTcwODM0MjYyOTQ3IiwiYXV0aF90aW1lIjoxNTcwODMyNTQ2LCJzZXNzaW9uX3N0YXRlIjoiYTcyYzk2NDgtNWEwNC00NDNlLTkwODQtZDJmNTU3MzM1MWM3IiwiYWNyIjoiMCIsImFsbG93ZWQtb3JpZ2lucyI6WyIqIl0sInJlYWxtX2FjY2VzcyI6eyJyb2xlcyI6WyJzdGFuZGFyZC11c2VyIiwib2ZmbGluZV9hY2Nlc3MiLCJ1bWFfYXV0aG9yaXphdGlvbiJdfSwicmVzb3VyY2VfYWNjZXNzIjp7ImFjY291bnQiOnsicm9sZXMiOlsibWFuYWdlLWFjY291bnQiLCJtYW5hZ2UtYWNjb3VudC1saW5rcyIsInZpZXctcHJvZmlsZSJdfX0sInNjb3BlIjoib3BlbmlkIHByb2ZpbGUgZW1haWwiLCJlbWFpbF92ZXJpZmllZCI6ZmFsc2UsIm5hbWUiOiJ0b21heiBtb2hvcmljIiwicHJlZmVycmVkX3VzZXJuYW1lIjoidG1vaG9yaWMiLCJnaXZlbl9uYW1lIjoidG9tYXoiLCJmYW1pbHlfbmFtZSI6Im1vaG9yaWMiLCJlbWFpbCI6Im1vaG9yaWMudG9tYXpAZ21haWwuY29tIn0.sQusM88ehrLQ6wn5bWhj_VZZntLIsmDhBrrKROsS2fvLcQx5PHlvRJENwsyQRq7cCIVEiaeeLyClhNUB49xsuYCHWv92vTTzz8CCK57OOAR2JekEpTiJouP8Zx4aFWpDBRK5YgDK9R0oCX3X80EgO38lu3KdOutoxB-QIg8rKq9Hddzm8yfCQsX6fMZDTc_kAUfbJHbzc53LTDxkqeKnsUbbETiG5pg7D1h0H9vcaX_P4sA0wtsEmpK344MV7HCoxbGp7B_vjXwBrHJIwYhadZTkNcYVFtNAqCQI6fcnht-7Wzg6ddFQwN8JNip1fFABBw63yE1gSh_ZzXj0OWxgDg\"\n",
    "jaqpot.set_api_key(apiKey)\n",
    "\n",
    "# call the Jaqpot API\n",
    "pred, predCol = jaqpot.predict(X_scaled, modelId=url)\n",
    "\n",
    "# extract predicted value\n",
    "prediction = pred.loc[0, predCol]\n",
    "\n",
    "if prediction == 1:\n",
    "    models_pred['Jaqpot'] = 'P'\n",
    "elif prediction == 0:\n",
    "    models_pred['Jaqpot'] = 'N'\n",
    "else:\n",
    "    models_pred['Jaqpot'] = None\n",
    "    \n",
    "models_prob['Jaqpot'] = 1."
   ]
  },
  {
   "cell_type": "markdown",
   "metadata": {},
   "source": [
    "#### Results of individual predictive models collected in dictionaries"
   ]
  },
  {
   "cell_type": "code",
   "execution_count": 61,
   "metadata": {},
   "outputs": [
    {
     "name": "stdout",
     "output_type": "stream",
     "text": [
      "models_pred:\n",
      " {'Lazar': 'P', 'Jaqpot': 'P'} \n",
      "\n",
      "models_prob:\n",
      " {'Lazar': 1.0, 'Jaqpot': 1.0} \n",
      "\n",
      "models_ppv:\n",
      " {'CPSign': 0.809, 'Lazar': 0.886, 'Jaqpot': 0.788} \n",
      "\n",
      "models_npv:\n",
      " {'CPSign': 0.701, 'Lazar': 0.489, 'Jaqpot': 0.864}\n"
     ]
    }
   ],
   "source": [
    "print('models_pred:\\n', models_pred, '\\n\\nmodels_prob:\\n', models_prob, '\\n\\nmodels_ppv:\\n', models_ppv, '\\n\\nmodels_npv:\\n', models_npv)"
   ]
  },
  {
   "cell_type": "markdown",
   "metadata": {},
   "source": [
    "#### Consensus predictions"
   ]
  },
  {
   "cell_type": "code",
   "execution_count": 66,
   "metadata": {},
   "outputs": [],
   "source": [
    "# if all models have valid predictions, then continue with consensus\n",
    "validPred = True\n",
    "for model in models:\n",
    "    if (models_pred[model] == 'P') or (models_pred[model] == 'N'):\n",
    "        pass\n",
    "    else:\n",
    "        validPred = False\n",
    "        \n",
    "if validPred:\n",
    "    bel, pls, res = {}, {}, {}\n",
    "\n",
    "    # Dempster rule\n",
    "    bel['D'], pls['D'], res['D'] = dst.predict_Dempster(models_pred, models_prob, models_ppv, models_npv)\n",
    "\n",
    "    # Yager rule\n",
    "    bel['Y'], pls['Y'], res['Y'] = dst.predict_Yager(models_pred, models_prob, models_ppv, models_npv)\n",
    "else:\n",
    "    print('Some prediction is invalid.')"
   ]
  },
  {
   "cell_type": "markdown",
   "metadata": {},
   "source": [
    "#### Visualization of predictions"
   ]
  },
  {
   "cell_type": "code",
   "execution_count": 68,
   "metadata": {},
   "outputs": [
    {
     "data": {
      "image/png": "[encoded data removed]",
      "text/plain": [
       "<Figure size 432x288 with 2 Axes>"
      ]
     },
     "metadata": {
      "needs_background": "light"
     },
     "output_type": "display_data"
    }
   ],
   "source": [
    "colorPenetrating = '#fc8d62'\n",
    "colorNonpenetrating = '#8da0cb'\n",
    "colorUncertainty = '#66c2a5'\n",
    "\n",
    "def color_prediction(state):\n",
    "    if state == 'P':\n",
    "        return colorPenetrating\n",
    "    else:\n",
    "        return colorNonpenetrating\n",
    "    \n",
    "def color_antiprediction(state):\n",
    "    if state == 'P':\n",
    "        return colorNonpenetrating\n",
    "    else:\n",
    "        return colorPenetrating\n",
    "\n",
    "fig, axs = plt.subplots(1, 2)\n",
    "\n",
    "width = 0.2\n",
    "\n",
    "# left plot - individual models\n",
    "for i in range(len(models)):\n",
    "    axs[0].bar(i, models_prob[models[i]], width, bottom=0, color=color_prediction(models_pred[models[i]]) )\n",
    "    axs[0].bar(i, (1 - models_prob[models[i]]), width, bottom=models_prob[models[i]], color=color_antiprediction(models_pred[models[i]]))\n",
    "    \n",
    "axs[0].set_xticks(range(len(models)))    \n",
    "axs[0].set_xticklabels(models)\n",
    "axs[0].set_xlim(-0.5, len(models) - 0.5)\n",
    "axs[0].set_ylabel('Probability')\n",
    "axs[0].set_ylim(0, 1)\n",
    "axs[0].set_title('Individual model predictions')\n",
    "\n",
    "# right plot - consensus models\n",
    "axs[1].bar(0, bel['Y']['P'], width, bottom=0, color=colorPenetrating)\n",
    "axs[1].bar(0, (pls['Y']['P'] - bel['Y']['P']), width, bottom=bel['Y']['P'], color=colorUncertainty)\n",
    "axs[1].bar(0, bel['Y']['N'], width, bottom=pls['Y']['P'], color=colorNonpenetrating)\n",
    "\n",
    "p1 = axs[1].bar(1, bel['D']['P'], width, bottom=0, color=colorPenetrating)\n",
    "p2 = axs[1].bar(1, (pls['D']['P'] - bel['D']['P']), width, bottom=bel['D']['P'], color=colorUncertainty)\n",
    "p3 = axs[1].bar(1, bel['D']['N'], width, bottom=pls['D']['P'], color=colorNonpenetrating)\n",
    "\n",
    "axs[1].set_xticks([0, 1])    \n",
    "axs[1].set_xticklabels(['Yager', 'Dempster'])\n",
    "axs[1].set_xlim(-0.5, 1.5)\n",
    "axs[1].set_ylabel('')\n",
    "axs[1].set_yticklabels('')\n",
    "axs[1].set_ylim(0, 1)\n",
    "axs[1].set_title('Consensus predictions')\n",
    "\n",
    "fig.legend((p1[0], p2[0], p3[0]), ('penetrating', 'uncertainty', 'non-penetrating'), bbox_to_anchor=(1.2, 0.85))\n",
    "\n",
    "fig.show()"
   ]
  },
  {
   "cell_type": "code",
   "execution_count": null,
   "metadata": {},
   "outputs": [],
   "source": []
  }
 ],
 "metadata": {
  "kernelspec": {
   "display_name": "Python 3",
   "language": "python",
   "name": "python3"
  },
  "language_info": {
   "codemirror_mode": {
    "name": "ipython",
    "version": 3
   },
   "file_extension": ".py",
   "mimetype": "text/x-python",
   "name": "python",
   "nbconvert_exporter": "python",
   "pygments_lexer": "ipython3",
   "version": "3.7.3"
  }
 },
 "nbformat": 4,
 "nbformat_minor": 4
}
