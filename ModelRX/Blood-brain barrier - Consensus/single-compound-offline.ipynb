{
 "cells": [
  {
   "cell_type": "markdown",
   "metadata": {},
   "source": [
    "1. Get a list of common compounds\n",
    "2. Collect compound names from pubchem (only once)\n",
    "3. When compound is selected collect its predictions from different models\n",
    "4. Consensus"
   ]
  },
  {
   "cell_type": "markdown",
   "metadata": {},
   "source": [
    "#### Install libraries"
   ]
  },
  {
   "cell_type": "code",
   "execution_count": 63,
   "metadata": {},
   "outputs": [],
   "source": [
    "from pip._internal import main as pip\n",
    "\n",
    "import dst\n",
    "\n",
    "try:\n",
    "    import pandas as pd\n",
    "except ImportError:\n",
    "    pip(['install', 'pandas'])\n",
    "    import pandas as pd\n",
    "       \n",
    "try:\n",
    "    import numpy as np\n",
    "    from numpy.ma import masked_array\n",
    "except ImportError:\n",
    "    pip(['install', 'numpy'])\n",
    "    import numpy as np\n",
    "    from numpy.ma import masked_array\n",
    "\n",
    "try:\n",
    "    import sklearn\n",
    "    from sklearn.metrics import confusion_matrix\n",
    "except ImportError:\n",
    "    pip(['install', 'sklearn'])\n",
    "    import sklearn\n",
    "    from sklearn.metrics import confusion_matrix\n",
    "\n",
    "try:\n",
    "    import matplotlib.pyplot as plt\n",
    "except ImportError:\n",
    "    pip(['install', 'matplotlib'])\n",
    "    import matplotlib.pyplot as plt\n",
    "\n",
    "try:\n",
    "    import ipywidgets as widgets\n",
    "except ImportError:\n",
    "    pip(['install', 'ipywidgets'])\n",
    "    import ipywidgets as widgets\n",
    "    \n",
    "try:\n",
    "    import pprint\n",
    "except ImportError:\n",
    "    pip(['install', 'pprint'])\n",
    "    import pprint"
   ]
  },
  {
   "cell_type": "markdown",
   "metadata": {},
   "source": [
    "#### Read datasets"
   ]
  },
  {
   "cell_type": "code",
   "execution_count": 75,
   "metadata": {},
   "outputs": [],
   "source": [
    "df = {}\n",
    "df['CPSign'] = pd.read_csv('predictions_CPSign.csv').drop_duplicates().set_index('SMILES')\n",
    "df['Jaqpot'] = pd.read_csv('predictions_Jaqpot.csv').drop_duplicates().set_index('SMILES')\n",
    "df['Weka'] = pd.read_csv('predictions_Weka.csv').drop_duplicates().set_index('SMILES')\n",
    "df['Lazar'] = pd.read_csv('predictions_Lazar.csv').drop_duplicates().set_index('SMILES')\n",
    "\n",
    "models_npv = {'CPSign': 0.8055555555555556,\n",
    "  'Jaqpot': 0.8641509433962264,\n",
    "  'Lazar': 0.7651245551601423,\n",
    "  'Weka': 0.9087719298245615}\n",
    "\n",
    "models_ppv = {'CPSign': 0.6982758620689655,\n",
    "  'Jaqpot': 0.7876106194690266,\n",
    "  'Lazar': 0.6896551724137931,\n",
    "  'Weka': 0.9243697478991597}\n",
    "\n",
    "models = list(df.keys())"
   ]
  },
  {
   "cell_type": "markdown",
   "metadata": {},
   "source": [
    "#### Find common compounds"
   ]
  },
  {
   "cell_type": "code",
   "execution_count": 76,
   "metadata": {},
   "outputs": [],
   "source": [
    "listed_compounds = {}\n",
    "\n",
    "for key in df.keys():\n",
    "    listed_compounds[key] = set(df[key].index.tolist())\n",
    "    \n",
    "common_compounds = listed_compounds['CPSign'].intersection(listed_compounds['Jaqpot'], listed_compounds['Weka'], listed_compounds['Lazar'])\n",
    "common_compounds = list(common_compounds)"
   ]
  },
  {
   "cell_type": "markdown",
   "metadata": {},
   "source": [
    "#### Pick a compound"
   ]
  },
  {
   "cell_type": "code",
   "execution_count": 77,
   "metadata": {},
   "outputs": [
    {
     "data": {
      "application/vnd.jupyter.widget-view+json": {
       "model_id": "0e2e7024f64d48a0868b6edc28556033",
       "version_major": 2,
       "version_minor": 0
      },
      "text/plain": [
       "Dropdown(description='Compound:', options=('COc1ccc(cc1)CCN1CCC(CC1)Nc1nc2c(n1Cc1ccc(cc1)F)cccc2', 'CC[C@H](n1…"
      ]
     },
     "metadata": {},
     "output_type": "display_data"
    }
   ],
   "source": [
    "selectCompound = widgets.Dropdown(\n",
    "    options=common_compounds,\n",
    "    value=common_compounds[0],\n",
    "    description='Compound:',\n",
    "    disabled=False,\n",
    ")\n",
    "selectCompound"
   ]
  },
  {
   "cell_type": "markdown",
   "metadata": {},
   "source": [
    "#### Collect predictions of individual models"
   ]
  },
  {
   "cell_type": "code",
   "execution_count": 80,
   "metadata": {},
   "outputs": [],
   "source": [
    "compound = selectCompound.value\n",
    "\n",
    "models_pred, models_prob = {}, {}\n",
    "\n",
    "for model in models:\n",
    "    prediction = df[model].loc[compound, 'Predicted']\n",
    "    \n",
    "    if prediction == 'penetrating':\n",
    "        models_pred[model] = 'P'\n",
    "        if (model == 'Jaqpot') or (model == 'CPSign'):\n",
    "            models_prob[model] = df[model].loc[compound, 'Probability_P']\n",
    "        else:\n",
    "            models_prob[model] = 1.\n",
    "            \n",
    "    elif prediction == 'non-penetrating':\n",
    "        models_pred[model] = 'N'\n",
    "        if (model == 'Jaqpot') or (model == 'CPSign'):\n",
    "            models_prob[model] = df[model].loc[compound, 'Probability_N']\n",
    "        else:\n",
    "            models_prob[model] = 1.\n",
    "            \n",
    "    else:\n",
    "        models_pred[model] = None "
   ]
  },
  {
   "cell_type": "markdown",
   "metadata": {},
   "source": [
    "#### Consensus prediction"
   ]
  },
  {
   "cell_type": "code",
   "execution_count": 82,
   "metadata": {},
   "outputs": [],
   "source": [
    "bel, pls, res = {}, {}, {}\n",
    "\n",
    "# Dempster rule\n",
    "bel['D'], pls['D'], res['D'] = dst.predict_Dempster(models_pred, models_prob, models_ppv, models_npv)\n",
    "\n",
    "# Yager rule\n",
    "bel['Y'], pls['Y'], res['Y'] = dst.predict_Yager(models_pred, models_prob, models_ppv, models_npv)"
   ]
  },
  {
   "cell_type": "markdown",
   "metadata": {},
   "source": [
    "#### Visualization of consensus prediction"
   ]
  },
  {
   "cell_type": "code",
   "execution_count": 83,
   "metadata": {},
   "outputs": [
    {
     "data": {
      "image/png": "[encoded data removed]",
      "text/plain": [
       "<Figure size 432x288 with 2 Axes>"
      ]
     },
     "metadata": {
      "needs_background": "light"
     },
     "output_type": "display_data"
    }
   ],
   "source": [
    "colorPenetrating = '#fc8d62'\n",
    "colorNonpenetrating = '#8da0cb'\n",
    "colorUncertainty = '#66c2a5'\n",
    "\n",
    "def color_prediction(state):\n",
    "    if state == 'P':\n",
    "        return colorPenetrating\n",
    "    else:\n",
    "        return colorNonpenetrating\n",
    "    \n",
    "def color_antiprediction(state):\n",
    "    if state == 'P':\n",
    "        return colorNonpenetrating\n",
    "    else:\n",
    "        return colorPenetrating\n",
    "\n",
    "fig, axs = plt.subplots(1, 2)\n",
    "\n",
    "width = 0.2\n",
    "\n",
    "# left plot - individual models\n",
    "for i in range(len(models)):\n",
    "    axs[0].bar(i, models_prob[models[i]], width, bottom=0, color=color_prediction(models_pred[models[i]]) )\n",
    "    axs[0].bar(i, (1 - models_prob[models[i]]), width, bottom=models_prob[models[i]], color=color_antiprediction(models_pred[models[i]]))\n",
    "    \n",
    "axs[0].set_xticks(range(len(models)))    \n",
    "axs[0].set_xticklabels(models)\n",
    "axs[0].set_xlim(-0.5, len(models) - 0.5)\n",
    "axs[0].set_ylabel('Probability')\n",
    "axs[0].set_ylim(0, 1)\n",
    "axs[0].set_title('Individual model predictions')\n",
    "\n",
    "# right plot - consensus models\n",
    "axs[1].bar(0, bel['Y']['P'], width, bottom=0, color=colorPenetrating)\n",
    "axs[1].bar(0, (pls['Y']['P'] - bel['Y']['P']), width, bottom=bel['Y']['P'], color=colorUncertainty)\n",
    "axs[1].bar(0, bel['Y']['N'], width, bottom=pls['Y']['P'], color=colorNonpenetrating)\n",
    "\n",
    "p1 = axs[1].bar(1, bel['D']['P'], width, bottom=0, color=colorPenetrating)\n",
    "p2 = axs[1].bar(1, (pls['D']['P'] - bel['D']['P']), width, bottom=bel['D']['P'], color=colorUncertainty)\n",
    "p3 = axs[1].bar(1, bel['D']['N'], width, bottom=pls['D']['P'], color=colorNonpenetrating)\n",
    "\n",
    "axs[1].set_xticks([0, 1])    \n",
    "axs[1].set_xticklabels(['Yager', 'Dempster'])\n",
    "axs[1].set_xlim(-0.5, 1.5)\n",
    "axs[1].set_ylabel('')\n",
    "axs[1].set_yticklabels('')\n",
    "axs[1].set_ylim(0, 1)\n",
    "axs[1].set_title('Consensus predictions')\n",
    "\n",
    "fig.legend((p1[0], p2[0], p3[0]), ('penetrating', 'uncertainty', 'non-penetrating'), bbox_to_anchor=(1.2, 0.85))\n",
    "\n",
    "fig.show()"
   ]
  }
 ],
 "metadata": {
  "kernelspec": {
   "display_name": "Python 3",
   "language": "python",
   "name": "python3"
  },
  "language_info": {
   "codemirror_mode": {
    "name": "ipython",
    "version": 3
   },
   "file_extension": ".py",
   "mimetype": "text/x-python",
   "name": "python",
   "nbconvert_exporter": "python",
   "pygments_lexer": "ipython3",
   "version": "3.7.3"
  }
 },
 "nbformat": 4,
 "nbformat_minor": 4
}
