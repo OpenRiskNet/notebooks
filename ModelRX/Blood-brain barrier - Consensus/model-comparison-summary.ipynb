{
 "cells": [
  {
   "cell_type": "markdown",
   "metadata": {},
   "source": [
    "## Summary on consensus modelling using Dempster-Shafer theory"
   ]
  },
  {
   "cell_type": "code",
   "execution_count": 27,
   "metadata": {},
   "outputs": [],
   "source": [
    "from IPython.display import HTML, display\n",
    "from PIL import Image"
   ]
  },
  {
   "cell_type": "markdown",
   "metadata": {},
   "source": [
    "### Heatmap visualization of individual and consensus predictions\n",
    "\n",
    "Each row represent a single compound. Different columns correspond to various predictive models, while color designates the probability:\n",
    "- first 4 columns represent the probability of penetrating according to CPSign, Jaqpot, Lazar and Weka models;\n",
    "- next 3 columns represent the probability of penetrating (Cons_P), non-penetrating (Cons_N) and uncertainty according to the DST consensus approach\n",
    "- heatmaps for the two different combination rules are shown side by side\n",
    "\n",
    "Note that Yager rule tends to increase uncertainty in case of disagreements between the models, while Dempster rule tends to diminish uncertainty on the account of higher certainty in one or the other outcome."
   ]
  },
  {
   "cell_type": "code",
   "execution_count": 28,
   "metadata": {},
   "outputs": [
    {
     "data": {
      "text/html": [
       "<table><tr><td><center><b><h2>YAGER RULE</h3></b></center><img src='img/heatmap_Y.png'></td><td><center><b><h2>DEMPSTER RULE</h2></b></center><img src='img/heatmap_D.png'></td></tr></table>"
      ],
      "text/plain": [
       "<IPython.core.display.HTML object>"
      ]
     },
     "metadata": {},
     "output_type": "display_data"
    }
   ],
   "source": [
    "display(HTML(\"<table><tr><td><center><b><h2>YAGER RULE</h3></b></center><img src='img/heatmap_Y.png'></td><td><center><b><h2>DEMPSTER RULE</h2></b></center><img src='img/heatmap_D.png'></td></tr></table>\"))"
   ]
  },
  {
   "cell_type": "markdown",
   "metadata": {},
   "source": [
    "### ROC plots for consensus of 2 models (different combinations) and individual models"
   ]
  },
  {
   "cell_type": "code",
   "execution_count": 29,
   "metadata": {},
   "outputs": [
    {
     "data": {
      "text/html": [
       "<table>\n",
       "<tr>\n",
       "    <td><img src='img/model-comparison-roc-2-CJ.png'></td>\n",
       "    <td><img src='img/model-comparison-roc-2-CL.png'></td>\n",
       "</tr>\n",
       "<tr>\n",
       "    <td><img src='img/model-comparison-roc-2-CW.png'></td>\n",
       "    <td><img src='img/model-comparison-roc-2-JL.png'></td>\n",
       "</tr>\n",
       "<tr>\n",
       "    <td><img src='img/model-comparison-roc-2-JW.png'></td>\n",
       "    <td><img src='img/model-comparison-roc-2-LW.png'></td>\n",
       "</tr>\n",
       "</table>"
      ],
      "text/plain": [
       "<IPython.core.display.HTML object>"
      ]
     },
     "metadata": {},
     "output_type": "display_data"
    }
   ],
   "source": [
    "display(HTML(\"\"\"<table>\n",
    "<tr>\n",
    "    <td><img src='img/model-comparison-roc-2-CJ.png'></td>\n",
    "    <td><img src='img/model-comparison-roc-2-CL.png'></td>\n",
    "</tr>\n",
    "<tr>\n",
    "    <td><img src='img/model-comparison-roc-2-CW.png'></td>\n",
    "    <td><img src='img/model-comparison-roc-2-JL.png'></td>\n",
    "</tr>\n",
    "<tr>\n",
    "    <td><img src='img/model-comparison-roc-2-JW.png'></td>\n",
    "    <td><img src='img/model-comparison-roc-2-LW.png'></td>\n",
    "</tr>\n",
    "</table>\"\"\"))"
   ]
  },
  {
   "cell_type": "markdown",
   "metadata": {},
   "source": [
    "### ROC plots for consensus of 3 models (different combinations) and individual models"
   ]
  },
  {
   "cell_type": "code",
   "execution_count": 30,
   "metadata": {},
   "outputs": [
    {
     "data": {
      "text/html": [
       "<table>\n",
       "<tr>\n",
       "    <td><img src='img/model-comparison-roc-3-CJL.png'></td>\n",
       "    <td><img src='img/model-comparison-roc-3-CJW.png'></td>\n",
       "</tr>\n",
       "<tr>\n",
       "    <td><img src='img/model-comparison-roc-3-CLW.png'></td>\n",
       "    <td><img src='img/model-comparison-roc-3-JLW.png'></td>\n",
       "</tr>\n",
       "</table>"
      ],
      "text/plain": [
       "<IPython.core.display.HTML object>"
      ]
     },
     "metadata": {},
     "output_type": "display_data"
    }
   ],
   "source": [
    "display(HTML(\"\"\"<table>\n",
    "<tr>\n",
    "    <td><img src='img/model-comparison-roc-3-CJL.png'></td>\n",
    "    <td><img src='img/model-comparison-roc-3-CJW.png'></td>\n",
    "</tr>\n",
    "<tr>\n",
    "    <td><img src='img/model-comparison-roc-3-CLW.png'></td>\n",
    "    <td><img src='img/model-comparison-roc-3-JLW.png'></td>\n",
    "</tr>\n",
    "</table>\"\"\"))"
   ]
  },
  {
   "cell_type": "markdown",
   "metadata": {},
   "source": [
    "### ROC plots for consensus of 4 models and individual models"
   ]
  },
  {
   "cell_type": "code",
   "execution_count": 31,
   "metadata": {},
   "outputs": [
    {
     "data": {
      "text/html": [
       "<table>\n",
       "<tr>\n",
       "    <td><img src='img/model-comparison-roc-4-CJLW.png'></td>\n",
       "</tr>\n",
       "</table>"
      ],
      "text/plain": [
       "<IPython.core.display.HTML object>"
      ]
     },
     "metadata": {},
     "output_type": "display_data"
    }
   ],
   "source": [
    "display(HTML(\"\"\"<table>\n",
    "<tr>\n",
    "    <td><img src='img/model-comparison-roc-4-CJLW.png'></td>\n",
    "</tr>\n",
    "</table>\"\"\"))"
   ]
  },
  {
   "cell_type": "code",
   "execution_count": null,
   "metadata": {},
   "outputs": [],
   "source": []
  }
 ],
 "metadata": {
  "kernelspec": {
   "display_name": "Python 3",
   "language": "python",
   "name": "python3"
  },
  "language_info": {
   "codemirror_mode": {
    "name": "ipython",
    "version": 3
   },
   "file_extension": ".py",
   "mimetype": "text/x-python",
   "name": "python",
   "nbconvert_exporter": "python",
   "pygments_lexer": "ipython3",
   "version": "3.7.3"
  }
 },
 "nbformat": 4,
 "nbformat_minor": 4
}
