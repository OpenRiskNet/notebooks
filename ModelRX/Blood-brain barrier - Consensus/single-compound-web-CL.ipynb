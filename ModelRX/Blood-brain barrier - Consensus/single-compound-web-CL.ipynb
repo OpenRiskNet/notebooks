{
 "cells": [
  {
   "cell_type": "markdown",
   "metadata": {},
   "source": [
    "### Goal:\n",
    "Based on provided Smiles string, get the blood-brain barrier penetration prediction from different models available through OpenRiskNet service (Lazar, CPSign)"
   ]
  },
  {
   "cell_type": "markdown",
   "metadata": {},
   "source": [
    "#### Load libraries"
   ]
  },
  {
   "cell_type": "code",
   "execution_count": 1,
   "metadata": {},
   "outputs": [],
   "source": [
    "from pip._internal import main as pip\n",
    "\n",
    "import dst\n",
    "\n",
    "try:\n",
    "    import requests\n",
    "except ImportError:\n",
    "    pip(['install', 'request'])\n",
    "    import requests\n",
    "\n",
    "try:\n",
    "    import pandas as pd\n",
    "except ImportError:\n",
    "    pip(['install', 'pandas'])\n",
    "    import pandas as pd\n",
    "    \n",
    "try:\n",
    "    import numpy as np\n",
    "except ImportError:\n",
    "    pip(['install', 'numpy'])\n",
    "    import numpy as np\n",
    "    \n",
    "try:\n",
    "    import json\n",
    "except ImportError:\n",
    "    pip(['install', 'json'])\n",
    "    import json\n",
    "    \n",
    "try:\n",
    "    import matplotlib.pyplot as plt\n",
    "except ImportError:\n",
    "    pip(['install', 'matplotlib'])\n",
    "    import matplotlib.pyplot as plt\n",
    "    \n",
    "    \n",
    "try:\n",
    "    import pprint\n",
    "except ImportError:\n",
    "    pip(['install', 'pprint'])\n",
    "    import pprint"
   ]
  },
  {
   "cell_type": "markdown",
   "metadata": {},
   "source": [
    "#### Define which models are used (and set their PPV, NPV values)"
   ]
  },
  {
   "cell_type": "code",
   "execution_count": 2,
   "metadata": {},
   "outputs": [],
   "source": [
    "# define models used\n",
    "models = ['CPSign', 'Lazar']\n",
    "\n",
    "# initiate dictionaries to collect model properties/predictions\n",
    "models_pred, models_prob, models_ppv, models_npv = {}, {}, {}, {}\n",
    "\n",
    "models_npv['CPSign'] = 0.701\n",
    "models_npv['Lazar'] = 0.489\n",
    "\n",
    "models_ppv['CPSign'] = 0.809\n",
    "models_ppv['Lazar'] = 0.886"
   ]
  },
  {
   "cell_type": "markdown",
   "metadata": {},
   "source": [
    "#### User enters Smiles string"
   ]
  },
  {
   "cell_type": "code",
   "execution_count": 4,
   "metadata": {},
   "outputs": [
    {
     "name": "stdin",
     "output_type": "stream",
     "text": [
      " OOCCOO\n"
     ]
    }
   ],
   "source": [
    "smiles = input()"
   ]
  },
  {
   "cell_type": "markdown",
   "metadata": {},
   "source": [
    "#### Lazar model"
   ]
  },
  {
   "cell_type": "code",
   "execution_count": 5,
   "metadata": {},
   "outputs": [
    {
     "name": "stdout",
     "output_type": "stream",
     "text": [
      "Prediction could not be made\n"
     ]
    }
   ],
   "source": [
    "# parameters to access API\n",
    "url = 'https://lazar.prod.openrisknet.org/model/5ae2dd885f1c2d01323270ee'\n",
    "body = {'identifier': smiles}\n",
    "headers = {'accept': 'text/csv'}\n",
    "\n",
    "r = requests.post(url, headers=headers, data=body)\n",
    "\n",
    "if r.status_code == 200:\n",
    "    result = json.loads(r.text)\n",
    "   \n",
    "    try:\n",
    "        pred = result['prediction']['value']\n",
    "        \n",
    "        if pred == None:\n",
    "            pass\n",
    "        elif pred == 'penetrating':\n",
    "            pred = 'P'\n",
    "        else:\n",
    "            pred = 'N'\n",
    "        \n",
    "        # these probabilities could be used in DST approach, but currently we assume that predicted class has probability 1\n",
    "        prob_p = result['prediction']['probabilities']['penetrating']\n",
    "        prob_n = result['prediction']['probabilities']['non-penetrating']\n",
    "        \n",
    "    except KeyError:\n",
    "        print('Prediction could not be made')\n",
    "        pred, prob_p, prob_n = None, None, None\n",
    "        \n",
    "    models_pred['Lazar'] = pred\n",
    "    models_prob['Lazar'] = 1.  # we assign probability 1 to the predicted class\n",
    "else:\n",
    "    print('Error in accessing LAZAR web service.')"
   ]
  },
  {
   "cell_type": "markdown",
   "metadata": {},
   "source": [
    "#### CPSign model"
   ]
  },
  {
   "cell_type": "code",
   "execution_count": 6,
   "metadata": {},
   "outputs": [
    {
     "name": "stdout",
     "output_type": "stream",
     "text": [
      "Error in accessing CPSign web service.\n"
     ]
    }
   ],
   "source": [
    "url = \"http://blood-brain-barrier-penetration-cvap-cpsign.prod.openrisknet.org/v1/predict\"\n",
    "body = {'molecule': smiles}\n",
    "headers = {'accept': 'application/json'}\n",
    "\n",
    "r = requests.get(url, headers=headers, params=body)\n",
    "\n",
    "if r.status_code == 200:\n",
    "    result = json.loads(r.text)\n",
    "    \n",
    "    result = pd.DataFrame(result['prediction']).set_index('label')\n",
    "    \n",
    "    prob_p = result.loc['penetrating', 'probability']\n",
    "    prob_n = result.loc['non-penetrating', 'probability']\n",
    "    \n",
    "    if prob_p > prob_n:\n",
    "        models_pred['CPSign'] = 'P'\n",
    "        models_prob['CPSign'] = prob_p\n",
    "    else:\n",
    "        models_pred['CPSign'] = 'N'\n",
    "        models_prob['CPSign'] = prob_n\n",
    "    \n",
    "else:\n",
    "    print('Error in accessing CPSign web service.')"
   ]
  },
  {
   "cell_type": "markdown",
   "metadata": {},
   "source": [
    "#### Results of individual predictive models collected in dictionaries"
   ]
  },
  {
   "cell_type": "code",
   "execution_count": 221,
   "metadata": {},
   "outputs": [
    {
     "name": "stdout",
     "output_type": "stream",
     "text": [
      "models_pred:\n",
      " {'Lazar': None, 'CPSign': 'P'} \n",
      "\n",
      "models_prob:\n",
      " {'Lazar': 1.0, 'CPSign': 0.966} \n",
      "\n",
      "models_ppv:\n",
      " {'CPSign': 0.809, 'Lazar': 0.886} \n",
      "\n",
      "models_npv:\n",
      " {'CPSign': 0.701, 'Lazar': 0.489}\n"
     ]
    }
   ],
   "source": [
    "print('models_pred:\\n', models_pred, '\\n\\nmodels_prob:\\n', models_prob, '\\n\\nmodels_ppv:\\n', models_ppv, '\\n\\nmodels_npv:\\n', models_npv)"
   ]
  },
  {
   "cell_type": "markdown",
   "metadata": {},
   "source": [
    "#### Consensus predictions"
   ]
  },
  {
   "cell_type": "code",
   "execution_count": 224,
   "metadata": {},
   "outputs": [
    {
     "name": "stdout",
     "output_type": "stream",
     "text": [
      "Some prediction is invalid.\n"
     ]
    }
   ],
   "source": [
    "# if all models have valid predictions, then continue with consensus\n",
    "validPred = True\n",
    "for model in models:\n",
    "    if (models_pred[model] == 'P') or (models_pred[model] == 'N'):\n",
    "        pass\n",
    "    else:\n",
    "        validPred = False\n",
    "        \n",
    "if validPred:\n",
    "    bel, pls, res = {}, {}, {}\n",
    "\n",
    "    # Dempster rule\n",
    "    bel['D'], pls['D'], res['D'] = dst.predict_Dempster(models_pred, models_prob, models_ppv, models_npv)\n",
    "\n",
    "    # Yager rule\n",
    "    bel['Y'], pls['Y'], res['Y'] = dst.predict_Yager(models_pred, models_prob, models_ppv, models_npv)\n",
    "else:\n",
    "    print('Some prediction is invalid.')"
   ]
  },
  {
   "cell_type": "markdown",
   "metadata": {},
   "source": [
    "#### Visualization of predictions"
   ]
  },
  {
   "cell_type": "code",
   "execution_count": 204,
   "metadata": {},
   "outputs": [
    {
     "data": {
      "image/png": "[encoded data removed]",
      "text/plain": [
       "<Figure size 432x288 with 2 Axes>"
      ]
     },
     "metadata": {
      "needs_background": "light"
     },
     "output_type": "display_data"
    }
   ],
   "source": [
    "colorPenetrating = '#fc8d62'\n",
    "colorNonpenetrating = '#8da0cb'\n",
    "colorUncertainty = '#66c2a5'\n",
    "\n",
    "def color_prediction(state):\n",
    "    if state == 'P':\n",
    "        return colorPenetrating\n",
    "    else:\n",
    "        return colorNonpenetrating\n",
    "    \n",
    "def color_antiprediction(state):\n",
    "    if state == 'P':\n",
    "        return colorNonpenetrating\n",
    "    else:\n",
    "        return colorPenetrating\n",
    "\n",
    "fig, axs = plt.subplots(1, 2)\n",
    "\n",
    "width = 0.2\n",
    "\n",
    "# left plot - individual models\n",
    "for i in range(len(models)):\n",
    "    axs[0].bar(i, models_prob[models[i]], width, bottom=0, color=color_prediction(models_pred[models[i]]) )\n",
    "    axs[0].bar(i, (1 - models_prob[models[i]]), width, bottom=models_prob[models[i]], color=color_antiprediction(models_pred[models[i]]))\n",
    "    \n",
    "axs[0].set_xticks(range(len(models)))    \n",
    "axs[0].set_xticklabels(models)\n",
    "axs[0].set_xlim(-0.5, len(models) - 0.5)\n",
    "axs[0].set_ylabel('Probability')\n",
    "axs[0].set_ylim(0, 1)\n",
    "axs[0].set_title('Individual model predictions')\n",
    "\n",
    "# right plot - consensus models\n",
    "axs[1].bar(0, bel['Y']['P'], width, bottom=0, color=colorPenetrating)\n",
    "axs[1].bar(0, (pls['Y']['P'] - bel['Y']['P']), width, bottom=bel['Y']['P'], color=colorUncertainty)\n",
    "axs[1].bar(0, bel['Y']['N'], width, bottom=pls['Y']['P'], color=colorNonpenetrating)\n",
    "\n",
    "p1 = axs[1].bar(1, bel['D']['P'], width, bottom=0, color=colorPenetrating)\n",
    "p2 = axs[1].bar(1, (pls['D']['P'] - bel['D']['P']), width, bottom=bel['D']['P'], color=colorUncertainty)\n",
    "p3 = axs[1].bar(1, bel['D']['N'], width, bottom=pls['D']['P'], color=colorNonpenetrating)\n",
    "\n",
    "axs[1].set_xticks([0, 1])    \n",
    "axs[1].set_xticklabels(['Yager', 'Dempster'])\n",
    "axs[1].set_xlim(-0.5, len(models) - 0.5)\n",
    "axs[1].set_ylabel('')\n",
    "axs[1].set_yticklabels('')\n",
    "axs[1].set_ylim(0, 1)\n",
    "axs[1].set_title('Consensus predictions')\n",
    "\n",
    "fig.legend((p1[0], p2[0], p3[0]), ('penetrating', 'uncertainty', 'non-penetrating'), bbox_to_anchor=(1.2, 0.85))\n",
    "\n",
    "fig.show()"
   ]
  }
 ],
 "metadata": {
  "kernelspec": {
   "display_name": "Python 3",
   "language": "python",
   "name": "python3"
  },
  "language_info": {
   "codemirror_mode": {
    "name": "ipython",
    "version": 3
   },
   "file_extension": ".py",
   "mimetype": "text/x-python",
   "name": "python",
   "nbconvert_exporter": "python",
   "pygments_lexer": "ipython3",
   "version": "3.7.3"
  }
 },
 "nbformat": 4,
 "nbformat_minor": 4
}
