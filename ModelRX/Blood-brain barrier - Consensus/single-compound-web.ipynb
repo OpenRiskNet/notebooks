{
 "cells": [
  {
   "cell_type": "markdown",
   "metadata": {},
   "source": [
    "### Goal:\n",
    "Based on provided Smiles string, get the blood-brain barrier penetration prediction from different models available through OpenRiskNet service (Lazar, Weka, CPSign)"
   ]
  },
  {
   "cell_type": "markdown",
   "metadata": {},
   "source": [
    "#### Load libraries"
   ]
  },
  {
   "cell_type": "code",
   "execution_count": 1,
   "metadata": {},
   "outputs": [],
   "source": [
    "from pip._internal import main as pip\n",
    "\n",
    "import dst\n",
    "\n",
    "try:\n",
    "    import requests\n",
    "except ImportError:\n",
    "    pip(['install', 'request'])\n",
    "    import requests\n",
    "\n",
    "try:\n",
    "    import pandas as pd\n",
    "except ImportError:\n",
    "    pip(['install', 'pandas'])\n",
    "    import pandas as pd\n",
    "    \n",
    "try:\n",
    "    import urllib\n",
    "except ImportError:\n",
    "    pip(['install', 'urllib'])\n",
    "    import urllib\n",
    "    \n",
    "try:\n",
    "    import json\n",
    "except ImportError:\n",
    "    pip(['install', 'json'])\n",
    "    import json"
   ]
  },
  {
   "cell_type": "code",
   "execution_count": 2,
   "metadata": {},
   "outputs": [],
   "source": [
    "models = ['CPSign', 'Lazar', 'Weka']\n",
    "\n",
    "models_pred, models_prob, models_ppv, models_npv = {}, {}, {}, {}\n",
    "\n",
    "for model in models:\n",
    "    models_prob[model] = 1.\n",
    "    models_pred[model] = 'P' "
   ]
  },
  {
   "cell_type": "code",
   "execution_count": 3,
   "metadata": {},
   "outputs": [],
   "source": [
    "models_npv['CPSign'] = 0.701\n",
    "models_npv['Jaqpot'] = 0.738\n",
    "models_npv['Lazar'] = 0.489\n",
    "models_npv['Weka'] = 112 / (112 + 9)\n",
    "\n",
    "models_ppv['CPSign'] = 0.809\n",
    "models_ppv['Jaqpot'] = 0.687\n",
    "models_ppv['Lazar'] = 0.886\n",
    "models_ppv['Weka'] = 267 / (267 + 27)"
   ]
  },
  {
   "cell_type": "markdown",
   "metadata": {},
   "source": [
    "#### User enters Smiles string"
   ]
  },
  {
   "cell_type": "code",
   "execution_count": 4,
   "metadata": {},
   "outputs": [
    {
     "name": "stdin",
     "output_type": "stream",
     "text": [
      " CCCO\n"
     ]
    }
   ],
   "source": [
    "smiles = input()"
   ]
  },
  {
   "cell_type": "markdown",
   "metadata": {},
   "source": [
    "#### Lazar model"
   ]
  },
  {
   "cell_type": "code",
   "execution_count": 5,
   "metadata": {},
   "outputs": [],
   "source": [
    "body = {'identifier': smiles}\n",
    "\n",
    "headers = {'accept': 'text/csv'}\n",
    "\n",
    "# URL address for the human BBB model\n",
    "modelUrl = 'https://lazar.prod.openrisknet.org/model/5ae2dd885f1c2d01323270ee'\n",
    "\n",
    "result = requests.post(modelUrl, headers=headers, data=body)\n",
    "result = json.loads(result.text)"
   ]
  },
  {
   "cell_type": "code",
   "execution_count": 6,
   "metadata": {},
   "outputs": [],
   "source": [
    "pred = result['prediction']['value']\n",
    "\n",
    "if pred == 'penetrating':\n",
    "    models_pred['Lazar'] = 'P'\n",
    "else:\n",
    "    models_pred['Lazar'] = 'N'"
   ]
  },
  {
   "cell_type": "markdown",
   "metadata": {},
   "source": [
    "#### Weka model"
   ]
  },
  {
   "cell_type": "markdown",
   "metadata": {},
   "source": [
    "#### CPSign model"
   ]
  },
  {
   "cell_type": "code",
   "execution_count": null,
   "metadata": {},
   "outputs": [],
   "source": []
  },
  {
   "cell_type": "markdown",
   "metadata": {},
   "source": [
    "#### Consensus prediction"
   ]
  },
  {
   "cell_type": "code",
   "execution_count": 7,
   "metadata": {},
   "outputs": [],
   "source": [
    "bel, pls, res = dst.predict_Dempster(models_pred, models_prob, models_ppv, models_npv)"
   ]
  },
  {
   "cell_type": "code",
   "execution_count": 8,
   "metadata": {},
   "outputs": [
    {
     "data": {
      "text/plain": [
       "{'P': 0.9980003469387755, 'N': 0.0, 'PN': 1.0}"
      ]
     },
     "execution_count": 8,
     "metadata": {},
     "output_type": "execute_result"
    }
   ],
   "source": [
    "bel"
   ]
  },
  {
   "cell_type": "code",
   "execution_count": 9,
   "metadata": {},
   "outputs": [
    {
     "data": {
      "text/plain": [
       "{'P': 1.0, 'N': 0.0019996530612244887, 'PN': 1.0}"
      ]
     },
     "execution_count": 9,
     "metadata": {},
     "output_type": "execute_result"
    }
   ],
   "source": [
    "pls"
   ]
  },
  {
   "cell_type": "code",
   "execution_count": 10,
   "metadata": {},
   "outputs": [
    {
     "data": {
      "text/plain": [
       "'P'"
      ]
     },
     "execution_count": 10,
     "metadata": {},
     "output_type": "execute_result"
    }
   ],
   "source": [
    "res"
   ]
  },
  {
   "cell_type": "code",
   "execution_count": null,
   "metadata": {},
   "outputs": [],
   "source": []
  }
 ],
 "metadata": {
  "kernelspec": {
   "display_name": "Python 3",
   "language": "python",
   "name": "python3"
  },
  "language_info": {
   "codemirror_mode": {
    "name": "ipython",
    "version": 3
   },
   "file_extension": ".py",
   "mimetype": "text/x-python",
   "name": "python",
   "nbconvert_exporter": "python",
   "pygments_lexer": "ipython3",
   "version": "3.7.3"
  }
 },
 "nbformat": 4,
 "nbformat_minor": 4
}
