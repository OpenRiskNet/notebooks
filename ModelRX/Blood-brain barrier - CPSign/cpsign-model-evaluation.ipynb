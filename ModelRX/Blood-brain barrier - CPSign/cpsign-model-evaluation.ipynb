{
 "cells": [
  {
   "cell_type": "markdown",
   "metadata": {},
   "source": [
    "### Goal:\n",
    "Evaluate the performance of the CPSign model (CVAP)"
   ]
  },
  {
   "cell_type": "code",
   "execution_count": 39,
   "metadata": {},
   "outputs": [],
   "source": [
    "from pip._internal import main as pip\n",
    "\n",
    "try:\n",
    "    import pandas as pd\n",
    "except ImportError:\n",
    "    pip(['install', 'pandas'])\n",
    "    import pandas as pd\n",
    "    \n",
    "try:\n",
    "    import sklearn\n",
    "    from sklearn import metrics\n",
    "except ImportError:\n",
    "    pip(['install', 'sklearn'])\n",
    "    import sklearn\n",
    "    from sklearn import metrics\n",
    "    \n",
    "try:\n",
    "    import matplotlib.pyplot as plt\n",
    "except ImportError:\n",
    "    pip(['install', 'matplotlib'])\n",
    "    import matplotlib.pyplot as plt"
   ]
  },
  {
   "cell_type": "markdown",
   "metadata": {},
   "source": [
    "#### Read the provided dataset and curate"
   ]
  },
  {
   "cell_type": "code",
   "execution_count": 40,
   "metadata": {},
   "outputs": [
    {
     "data": {
      "text/html": [
       "<div>\n",
       "<style scoped>\n",
       "    .dataframe tbody tr th:only-of-type {\n",
       "        vertical-align: middle;\n",
       "    }\n",
       "\n",
       "    .dataframe tbody tr th {\n",
       "        vertical-align: top;\n",
       "    }\n",
       "\n",
       "    .dataframe thead th {\n",
       "        text-align: right;\n",
       "    }\n",
       "</style>\n",
       "<table border=\"1\" class=\"dataframe\">\n",
       "  <thead>\n",
       "    <tr style=\"text-align: right;\">\n",
       "      <th></th>\n",
       "      <th>SMILES</th>\n",
       "      <th>True</th>\n",
       "      <th>Probability_N</th>\n",
       "      <th>Probability_P</th>\n",
       "    </tr>\n",
       "  </thead>\n",
       "  <tbody>\n",
       "    <tr>\n",
       "      <th>0</th>\n",
       "      <td>O=C(N1CCCC[C@H]1CN1CCCC1)Cc1ccc(cc1)C(F)(F)F</td>\n",
       "      <td>penetrating</td>\n",
       "      <td>0.142</td>\n",
       "      <td>0.858</td>\n",
       "    </tr>\n",
       "    <tr>\n",
       "      <th>1</th>\n",
       "      <td>CCCO</td>\n",
       "      <td>penetrating</td>\n",
       "      <td>0.140</td>\n",
       "      <td>0.860</td>\n",
       "    </tr>\n",
       "    <tr>\n",
       "      <th>2</th>\n",
       "      <td>NCCCNCCSP(=O)(O)O</td>\n",
       "      <td>non-penetrating</td>\n",
       "      <td>0.109</td>\n",
       "      <td>0.891</td>\n",
       "    </tr>\n",
       "    <tr>\n",
       "      <th>3</th>\n",
       "      <td>CNC[C@@H](c1ccc(c(c1)O)O)O</td>\n",
       "      <td>non-penetrating</td>\n",
       "      <td>0.569</td>\n",
       "      <td>0.431</td>\n",
       "    </tr>\n",
       "    <tr>\n",
       "      <th>4</th>\n",
       "      <td>CC[C@@H](c1ccccc1)NC(=O)c1c(C)c(nc2c1cccc2)c1c...</td>\n",
       "      <td>penetrating</td>\n",
       "      <td>0.736</td>\n",
       "      <td>0.264</td>\n",
       "    </tr>\n",
       "  </tbody>\n",
       "</table>\n",
       "</div>"
      ],
      "text/plain": [
       "                                              SMILES             True  \\\n",
       "0       O=C(N1CCCC[C@H]1CN1CCCC1)Cc1ccc(cc1)C(F)(F)F      penetrating   \n",
       "1                                               CCCO      penetrating   \n",
       "2                                  NCCCNCCSP(=O)(O)O  non-penetrating   \n",
       "3                         CNC[C@@H](c1ccc(c(c1)O)O)O  non-penetrating   \n",
       "4  CC[C@@H](c1ccccc1)NC(=O)c1c(C)c(nc2c1cccc2)c1c...      penetrating   \n",
       "\n",
       "   Probability_N  Probability_P  \n",
       "0          0.142          0.858  \n",
       "1          0.140          0.860  \n",
       "2          0.109          0.891  \n",
       "3          0.569          0.431  \n",
       "4          0.736          0.264  "
      ]
     },
     "execution_count": 40,
     "metadata": {},
     "output_type": "execute_result"
    }
   ],
   "source": [
    "df = pd.read_csv('predictions_CPSign - from Staffan.csv', sep='\\t')\n",
    "\n",
    "# select first 4 columns and rename\n",
    "df = df.iloc[:, 0:4]\n",
    "df.columns = ['SMILES', 'True', 'Probability_N', 'Probability_P']\n",
    "\n",
    "df.head()"
   ]
  },
  {
   "cell_type": "markdown",
   "metadata": {},
   "source": [
    "#### Calculate predicted class"
   ]
  },
  {
   "cell_type": "code",
   "execution_count": 41,
   "metadata": {},
   "outputs": [],
   "source": [
    "def classify(prob_p, prob_n):\n",
    "    if prob_p > prob_n:\n",
    "        return 'penetrating'\n",
    "    else:\n",
    "        return 'non-penetrating'"
   ]
  },
  {
   "cell_type": "code",
   "execution_count": 42,
   "metadata": {},
   "outputs": [],
   "source": [
    "df['Predicted'] = df.apply(lambda x: classify(x['Probability_P'], x['Probability_N']), axis=1)\n",
    "\n",
    "dfCP = df.copy()\n",
    "dfCP = dfCP[['SMILES', 'True', 'Predicted', 'Probability_P', 'Probability_N']]\n",
    "dfCP.to_csv('predictions_CPSign.csv', index=False)"
   ]
  },
  {
   "cell_type": "markdown",
   "metadata": {},
   "source": [
    "#### Evaluate model performance\n",
    "- confusion matrix\n",
    "- ROC, AUC"
   ]
  },
  {
   "cell_type": "code",
   "execution_count": 43,
   "metadata": {},
   "outputs": [
    {
     "data": {
      "text/html": [
       "<div>\n",
       "<style scoped>\n",
       "    .dataframe tbody tr th:only-of-type {\n",
       "        vertical-align: middle;\n",
       "    }\n",
       "\n",
       "    .dataframe tbody tr th {\n",
       "        vertical-align: top;\n",
       "    }\n",
       "\n",
       "    .dataframe thead th {\n",
       "        text-align: right;\n",
       "    }\n",
       "</style>\n",
       "<table border=\"1\" class=\"dataframe\">\n",
       "  <thead>\n",
       "    <tr style=\"text-align: right;\">\n",
       "      <th>Predicted</th>\n",
       "      <th>non-penetrating</th>\n",
       "      <th>penetrating</th>\n",
       "    </tr>\n",
       "    <tr>\n",
       "      <th>True</th>\n",
       "      <th></th>\n",
       "      <th></th>\n",
       "    </tr>\n",
       "  </thead>\n",
       "  <tbody>\n",
       "    <tr>\n",
       "      <th>non-penetrating</th>\n",
       "      <td>82</td>\n",
       "      <td>57</td>\n",
       "    </tr>\n",
       "    <tr>\n",
       "      <th>penetrating</th>\n",
       "      <td>35</td>\n",
       "      <td>241</td>\n",
       "    </tr>\n",
       "  </tbody>\n",
       "</table>\n",
       "</div>"
      ],
      "text/plain": [
       "Predicted        non-penetrating  penetrating\n",
       "True                                         \n",
       "non-penetrating               82           57\n",
       "penetrating                   35          241"
      ]
     },
     "execution_count": 43,
     "metadata": {},
     "output_type": "execute_result"
    }
   ],
   "source": [
    "# confusion matrix\n",
    "conf = pd.crosstab(dfCP['True'], dfCP['Predicted'])\n",
    "conf"
   ]
  },
  {
   "cell_type": "code",
   "execution_count": 44,
   "metadata": {},
   "outputs": [
    {
     "data": {
      "image/png": "[encoded data removed]",
      "text/plain": [
       "<Figure size 432x288 with 1 Axes>"
      ]
     },
     "metadata": {
      "needs_background": "light"
     },
     "output_type": "display_data"
    }
   ],
   "source": [
    "# ROC plot\n",
    "df = dfCP.copy()\n",
    "\n",
    "df = df.dropna(axis=0, how='any').drop_duplicates()\n",
    "\n",
    "df['Probability_diff'] = (df['Probability_P'] - df['Probability_N']) # / 2. + 0.5\n",
    "df['True'] = df['True'].replace({'penetrating': 1, 'non-penetrating': 0})\n",
    "\n",
    "# compute ROC\n",
    "fpr, tpr, thresholds = metrics.roc_curve(df['True'], df['Probability_diff'], pos_label=1)\n",
    "\n",
    "# compute AUC\n",
    "auc = metrics.auc(fpr, tpr)\n",
    "\n",
    "# prepare the plot\n",
    "fig, ax = plt.subplots(1, 1)\n",
    "\n",
    "ax.plot(fpr, tpr, label='ROC curve (AUC = %0.2f)' % auc)\n",
    "ax.plot([0,1], [0,1], label='', color='black', linestyle='--')\n",
    "ax.legend(loc=\"lower right\")\n",
    "ax.set_xlabel('False positive rate')\n",
    "ax.set_ylabel('True positive rate')\n",
    "ax.set_aspect('equal')\n",
    "ax.set_xlim([0, 1])\n",
    "ax.set_ylim([0, 1])\n",
    "\n",
    "fig.tight_layout()\n",
    "\n",
    "plt.show()"
   ]
  }
 ],
 "metadata": {
  "kernelspec": {
   "display_name": "Python 3",
   "language": "python",
   "name": "python3"
  },
  "language_info": {
   "codemirror_mode": {
    "name": "ipython",
    "version": 3
   },
   "file_extension": ".py",
   "mimetype": "text/x-python",
   "name": "python",
   "nbconvert_exporter": "python",
   "pygments_lexer": "ipython3",
   "version": "3.7.3"
  }
 },
 "nbformat": 4,
 "nbformat_minor": 4
}
