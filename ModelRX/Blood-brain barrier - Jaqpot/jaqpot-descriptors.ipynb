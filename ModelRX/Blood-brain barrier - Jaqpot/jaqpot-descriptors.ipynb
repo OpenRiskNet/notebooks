{
 "cells": [
  {
   "cell_type": "markdown",
   "metadata": {},
   "source": [
    "### Goal:\n",
    "Build descriptors for a set of compounds from the Lazar web service (stored in `compounds.csv`)"
   ]
  },
  {
   "cell_type": "code",
   "execution_count": 14,
   "metadata": {},
   "outputs": [],
   "source": [
    "from pip._internal import main as pip\n",
    "\n",
    "try:\n",
    "    import requests\n",
    "except ImportError:\n",
    "    pip(['install', 'request'])\n",
    "    import requests\n",
    "\n",
    "try:\n",
    "    import pandas as pd\n",
    "except ImportError:\n",
    "    pip(['install', 'pandas'])\n",
    "    import pandas as pd\n",
    "       \n",
    "try:\n",
    "    from rdkit import Chem\n",
    "except ImportError:\n",
    "    print(\"Run the following from command line:\\n\\tconda install -c conda-forge rdkit\")\n",
    "    \n",
    "try:\n",
    "    from mordred import Calculator, descriptors\n",
    "except ImportError:\n",
    "    pip(['install', 'mordred'])\n",
    "    from mordred import Calculator, descriptors"
   ]
  },
  {
   "cell_type": "markdown",
   "metadata": {},
   "source": [
    "#### Load the set of compounds"
   ]
  },
  {
   "cell_type": "code",
   "execution_count": 26,
   "metadata": {},
   "outputs": [
    {
     "data": {
      "text/html": [
       "<div>\n",
       "<style scoped>\n",
       "    .dataframe tbody tr th:only-of-type {\n",
       "        vertical-align: middle;\n",
       "    }\n",
       "\n",
       "    .dataframe tbody tr th {\n",
       "        vertical-align: top;\n",
       "    }\n",
       "\n",
       "    .dataframe thead th {\n",
       "        text-align: right;\n",
       "    }\n",
       "</style>\n",
       "<table border=\"1\" class=\"dataframe\">\n",
       "  <thead>\n",
       "    <tr style=\"text-align: right;\">\n",
       "      <th></th>\n",
       "      <th>SMILES</th>\n",
       "      <th>Blood-Brain-Barrier Penetration</th>\n",
       "    </tr>\n",
       "  </thead>\n",
       "  <tbody>\n",
       "    <tr>\n",
       "      <th>0</th>\n",
       "      <td>OC[C@](c1onc(n1)c1ncn2-c3cccc(c3C(=O)N(Cc12)C)...</td>\n",
       "      <td>non-penetrating</td>\n",
       "    </tr>\n",
       "    <tr>\n",
       "      <th>1</th>\n",
       "      <td>NCCc1nc2n(c1)cccc2</td>\n",
       "      <td>non-penetrating</td>\n",
       "    </tr>\n",
       "    <tr>\n",
       "      <th>2</th>\n",
       "      <td>NCCc1nc2n(c1)cccc2</td>\n",
       "      <td>non-penetrating</td>\n",
       "    </tr>\n",
       "    <tr>\n",
       "      <th>3</th>\n",
       "      <td>CCCN(CCC)CCc1ccc(c2c1CC(=C)N2)O</td>\n",
       "      <td>penetrating</td>\n",
       "    </tr>\n",
       "    <tr>\n",
       "      <th>4</th>\n",
       "      <td>Fc1ccc2c(c1)onc2C1CCN(CC1)CCc1c(C)nc2n(c1=O)CC...</td>\n",
       "      <td>penetrating</td>\n",
       "    </tr>\n",
       "  </tbody>\n",
       "</table>\n",
       "</div>"
      ],
      "text/plain": [
       "                                              SMILES  \\\n",
       "0  OC[C@](c1onc(n1)c1ncn2-c3cccc(c3C(=O)N(Cc12)C)...   \n",
       "1                                 NCCc1nc2n(c1)cccc2   \n",
       "2                                 NCCc1nc2n(c1)cccc2   \n",
       "3                    CCCN(CCC)CCc1ccc(c2c1CC(=C)N2)O   \n",
       "4  Fc1ccc2c(c1)onc2C1CCN(CC1)CCc1c(C)nc2n(c1=O)CC...   \n",
       "\n",
       "  Blood-Brain-Barrier Penetration  \n",
       "0                 non-penetrating  \n",
       "1                 non-penetrating  \n",
       "2                 non-penetrating  \n",
       "3                     penetrating  \n",
       "4                     penetrating  "
      ]
     },
     "execution_count": 26,
     "metadata": {},
     "output_type": "execute_result"
    }
   ],
   "source": [
    "df = pd.read_csv('compounds.csv')\n",
    "df.head()"
   ]
  },
  {
   "cell_type": "markdown",
   "metadata": {},
   "source": [
    "#### Convert Smiles to Mol representation"
   ]
  },
  {
   "cell_type": "code",
   "execution_count": 27,
   "metadata": {},
   "outputs": [],
   "source": [
    "mols = []\n",
    "\n",
    "for smile in df['SMILES']:\n",
    "    mols.append(Chem.MolFromSmiles(smile))\n",
    "\n",
    "df['Mol'] = mols    \n",
    "\n",
    "# remove compounds with non-processible Smiles\n",
    "df = df.dropna()"
   ]
  },
  {
   "cell_type": "markdown",
   "metadata": {},
   "source": [
    "#### Calculation of Mordred descriptors"
   ]
  },
  {
   "cell_type": "code",
   "execution_count": 37,
   "metadata": {},
   "outputs": [
    {
     "name": "stderr",
     "output_type": "stream",
     "text": [
      " 53%|█████▎    | 207/388 [00:30<01:05,  2.78it/s]"
     ]
    },
    {
     "name": "stdout",
     "output_type": "stream",
     "text": [
      "/opt/conda/lib/python3.7/site-packages/numpy/core/fromnumeric.py:83: RuntimeWarning: overflow encountered in reduce\n",
      "  return ufunc.reduce(obj, axis, dtype, out, **passkwargs)\n"
     ]
    },
    {
     "name": "stderr",
     "output_type": "stream",
     "text": [
      " 60%|██████    | 234/388 [00:31<00:28,  5.35it/s]"
     ]
    },
    {
     "name": "stdout",
     "output_type": "stream",
     "text": [
      "/opt/conda/lib/python3.7/site-packages/numpy/core/fromnumeric.py:83: RuntimeWarning: overflow encountered in reduce\n",
      "  return ufunc.reduce(obj, axis, dtype, out, **passkwargs)\n"
     ]
    },
    {
     "name": "stderr",
     "output_type": "stream",
     "text": [
      " 71%|███████▏  | 277/388 [00:40<00:43,  2.57it/s]"
     ]
    },
    {
     "name": "stdout",
     "output_type": "stream",
     "text": [
      "/opt/conda/lib/python3.7/site-packages/numpy/core/fromnumeric.py:83: RuntimeWarning: overflow encountered in reduce\n",
      "  return ufunc.reduce(obj, axis, dtype, out, **passkwargs)\n"
     ]
    },
    {
     "name": "stderr",
     "output_type": "stream",
     "text": [
      " 79%|███████▊  | 305/388 [00:45<00:48,  1.71it/s]"
     ]
    },
    {
     "name": "stdout",
     "output_type": "stream",
     "text": [
      "/opt/conda/lib/python3.7/site-packages/numpy/core/fromnumeric.py:83: RuntimeWarning: overflow encountered in reduce\n",
      "  return ufunc.reduce(obj, axis, dtype, out, **passkwargs)\n"
     ]
    },
    {
     "name": "stderr",
     "output_type": "stream",
     "text": [
      "100%|██████████| 388/388 [00:59<00:00,  6.50it/s]\n"
     ]
    },
    {
     "data": {
      "text/html": [
       "<div>\n",
       "<style scoped>\n",
       "    .dataframe tbody tr th:only-of-type {\n",
       "        vertical-align: middle;\n",
       "    }\n",
       "\n",
       "    .dataframe tbody tr th {\n",
       "        vertical-align: top;\n",
       "    }\n",
       "\n",
       "    .dataframe thead th {\n",
       "        text-align: right;\n",
       "    }\n",
       "</style>\n",
       "<table border=\"1\" class=\"dataframe\">\n",
       "  <thead>\n",
       "    <tr style=\"text-align: right;\">\n",
       "      <th></th>\n",
       "      <th>ABC</th>\n",
       "      <th>ABCGG</th>\n",
       "      <th>nAcid</th>\n",
       "      <th>nBase</th>\n",
       "      <th>SpAbs_A</th>\n",
       "      <th>SpMax_A</th>\n",
       "      <th>SpDiam_A</th>\n",
       "      <th>SpAD_A</th>\n",
       "      <th>SpMAD_A</th>\n",
       "      <th>LogEE_A</th>\n",
       "      <th>...</th>\n",
       "      <th>SRW10</th>\n",
       "      <th>TSRW10</th>\n",
       "      <th>MW</th>\n",
       "      <th>AMW</th>\n",
       "      <th>WPath</th>\n",
       "      <th>WPol</th>\n",
       "      <th>Zagreb1</th>\n",
       "      <th>Zagreb2</th>\n",
       "      <th>mZagreb1</th>\n",
       "      <th>mZagreb2</th>\n",
       "    </tr>\n",
       "  </thead>\n",
       "  <tbody>\n",
       "    <tr>\n",
       "      <th>0</th>\n",
       "      <td>21.474080</td>\n",
       "      <td>17.978542</td>\n",
       "      <td>0</td>\n",
       "      <td>0</td>\n",
       "      <td>34.5534</td>\n",
       "      <td>2.54198</td>\n",
       "      <td>4.93359</td>\n",
       "      <td>34.5534</td>\n",
       "      <td>1.27976</td>\n",
       "      <td>4.25118</td>\n",
       "      <td>...</td>\n",
       "      <td>10.428837</td>\n",
       "      <td>78.871649</td>\n",
       "      <td>389.089082</td>\n",
       "      <td>9.048583</td>\n",
       "      <td>1727</td>\n",
       "      <td>52</td>\n",
       "      <td>152.0</td>\n",
       "      <td>187.0</td>\n",
       "      <td>9.67361</td>\n",
       "      <td>5.763889</td>\n",
       "    </tr>\n",
       "    <tr>\n",
       "      <th>1</th>\n",
       "      <td>9.151948</td>\n",
       "      <td>8.206878</td>\n",
       "      <td>0</td>\n",
       "      <td>1</td>\n",
       "      <td>15.659</td>\n",
       "      <td>2.37835</td>\n",
       "      <td>4.57188</td>\n",
       "      <td>15.659</td>\n",
       "      <td>1.30491</td>\n",
       "      <td>3.42249</td>\n",
       "      <td>...</td>\n",
       "      <td>9.190852</td>\n",
       "      <td>56.587917</td>\n",
       "      <td>161.095297</td>\n",
       "      <td>7.004143</td>\n",
       "      <td>197</td>\n",
       "      <td>14</td>\n",
       "      <td>60.0</td>\n",
       "      <td>69.0</td>\n",
       "      <td>3.33333</td>\n",
       "      <td>2.777778</td>\n",
       "    </tr>\n",
       "    <tr>\n",
       "      <th>2</th>\n",
       "      <td>9.151948</td>\n",
       "      <td>8.206878</td>\n",
       "      <td>0</td>\n",
       "      <td>1</td>\n",
       "      <td>15.659</td>\n",
       "      <td>2.37835</td>\n",
       "      <td>4.57188</td>\n",
       "      <td>15.659</td>\n",
       "      <td>1.30491</td>\n",
       "      <td>3.42249</td>\n",
       "      <td>...</td>\n",
       "      <td>9.190852</td>\n",
       "      <td>56.587917</td>\n",
       "      <td>161.095297</td>\n",
       "      <td>7.004143</td>\n",
       "      <td>197</td>\n",
       "      <td>14</td>\n",
       "      <td>60.0</td>\n",
       "      <td>69.0</td>\n",
       "      <td>3.33333</td>\n",
       "      <td>2.777778</td>\n",
       "    </tr>\n",
       "    <tr>\n",
       "      <th>3</th>\n",
       "      <td>14.946702</td>\n",
       "      <td>13.140670</td>\n",
       "      <td>0</td>\n",
       "      <td>1</td>\n",
       "      <td>25.0359</td>\n",
       "      <td>2.45245</td>\n",
       "      <td>4.79766</td>\n",
       "      <td>25.0359</td>\n",
       "      <td>1.2518</td>\n",
       "      <td>3.90305</td>\n",
       "      <td>...</td>\n",
       "      <td>9.742908</td>\n",
       "      <td>67.137495</td>\n",
       "      <td>274.204513</td>\n",
       "      <td>5.960968</td>\n",
       "      <td>862</td>\n",
       "      <td>28</td>\n",
       "      <td>98.0</td>\n",
       "      <td>113.0</td>\n",
       "      <td>7.16667</td>\n",
       "      <td>4.666667</td>\n",
       "    </tr>\n",
       "    <tr>\n",
       "      <th>4</th>\n",
       "      <td>24.862776</td>\n",
       "      <td>17.808737</td>\n",
       "      <td>0</td>\n",
       "      <td>1</td>\n",
       "      <td>40.9336</td>\n",
       "      <td>2.46674</td>\n",
       "      <td>4.9288</td>\n",
       "      <td>40.9336</td>\n",
       "      <td>1.32044</td>\n",
       "      <td>4.38836</td>\n",
       "      <td>...</td>\n",
       "      <td>10.513824</td>\n",
       "      <td>81.350168</td>\n",
       "      <td>426.206719</td>\n",
       "      <td>7.348392</td>\n",
       "      <td>3047</td>\n",
       "      <td>54</td>\n",
       "      <td>172.0</td>\n",
       "      <td>208.0</td>\n",
       "      <td>9.08333</td>\n",
       "      <td>6.638889</td>\n",
       "    </tr>\n",
       "  </tbody>\n",
       "</table>\n",
       "<p>5 rows × 1826 columns</p>\n",
       "</div>"
      ],
      "text/plain": [
       "         ABC      ABCGG  nAcid  nBase  SpAbs_A  SpMax_A SpDiam_A   SpAD_A  \\\n",
       "0  21.474080  17.978542      0      0  34.5534  2.54198  4.93359  34.5534   \n",
       "1   9.151948   8.206878      0      1   15.659  2.37835  4.57188   15.659   \n",
       "2   9.151948   8.206878      0      1   15.659  2.37835  4.57188   15.659   \n",
       "3  14.946702  13.140670      0      1  25.0359  2.45245  4.79766  25.0359   \n",
       "4  24.862776  17.808737      0      1  40.9336  2.46674   4.9288  40.9336   \n",
       "\n",
       "   SpMAD_A  LogEE_A    ...         SRW10     TSRW10          MW       AMW  \\\n",
       "0  1.27976  4.25118    ...     10.428837  78.871649  389.089082  9.048583   \n",
       "1  1.30491  3.42249    ...      9.190852  56.587917  161.095297  7.004143   \n",
       "2  1.30491  3.42249    ...      9.190852  56.587917  161.095297  7.004143   \n",
       "3   1.2518  3.90305    ...      9.742908  67.137495  274.204513  5.960968   \n",
       "4  1.32044  4.38836    ...     10.513824  81.350168  426.206719  7.348392   \n",
       "\n",
       "  WPath WPol  Zagreb1  Zagreb2  mZagreb1  mZagreb2  \n",
       "0  1727   52    152.0    187.0   9.67361  5.763889  \n",
       "1   197   14     60.0     69.0   3.33333  2.777778  \n",
       "2   197   14     60.0     69.0   3.33333  2.777778  \n",
       "3   862   28     98.0    113.0   7.16667  4.666667  \n",
       "4  3047   54    172.0    208.0   9.08333  6.638889  \n",
       "\n",
       "[5 rows x 1826 columns]"
      ]
     },
     "execution_count": 37,
     "metadata": {},
     "output_type": "execute_result"
    }
   ],
   "source": [
    "calc = Calculator(descriptors)\n",
    "\n",
    "dfMord = calc.pandas(df['Mol'])\n",
    "\n",
    "dfMord.head()"
   ]
  },
  {
   "cell_type": "markdown",
   "metadata": {},
   "source": [
    "#### Curate Mordred descriptors:\n",
    "- convert from int64, float64 to int32, float32\n",
    "- drop columns that are of object type, because they contain text"
   ]
  },
  {
   "cell_type": "code",
   "execution_count": 39,
   "metadata": {},
   "outputs": [
    {
     "name": "stdout",
     "output_type": "stream",
     "text": [
      "ABC            float32\n",
      "ABCGG          float32\n",
      "nAcid            int32\n",
      "nBase            int32\n",
      "SpAbs_A         object\n",
      "SpMax_A         object\n",
      "SpDiam_A        object\n",
      "SpAD_A          object\n",
      "SpMAD_A         object\n",
      "LogEE_A         object\n",
      "VE1_A           object\n",
      "VE2_A           object\n",
      "VE3_A           object\n",
      "VR1_A           object\n",
      "VR2_A           object\n",
      "VR3_A           object\n",
      "nAromAtom        int32\n",
      "nAromBond        int32\n",
      "nAtom            int32\n",
      "nHeavyAtom       int32\n",
      "nSpiro           int32\n",
      "nBridgehead      int32\n",
      "nHetero          int32\n",
      "nH               int32\n",
      "nB               int32\n",
      "nC               int32\n",
      "nN               int32\n",
      "nO               int32\n",
      "nS               int32\n",
      "nP               int32\n",
      "                ...   \n",
      "VAdjMat        float32\n",
      "MWC01          float32\n",
      "MWC02          float32\n",
      "MWC03          float32\n",
      "MWC04          float32\n",
      "MWC05          float32\n",
      "MWC06          float32\n",
      "MWC07          float32\n",
      "MWC08          float32\n",
      "MWC09          float32\n",
      "MWC10          float32\n",
      "TMWC10         float32\n",
      "SRW02          float32\n",
      "SRW03          float32\n",
      "SRW04          float32\n",
      "SRW05          float32\n",
      "SRW06          float32\n",
      "SRW07          float32\n",
      "SRW08          float32\n",
      "SRW09          float32\n",
      "SRW10          float32\n",
      "TSRW10         float32\n",
      "MW             float32\n",
      "AMW            float32\n",
      "WPath            int32\n",
      "WPol             int32\n",
      "Zagreb1        float32\n",
      "Zagreb2        float32\n",
      "mZagreb1        object\n",
      "mZagreb2       float32\n",
      "Length: 1826, dtype: object\n",
      "(388, 1826)\n",
      "(388, 1826)\n"
     ]
    }
   ],
   "source": [
    "# convert from 64 to 32 types\n",
    "for col in dfMord.columns:\n",
    "    if dfMord[col].dtype == 'float64':\n",
    "        dfMord[col] = dfMord[col].astype('float32')\n",
    "    elif dfMord[col].dtype == 'int64':\n",
    "        dfMord[col] = dfMord[col].astype('int32')\n",
    "        \n",
    "dfMord.dtypes"
   ]
  },
  {
   "cell_type": "code",
   "execution_count": 43,
   "metadata": {},
   "outputs": [
    {
     "name": "stdout",
     "output_type": "stream",
     "text": [
      "Dataframe shape before dropping: (388, 888)\n",
      "Dataframe shape after dropping: (388, 888)\n"
     ]
    }
   ],
   "source": [
    "# drop all object columns\n",
    "\n",
    "print('Dataframe shape before dropping:', dfMord.shape)\n",
    "\n",
    "# list to collect columns to be dropped\n",
    "toDrop = []\n",
    "\n",
    "for col in dfMord.columns:\n",
    "    if dfMord[col].dtype == 'object':\n",
    "        toDrop.append(col)\n",
    "\n",
    "dfMord = dfMord.drop(toDrop, axis=1)\n",
    "\n",
    "print('Dataframe shape after dropping:', dfMord.shape)"
   ]
  },
  {
   "cell_type": "markdown",
   "metadata": {},
   "source": [
    "#### Join the compounds with descriptors"
   ]
  },
  {
   "cell_type": "code",
   "execution_count": 58,
   "metadata": {},
   "outputs": [],
   "source": [
    "df = pd.concat([df, dfMord], axis=1)\n",
    "df = df.rename(columns = {'Blood-Brain-Barrier Penetration': 'True'})\n",
    "df = df.drop('Mol', axis=1)\n",
    "\n",
    "df.to_csv('compounds_descriptors.csv', index=False)"
   ]
  }
 ],
 "metadata": {
  "kernelspec": {
   "display_name": "Python 3",
   "language": "python",
   "name": "python3"
  },
  "language_info": {
   "codemirror_mode": {
    "name": "ipython",
    "version": 3
   },
   "file_extension": ".py",
   "mimetype": "text/x-python",
   "name": "python",
   "nbconvert_exporter": "python",
   "pygments_lexer": "ipython3",
   "version": "3.7.3"
  }
 },
 "nbformat": 4,
 "nbformat_minor": 4
}
