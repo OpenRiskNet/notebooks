{
 "cells": [
  {
   "cell_type": "markdown",
   "metadata": {},
   "source": [
    "### Goal:\n",
    "Use scikit-learn's logistic regression to develop a predictive model for blood-brain-barrier penetration"
   ]
  },
  {
   "cell_type": "code",
   "execution_count": 13,
   "metadata": {},
   "outputs": [],
   "source": [
    "from pip._internal import main as pip\n",
    "\n",
    "try:\n",
    "    import pandas as pd\n",
    "except ImportError:\n",
    "    pip(['install', 'pandas'])\n",
    "    import pandas as pd\n",
    "    \n",
    "try:\n",
    "    import sklearn\n",
    "    from sklearn.feature_selection import RFE\n",
    "    from sklearn.linear_model import LogisticRegression\n",
    "    from sklearn.linear_model import LogisticRegressionCV\n",
    "    from sklearn import metrics\n",
    "    from sklearn.metrics import confusion_matrix\n",
    "except ImportError:\n",
    "    pip(['install', 'sklearn'])\n",
    "    import sklearn\n",
    "    from sklearn.feature_selection import RFE\n",
    "    from sklearn.linear_model import LogisticRegression\n",
    "    from sklearn.linear_model import LogisticRegressionCV\n",
    "    from sklearn import metrics\n",
    "    from sklearn.metrics import confusion_matrix\n",
    "    \n",
    "try:\n",
    "    import matplotlib.pyplot as plt\n",
    "except ImportError:\n",
    "    pip(['install', 'matplotlib'])\n",
    "    import matplotlib.pyplot as plt"
   ]
  },
  {
   "cell_type": "code",
   "execution_count": 14,
   "metadata": {},
   "outputs": [],
   "source": [
    "df = pd.read_csv('compounds_descriptors.csv', index_col=None)"
   ]
  },
  {
   "cell_type": "code",
   "execution_count": 15,
   "metadata": {},
   "outputs": [],
   "source": [
    "# remove constant columns - they cannot be scaled\n",
    "df = df.loc[:, (df != df.iloc[0]).any()] "
   ]
  },
  {
   "cell_type": "markdown",
   "metadata": {},
   "source": [
    "#### Split the main dataframe into X and Y"
   ]
  },
  {
   "cell_type": "code",
   "execution_count": 16,
   "metadata": {},
   "outputs": [],
   "source": [
    "X = df.drop(['True', 'SMILES'], axis=1)\n",
    "Y = df[['True']].replace({'non-penetrating': 0, 'penetrating': 1})"
   ]
  },
  {
   "cell_type": "markdown",
   "metadata": {},
   "source": [
    "#### Scaling between 0 and 1"
   ]
  },
  {
   "cell_type": "code",
   "execution_count": 17,
   "metadata": {},
   "outputs": [],
   "source": [
    "X_scaled = (X - X.min()) / (X.max() - X.min())"
   ]
  },
  {
   "cell_type": "markdown",
   "metadata": {},
   "source": [
    "#### Select only 20 most important features"
   ]
  },
  {
   "cell_type": "code",
   "execution_count": null,
   "metadata": {},
   "outputs": [],
   "source": [
    "model = LogisticRegression(solver='newton-cg', multi_class='multinomial', max_iter=100) \n",
    "\n",
    "rfe = RFE(model, 20, verbose=1)\n",
    "fit = rfe.fit(X_scaled, Y['True'])\n",
    "\n",
    "X_rfe = X_scaled.loc[:, fit.support_.tolist()]"
   ]
  },
  {
   "cell_type": "markdown",
   "metadata": {},
   "source": [
    "#### Cross-validation of logistic regression model"
   ]
  },
  {
   "cell_type": "code",
   "execution_count": 19,
   "metadata": {},
   "outputs": [],
   "source": [
    "model = LogisticRegressionCV(Cs=100, class_weight=None,\n",
    "            cv=5, dual=False, fit_intercept=True, intercept_scaling=1.0, \n",
    "            max_iter=10000, multi_class='ovr', n_jobs=1, penalty='l1', \n",
    "            random_state=None, refit=True, scoring='accuracy', \n",
    "            solver='liblinear', tol=0.0001, verbose=0).fit(X_rfe, Y['True'])\n",
    "\n",
    "# get class predictions\n",
    "df['Predicted'] = model.predict(X_rfe)\n",
    "\n",
    "# get probabilities\n",
    "dfProb = pd.DataFrame(model.predict_proba(X_rfe), columns=['Probability_N', 'Probability_P'])\n",
    "\n",
    "dfJaqpot = df[['SMILES', 'True', 'Predicted']].replace({0: 'non-penetrating', 1: 'penetrating'})\n",
    "dfJaqpot = pd.concat([dfJaqpot, dfProb], sort=False, axis=1)\n",
    "\n",
    "dfJaqpot.to_csv('predictions_Jaqpot.csv', index=False)"
   ]
  },
  {
   "cell_type": "markdown",
   "metadata": {},
   "source": [
    "#### Evaluate model performance\n",
    "- confusion matrix\n",
    "- PPV, NPV\n",
    "- ROC, AUC"
   ]
  },
  {
   "cell_type": "code",
   "execution_count": 20,
   "metadata": {},
   "outputs": [
    {
     "data": {
      "text/html": [
       "<div>\n",
       "<style scoped>\n",
       "    .dataframe tbody tr th:only-of-type {\n",
       "        vertical-align: middle;\n",
       "    }\n",
       "\n",
       "    .dataframe tbody tr th {\n",
       "        vertical-align: top;\n",
       "    }\n",
       "\n",
       "    .dataframe thead th {\n",
       "        text-align: right;\n",
       "    }\n",
       "</style>\n",
       "<table border=\"1\" class=\"dataframe\">\n",
       "  <thead>\n",
       "    <tr style=\"text-align: right;\">\n",
       "      <th>Predicted</th>\n",
       "      <th>non-penetrating</th>\n",
       "      <th>penetrating</th>\n",
       "    </tr>\n",
       "    <tr>\n",
       "      <th>True</th>\n",
       "      <th></th>\n",
       "      <th></th>\n",
       "    </tr>\n",
       "  </thead>\n",
       "  <tbody>\n",
       "    <tr>\n",
       "      <th>non-penetrating</th>\n",
       "      <td>90</td>\n",
       "      <td>38</td>\n",
       "    </tr>\n",
       "    <tr>\n",
       "      <th>penetrating</th>\n",
       "      <td>25</td>\n",
       "      <td>235</td>\n",
       "    </tr>\n",
       "  </tbody>\n",
       "</table>\n",
       "</div>"
      ],
      "text/plain": [
       "Predicted        non-penetrating  penetrating\n",
       "True                                         \n",
       "non-penetrating               90           38\n",
       "penetrating                   25          235"
      ]
     },
     "execution_count": 20,
     "metadata": {},
     "output_type": "execute_result"
    }
   ],
   "source": [
    "conf = pd.crosstab(dfJaqpot['True'], dfJaqpot['Predicted'])\n",
    "conf"
   ]
  },
  {
   "cell_type": "code",
   "execution_count": 23,
   "metadata": {},
   "outputs": [
    {
     "data": {
      "text/plain": [
       "(0.8608058608058609, 0.782608695652174)"
      ]
     },
     "execution_count": 23,
     "metadata": {},
     "output_type": "execute_result"
    }
   ],
   "source": [
    "tn, fp, fn, tp = confusion_matrix(dfJaqpot['True'], dfJaqpot['Predicted']).ravel()\n",
    "    \n",
    "ppv = tp / (tp + fp)\n",
    "npv = tn / (tn + fn)\n",
    "ppv, npv"
   ]
  },
  {
   "cell_type": "code",
   "execution_count": null,
   "metadata": {},
   "outputs": [],
   "source": [
    "# ROC plot\n",
    "dfPlot = dfJaqpot.copy()\n",
    "\n",
    "dfPlot = dfPlot.dropna(axis=0, how='any').drop_duplicates()\n",
    "\n",
    "dfPlot['Probability_diff'] = (dfPlot['Probability_P'] - dfPlot['Probability_N']) # / 2. + 0.5\n",
    "dfPlot['True'] = dfPlot['True'].replace({'penetrating': 1, 'non-penetrating': 0})\n",
    "\n",
    "# compute ROC\n",
    "fpr, tpr, thresholds = metrics.roc_curve(dfPlot['True'], dfPlot['Probability_diff'], pos_label=1)\n",
    "\n",
    "# compute AUC\n",
    "auc = metrics.auc(fpr, tpr)\n",
    "\n",
    "# prepare the plot\n",
    "fig, ax = plt.subplots(1, 1)\n",
    "\n",
    "ax.plot(fpr, tpr, label='ROC curve (AUC = %0.2f)' % auc)\n",
    "ax.plot([0,1], [0,1], label='', color='black', linestyle='--')\n",
    "ax.legend(loc=\"lower right\")\n",
    "ax.set_xlabel('False positive rate')\n",
    "ax.set_ylabel('True positive rate')\n",
    "ax.set_aspect('equal')\n",
    "ax.set_xlim([0, 1])\n",
    "ax.set_ylim([0, 1])\n",
    "\n",
    "fig.tight_layout()\n",
    "\n",
    "plt.show()"
   ]
  },
  {
   "cell_type": "markdown",
   "metadata": {},
   "source": [
    "#### Deploy the model to Jaqpot service"
   ]
  },
  {
   "cell_type": "code",
   "execution_count": 26,
   "metadata": {},
   "outputs": [
    {
     "name": "stdout",
     "output_type": "stream",
     "text": [
      "Collecting jaqpotpy\n",
      "  Downloading https://files.pythonhosted.org/packages/9f/66/e1615da250298a3326b814cbc36b832aa5c89d22ab2b1638db625bc6a75d/jaqpotpy-0.0.2.tar.gz\n",
      "Requirement already satisfied: pandas in /opt/conda/lib/python3.7/site-packages (from jaqpotpy) (0.23.4)\n",
      "Requirement already satisfied: pyjwt in /opt/conda/lib/python3.7/site-packages (from jaqpotpy) (1.7.1)\n",
      "Requirement already satisfied: requests in /opt/conda/lib/python3.7/site-packages (from jaqpotpy) (2.22.0)\n",
      "Requirement already satisfied: numpy>=1.9.0 in /opt/conda/lib/python3.7/site-packages (from pandas->jaqpotpy) (1.15.4)\n",
      "Requirement already satisfied: python-dateutil>=2.5.0 in /opt/conda/lib/python3.7/site-packages (from pandas->jaqpotpy) (2.8.0)\n",
      "Requirement already satisfied: pytz>=2011k in /opt/conda/lib/python3.7/site-packages (from pandas->jaqpotpy) (2019.1)\n",
      "Requirement already satisfied: chardet<3.1.0,>=3.0.2 in /opt/conda/lib/python3.7/site-packages (from requests->jaqpotpy) (3.0.4)\n",
      "Requirement already satisfied: urllib3!=1.25.0,!=1.25.1,<1.26,>=1.21.1 in /opt/conda/lib/python3.7/site-packages (from requests->jaqpotpy) (1.25.3)\n",
      "Requirement already satisfied: certifi>=2017.4.17 in /opt/conda/lib/python3.7/site-packages (from requests->jaqpotpy) (2019.9.11)\n",
      "Requirement already satisfied: idna<2.9,>=2.5 in /opt/conda/lib/python3.7/site-packages (from requests->jaqpotpy) (2.8)\n",
      "Requirement already satisfied: six>=1.5 in /opt/conda/lib/python3.7/site-packages (from python-dateutil>=2.5.0->pandas->jaqpotpy) (1.12.0)\n",
      "Building wheels for collected packages: jaqpotpy\n",
      "  Building wheel for jaqpotpy (setup.py): started\n",
      "  Building wheel for jaqpotpy (setup.py): finished with status 'done'\n",
      "  Stored in directory: /home/jovyan/.cache/pip/wheels/ae/52/06/feb21d07f563e84b977b03eab36033d7ad51b24b47808e786d\n",
      "Successfully built jaqpotpy\n",
      "Installing collected packages: jaqpotpy\n",
      "Successfully installed jaqpotpy-0.0.2\n"
     ]
    },
    {
     "data": {
      "text/plain": [
       "0"
      ]
     },
     "execution_count": 26,
     "metadata": {},
     "output_type": "execute_result"
    }
   ],
   "source": [
    "pip(['install', 'jaqpotpy'])"
   ]
  },
  {
   "cell_type": "code",
   "execution_count": 40,
   "metadata": {},
   "outputs": [
    {
     "name": "stdout",
     "output_type": "stream",
     "text": [
      "\u001b[1m \u001b[32m 2019-10-07 11:20:12,214 - INFO - api key is set\u001b[0m\n"
     ]
    }
   ],
   "source": [
    "from jaqpotpy import Jaqpot\n",
    "jaqpot = Jaqpot(\"http://api.jaqpot.org/jaqpot/services/\")\n",
    "#jaqpot.request_key_safe()\n",
    "jaqpot.set_api_key(\"eyJhbGciOiJSUzI1NiIsInR5cCIgOiAiSldUIiwia2lkIiA6ICJoX2p2Z3I3bWZ4VGJ3OHJLNW9Fb3dWWUVHUms2Z0hsLW9sSjdPUnQ3V2QwIn0.eyJqdGkiOiJkNDQ1NmYyMi1lMjU3LTQyYWEtYTc5OS0xYTFmMmQ2MzVlM2MiLCJleHAiOjE1NzA0NDc5ODYsIm5iZiI6MCwiaWF0IjoxNTcwNDQ3MDg2LCJpc3MiOiJodHRwczovL3Nzby5wcm9kLm9wZW5yaXNrbmV0Lm9yZy9hdXRoL3JlYWxtcy9vcGVucmlza25ldCIsImF1ZCI6ImFjY291bnQiLCJzdWIiOiI1NmUyNjk0MS0wMjk1LTRiNmUtOTRmOS03OWY3OWZiY2Y5NmMiLCJ0eXAiOiJCZWFyZXIiLCJhenAiOiJqYXFwb3QtdWkiLCJub25jZSI6Ik4wLjg1MTI5ODM1ODU0MDUyMDcxNTcwNDQ3MDg0MjY4IiwiYXV0aF90aW1lIjoxNTcwNDQ0NjY3LCJzZXNzaW9uX3N0YXRlIjoiNGE1ZjkwNGUtNmJkNy00YTM4LWIwYmEtZDkwNzRlNTEyMWI4IiwiYWNyIjoiMCIsImFsbG93ZWQtb3JpZ2lucyI6WyIqIl0sInJlYWxtX2FjY2VzcyI6eyJyb2xlcyI6WyJzdGFuZGFyZC11c2VyIiwib2ZmbGluZV9hY2Nlc3MiLCJ1bWFfYXV0aG9yaXphdGlvbiJdfSwicmVzb3VyY2VfYWNjZXNzIjp7ImFjY291bnQiOnsicm9sZXMiOlsibWFuYWdlLWFjY291bnQiLCJtYW5hZ2UtYWNjb3VudC1saW5rcyIsInZpZXctcHJvZmlsZSJdfX0sInNjb3BlIjoib3BlbmlkIHByb2ZpbGUgZW1haWwiLCJlbWFpbF92ZXJpZmllZCI6ZmFsc2UsIm5hbWUiOiJ0b21heiBtb2hvcmljIiwicHJlZmVycmVkX3VzZXJuYW1lIjoidG1vaG9yaWMiLCJnaXZlbl9uYW1lIjoidG9tYXoiLCJmYW1pbHlfbmFtZSI6Im1vaG9yaWMiLCJlbWFpbCI6Im1vaG9yaWMudG9tYXpAZ21haWwuY29tIn0.LyLwDEVdBXfdBn8oB2pV1bKXW8Pa2y4NcBran4Lh7ltK1Bsdotn7mJDGR549vf2Nrh9W7cbhDpUfoADwdX9JfRGEbC9660ZF9EAt62b8DknWIrX1MQ7WfogFi-jB9Be5RIAOSEpBVQxU1UaG3_9JCt7ZpI6-cYGH04SZCRansjAtY46DF6B7efYXxRbxykAIj_Av89C6FD4ko-P6ntHthQYaT98NyPc8YxjS1R6IYGZcXbSIr4abR4t7RcEppMz60HmUMGnLz2XLGVe1DtwnvCU1ze24d5eymfcotq2eFQomRUoJUlmddAL9bzRsSZjEID6jVsqP3K5DRv5AAD3rVw\")\n",
    "#jaqpot.request_key_safe()"
   ]
  },
  {
   "cell_type": "code",
   "execution_count": 41,
   "metadata": {},
   "outputs": [
    {
     "name": "stderr",
     "output_type": "stream",
     "text": [
      "/opt/conda/lib/python3.7/site-packages/urllib3/connectionpool.py:851: InsecureRequestWarning: Unverified HTTPS request is being made. Adding certificate verification is strongly advised. See: https://urllib3.readthedocs.io/en/latest/advanced-usage.html#ssl-warnings\n",
      "  InsecureRequestWarning)\n",
      "ERROR: Error: 'authToken'\n"
     ]
    }
   ],
   "source": [
    "jaqpot.request_key('tmohoric', 'geslogit3006')"
   ]
  },
  {
   "cell_type": "code",
   "execution_count": 42,
   "metadata": {},
   "outputs": [
    {
     "name": "stderr",
     "output_type": "stream",
     "text": [
      "/opt/conda/lib/python3.7/site-packages/urllib3/connectionpool.py:851: InsecureRequestWarning: Unverified HTTPS request is being made. Adding certificate verification is strongly advised. See: https://urllib3.readthedocs.io/en/latest/advanced-usage.html#ssl-warnings\n",
      "  InsecureRequestWarning)\n",
      "ERROR: Some error occured: It seems your token is not valid\n"
     ]
    }
   ],
   "source": [
    "jaqpot.deploy_linear_model(model, X_rfe, Y[['True']], title=\"Sklearn 2\", description=\"Logistic regression model from python for the titanic dataset\", algorithm=\"logistic regression\")"
   ]
  },
  {
   "cell_type": "code",
   "execution_count": 29,
   "metadata": {},
   "outputs": [
    {
     "ename": "TypeError",
     "evalue": "can only concatenate str (not \"NoneType\") to str",
     "output_type": "error",
     "traceback": [
      "\u001b[0;31m---------------------------------------------------------------------------\u001b[0m",
      "\u001b[0;31mTypeError\u001b[0m                                 Traceback (most recent call last)",
      "\u001b[0;32m<ipython-input-29-8e34eb9667a4>\u001b[0m in \u001b[0;36m<module>\u001b[0;34m\u001b[0m\n\u001b[0;32m----> 1\u001b[0;31m \u001b[0murl\u001b[0m \u001b[0;34m=\u001b[0m \u001b[0mjaqpot\u001b[0m\u001b[0;34m.\u001b[0m\u001b[0mdeploy_pipeline\u001b[0m\u001b[0;34m(\u001b[0m\u001b[0mmodel\u001b[0m\u001b[0;34m,\u001b[0m \u001b[0mX_rfe\u001b[0m\u001b[0;34m,\u001b[0m \u001b[0mY\u001b[0m\u001b[0;34m[\u001b[0m\u001b[0;34m'True'\u001b[0m\u001b[0;34m]\u001b[0m\u001b[0;34m,\u001b[0m \u001b[0;34m\"ORN consensus RFE 6\"\u001b[0m\u001b[0;34m,\u001b[0m \u001b[0;34m\"Logistic Regression+RFE\"\u001b[0m\u001b[0;34m,\u001b[0m \u001b[0;34m\"linearmodel\"\u001b[0m\u001b[0;34m)\u001b[0m\u001b[0;34m\u001b[0m\u001b[0;34m\u001b[0m\u001b[0m\n\u001b[0m\u001b[1;32m      2\u001b[0m \u001b[0murl\u001b[0m\u001b[0;34m\u001b[0m\u001b[0;34m\u001b[0m\u001b[0m\n",
      "\u001b[0;32m/opt/conda/lib/python3.7/site-packages/jaqpotpy/jaqpot.py\u001b[0m in \u001b[0;36mdeploy_pipeline\u001b[0;34m(self, pipeline, X, y, title, description, algorithm, doa)\u001b[0m\n\u001b[1;32m    988\u001b[0m         \u001b[0mj\u001b[0m \u001b[0;34m=\u001b[0m \u001b[0mjson\u001b[0m\u001b[0;34m.\u001b[0m\u001b[0mdumps\u001b[0m\u001b[0;34m(\u001b[0m\u001b[0mpretrained\u001b[0m\u001b[0;34m,\u001b[0m \u001b[0mcls\u001b[0m\u001b[0;34m=\u001b[0m\u001b[0mJaqpotSerializer\u001b[0m\u001b[0;34m)\u001b[0m\u001b[0;34m\u001b[0m\u001b[0;34m\u001b[0m\u001b[0m\n\u001b[1;32m    989\u001b[0m         \u001b[0;32mif\u001b[0m \u001b[0mdoa\u001b[0m \u001b[0;32mis\u001b[0m \u001b[0;32mNone\u001b[0m\u001b[0;34m:\u001b[0m\u001b[0;34m\u001b[0m\u001b[0;34m\u001b[0m\u001b[0m\n\u001b[0;32m--> 990\u001b[0;31m             \u001b[0mresponse\u001b[0m \u001b[0;34m=\u001b[0m \u001b[0mmodels_api\u001b[0m\u001b[0;34m.\u001b[0m\u001b[0mpost_pretrained_model\u001b[0m\u001b[0;34m(\u001b[0m\u001b[0mself\u001b[0m\u001b[0;34m.\u001b[0m\u001b[0mbase_url\u001b[0m\u001b[0;34m,\u001b[0m \u001b[0mself\u001b[0m\u001b[0;34m.\u001b[0m\u001b[0mapi_key\u001b[0m\u001b[0;34m,\u001b[0m \u001b[0mj\u001b[0m\u001b[0;34m,\u001b[0m \u001b[0mself\u001b[0m\u001b[0;34m.\u001b[0m\u001b[0mlog\u001b[0m\u001b[0;34m)\u001b[0m\u001b[0;34m\u001b[0m\u001b[0;34m\u001b[0m\u001b[0m\n\u001b[0m\u001b[1;32m    991\u001b[0m             \u001b[0;32mif\u001b[0m \u001b[0mresponse\u001b[0m\u001b[0;34m.\u001b[0m\u001b[0mstatus_code\u001b[0m \u001b[0;34m<\u001b[0m \u001b[0;36m300\u001b[0m\u001b[0;34m:\u001b[0m\u001b[0;34m\u001b[0m\u001b[0;34m\u001b[0m\u001b[0m\n\u001b[1;32m    992\u001b[0m                 \u001b[0mresp\u001b[0m \u001b[0;34m=\u001b[0m \u001b[0mresponse\u001b[0m\u001b[0;34m.\u001b[0m\u001b[0mjson\u001b[0m\u001b[0;34m(\u001b[0m\u001b[0;34m)\u001b[0m\u001b[0;34m\u001b[0m\u001b[0;34m\u001b[0m\u001b[0m\n",
      "\u001b[0;32m/opt/conda/lib/python3.7/site-packages/jaqpotpy/api/models_api.py\u001b[0m in \u001b[0;36mpost_pretrained_model\u001b[0;34m(baseurl, api_key, json_request, logger)\u001b[0m\n\u001b[1;32m     13\u001b[0m     h = {'Content-Type': 'application/json',\n\u001b[1;32m     14\u001b[0m          \u001b[0;34m'Accept'\u001b[0m\u001b[0;34m:\u001b[0m \u001b[0;34m'application/json'\u001b[0m\u001b[0;34m,\u001b[0m\u001b[0;34m\u001b[0m\u001b[0;34m\u001b[0m\u001b[0m\n\u001b[0;32m---> 15\u001b[0;31m          'Authorization': \"Bearer \" + api_key}\n\u001b[0m\u001b[1;32m     16\u001b[0m     \u001b[0;32mtry\u001b[0m\u001b[0;34m:\u001b[0m\u001b[0;34m\u001b[0m\u001b[0;34m\u001b[0m\u001b[0m\n\u001b[1;32m     17\u001b[0m         \u001b[0mr\u001b[0m \u001b[0;34m=\u001b[0m \u001b[0mrequests\u001b[0m\u001b[0;34m.\u001b[0m\u001b[0mpost\u001b[0m\u001b[0;34m(\u001b[0m\u001b[0muri\u001b[0m\u001b[0;34m,\u001b[0m \u001b[0mheaders\u001b[0m\u001b[0;34m=\u001b[0m\u001b[0mh\u001b[0m\u001b[0;34m,\u001b[0m \u001b[0mdata\u001b[0m\u001b[0;34m=\u001b[0m\u001b[0mjson_request\u001b[0m\u001b[0;34m,\u001b[0m \u001b[0mverify\u001b[0m\u001b[0;34m=\u001b[0m\u001b[0;32mFalse\u001b[0m\u001b[0;34m)\u001b[0m\u001b[0;34m\u001b[0m\u001b[0;34m\u001b[0m\u001b[0m\n",
      "\u001b[0;31mTypeError\u001b[0m: can only concatenate str (not \"NoneType\") to str"
     ]
    }
   ],
   "source": [
    "url = jaqpot.deploy_pipeline(model, X_rfe, Y['True'], \"ORN consensus RFE 6\", \"Logistic Regression+RFE\", \"linearmodel\")\n",
    "url"
   ]
  },
  {
   "cell_type": "code",
   "execution_count": null,
   "metadata": {},
   "outputs": [],
   "source": [
    "dfJQ_RFE, predicts_RFE = jaqpot.predict(XRFE3, modelId=url)"
   ]
  }
 ],
 "metadata": {
  "kernelspec": {
   "display_name": "Python 3",
   "language": "python",
   "name": "python3"
  },
  "language_info": {
   "codemirror_mode": {
    "name": "ipython",
    "version": 3
   },
   "file_extension": ".py",
   "mimetype": "text/x-python",
   "name": "python",
   "nbconvert_exporter": "python",
   "pygments_lexer": "ipython3",
   "version": "3.7.3"
  }
 },
 "nbformat": 4,
 "nbformat_minor": 4
}
