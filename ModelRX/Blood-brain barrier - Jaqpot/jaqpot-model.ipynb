{
 "cells": [
  {
   "cell_type": "markdown",
   "metadata": {},
   "source": [
    "### Goal:\n",
    "Use scikit-learn's logistic regression to develop a predictive model for blood-brain-barrier penetration"
   ]
  },
  {
   "cell_type": "code",
   "execution_count": 78,
   "metadata": {},
   "outputs": [],
   "source": [
    "from pip._internal import main as pip\n",
    "\n",
    "try:\n",
    "    import pandas as pd\n",
    "except ImportError:\n",
    "    pip(['install', 'pandas'])\n",
    "    import pandas as pd\n",
    "    \n",
    "try:\n",
    "    import sklearn\n",
    "    from sklearn.feature_selection import RFE\n",
    "    from sklearn.linear_model import LogisticRegression\n",
    "    from sklearn.linear_model import LogisticRegressionCV\n",
    "    from sklearn import metrics\n",
    "except ImportError:\n",
    "    pip(['install', 'sklearn'])\n",
    "    import sklearn\n",
    "    from sklearn.feature_selection import RFE\n",
    "    from sklearn.linear_model import LogisticRegression\n",
    "    from sklearn.linear_model import LogisticRegressionCV\n",
    "    from sklearn import metrics\n",
    "    \n",
    "try:\n",
    "    import matplotlib.pyplot as plt\n",
    "except ImportError:\n",
    "    pip(['install', 'matplotlib'])\n",
    "    import matplotlib.pyplot as plt"
   ]
  },
  {
   "cell_type": "code",
   "execution_count": 11,
   "metadata": {},
   "outputs": [],
   "source": [
    "df = pd.read_csv('compounds_descriptors.csv', index_col=None)"
   ]
  },
  {
   "cell_type": "markdown",
   "metadata": {},
   "source": [
    "#### Split the main dataframe into X and Y"
   ]
  },
  {
   "cell_type": "code",
   "execution_count": 14,
   "metadata": {},
   "outputs": [],
   "source": [
    "X = df.drop(['True', 'SMILES'], axis=1)\n",
    "Y = df[['True']].replace({'non-penetrating': 0, 'penetrating': 1})"
   ]
  },
  {
   "cell_type": "markdown",
   "metadata": {},
   "source": [
    "#### Scaling between 0 and 1"
   ]
  },
  {
   "cell_type": "code",
   "execution_count": 32,
   "metadata": {},
   "outputs": [],
   "source": [
    "X_scaled = (X - X.min()) / (X.max() - X.min())\n",
    "\n",
    "# remove columns that contain newly generated NaN values (e.g. if some column was constant before scaling)\n",
    "X_scaled = X_scaled.dropna(axis=1)\n",
    "\n",
    "X_scaled.head()"
   ]
  },
  {
   "cell_type": "markdown",
   "metadata": {},
   "source": [
    "#### Select only 20 most important features"
   ]
  },
  {
   "cell_type": "code",
   "execution_count": null,
   "metadata": {},
   "outputs": [],
   "source": [
    "model = LogisticRegression(solver='newton-cg', multi_class='multinomial', max_iter=100) \n",
    "\n",
    "rfe = RFE(model, 20, verbose=1)\n",
    "fit = rfe.fit(X_scaled, Y['True'])\n",
    "\n",
    "X_rfe = X_scaled.loc[:, fit.support_.tolist()]"
   ]
  },
  {
   "cell_type": "markdown",
   "metadata": {},
   "source": [
    "#### Cross-validation of logistic regression model"
   ]
  },
  {
   "cell_type": "code",
   "execution_count": 75,
   "metadata": {},
   "outputs": [],
   "source": [
    "model = LogisticRegressionCV(Cs=100, class_weight=None,\n",
    "            cv=5, dual=False, fit_intercept=True, intercept_scaling=1.0, \n",
    "            max_iter=10000, multi_class='ovr', n_jobs=1, penalty='l1', \n",
    "            random_state=None, refit=True, scoring='accuracy', \n",
    "            solver='liblinear', tol=0.0001, verbose=0).fit(X_rfe, Y['True'])\n",
    "\n",
    "# get class predictions\n",
    "df['Predicted'] = model.predict(X_rfe)\n",
    "\n",
    "# get probabilities\n",
    "dfProb = pd.DataFrame(model.predict_proba(X_rfe), columns=['Probability_N', 'Probability_P'])\n",
    "\n",
    "dfJaqpot = df[['SMILES', 'True', 'Predicted']].replace({0: 'non-penetrating', 1: 'penetrating'})\n",
    "dfJaqpot = pd.concat([dfJaqpot, dfProb], sort=False, axis=1)\n",
    "\n",
    "dfJaqpot.to_csv('predictions_Jaqpot.csv', index=False)"
   ]
  },
  {
   "cell_type": "markdown",
   "metadata": {},
   "source": [
    "#### Evaluate model performance\n",
    "- confusion matrix\n",
    "- ROC, AUC"
   ]
  },
  {
   "cell_type": "code",
   "execution_count": 76,
   "metadata": {},
   "outputs": [
    {
     "data": {
      "text/html": [
       "<div>\n",
       "<style scoped>\n",
       "    .dataframe tbody tr th:only-of-type {\n",
       "        vertical-align: middle;\n",
       "    }\n",
       "\n",
       "    .dataframe tbody tr th {\n",
       "        vertical-align: top;\n",
       "    }\n",
       "\n",
       "    .dataframe thead th {\n",
       "        text-align: right;\n",
       "    }\n",
       "</style>\n",
       "<table border=\"1\" class=\"dataframe\">\n",
       "  <thead>\n",
       "    <tr style=\"text-align: right;\">\n",
       "      <th>Predicted</th>\n",
       "      <th>non-penetrating</th>\n",
       "      <th>penetrating</th>\n",
       "    </tr>\n",
       "    <tr>\n",
       "      <th>True</th>\n",
       "      <th></th>\n",
       "      <th></th>\n",
       "    </tr>\n",
       "  </thead>\n",
       "  <tbody>\n",
       "    <tr>\n",
       "      <th>non-penetrating</th>\n",
       "      <td>90</td>\n",
       "      <td>38</td>\n",
       "    </tr>\n",
       "    <tr>\n",
       "      <th>penetrating</th>\n",
       "      <td>25</td>\n",
       "      <td>235</td>\n",
       "    </tr>\n",
       "  </tbody>\n",
       "</table>\n",
       "</div>"
      ],
      "text/plain": [
       "Predicted        non-penetrating  penetrating\n",
       "True                                         \n",
       "non-penetrating               90           38\n",
       "penetrating                   25          235"
      ]
     },
     "execution_count": 76,
     "metadata": {},
     "output_type": "execute_result"
    }
   ],
   "source": [
    "conf = pd.crosstab(dfJaqpot['True'], dfJaqpot['Predicted'])\n",
    "conf"
   ]
  },
  {
   "cell_type": "code",
   "execution_count": 79,
   "metadata": {},
   "outputs": [
    {
     "data": {
      "image/png": "[encoded data removed]",
      "text/plain": [
       "<Figure size 432x288 with 1 Axes>"
      ]
     },
     "metadata": {
      "needs_background": "light"
     },
     "output_type": "display_data"
    }
   ],
   "source": [
    "# ROC plot\n",
    "df = dfJaqpot.copy()\n",
    "\n",
    "df = df.dropna(axis=0, how='any').drop_duplicates()\n",
    "\n",
    "df['Probability_diff'] = (df['Probability_P'] - df['Probability_N']) # / 2. + 0.5\n",
    "df['True'] = df['True'].replace({'penetrating': 1, 'non-penetrating': 0})\n",
    "\n",
    "# compute ROC\n",
    "fpr, tpr, thresholds = metrics.roc_curve(df['True'], df['Probability_diff'], pos_label=1)\n",
    "\n",
    "# compute AUC\n",
    "auc = metrics.auc(fpr, tpr)\n",
    "\n",
    "# prepare the plot\n",
    "fig, ax = plt.subplots(1, 1)\n",
    "\n",
    "ax.plot(fpr, tpr, label='ROC curve (AUC = %0.2f)' % auc)\n",
    "ax.plot([0,1], [0,1], label='', color='black', linestyle='--')\n",
    "ax.legend(loc=\"lower right\")\n",
    "ax.set_xlabel('False positive rate')\n",
    "ax.set_ylabel('True positive rate')\n",
    "ax.set_aspect('equal')\n",
    "ax.set_xlim([0, 1])\n",
    "ax.set_ylim([0, 1])\n",
    "\n",
    "fig.tight_layout()\n",
    "\n",
    "plt.show()"
   ]
  }
 ],
 "metadata": {
  "kernelspec": {
   "display_name": "Python 3",
   "language": "python",
   "name": "python3"
  },
  "language_info": {
   "codemirror_mode": {
    "name": "ipython",
    "version": 3
   },
   "file_extension": ".py",
   "mimetype": "text/x-python",
   "name": "python",
   "nbconvert_exporter": "python",
   "pygments_lexer": "ipython3",
   "version": "3.7.3"
  }
 },
 "nbformat": 4,
 "nbformat_minor": 4
}
