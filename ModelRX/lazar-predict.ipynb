{
 "cells": [
  {
   "cell_type": "code",
   "execution_count": 1,
   "metadata": {},
   "outputs": [],
   "source": [
    "import requests"
   ]
  },
  {
   "cell_type": "code",
   "execution_count": 13,
   "metadata": {},
   "outputs": [],
   "source": [
    "url = 'https://lazar.prod.openrisknet.org/authenticate/login'\n",
    "headers = {'accept': 'application/json', 'Content-Type': 'application/x-www-form-urlencoded'}\n",
    "payload = {'username':'name', 'password': 'pw'}\n",
    "\n",
    "r = requests.post(url, headers=headers, data=payload)\n",
    "if r.status_code == 200:\n",
    "    res = r.json()\n",
    "    subjectid = res['subjectid']\n",
    "else:\n",
    "    print(r.json())\n",
    "    \n",
    "payload = {'identifier': 'c1ccccc1NN'}\n",
    "headers = {'accept': 'application/json', 'subjectid': subjectid}"
   ]
  },
  {
   "cell_type": "code",
   "execution_count": 15,
   "metadata": {},
   "outputs": [],
   "source": [
    "r = requests.post(\"https://lazar.prod.openrisknet.org/model/5ae3034f5f1c2d0132329c82\", data=payload, headers=headers)"
   ]
  },
  {
   "cell_type": "code",
   "execution_count": 16,
   "metadata": {},
   "outputs": [
    {
     "data": {
      "text/plain": [
       "{'compound': {'id': {'$oid': '5ae2de0e5f1c2d0132327be7'},\n",
       "  'inchi': 'InChI=1S/C6H8N2/c7-8-6-4-2-1-3-5-6/h1-5,8H,7H2',\n",
       "  'smiles': 'NNc1ccccc1'},\n",
       " 'model': {'_id': {'$oid': '5ae3034f5f1c2d0132329c82'},\n",
       "  'created_at': '2018-04-27T11:02:39.616+00:00',\n",
       "  'endpoint': 'Carcinogenicity',\n",
       "  'model_id': {'$oid': '5ae2ff685f1c2d0132329ad4'},\n",
       "  'qmrf': {'group': 'QMRF 4.12. Carcinogenicity',\n",
       "   'name': 'OECD 451 Carcinogenicity Studies'},\n",
       "  'repeated_crossvalidation_id': {'$oid': '5ae3034f5f1c2d0132329c81'},\n",
       "  'source': 'http://www.epa.gov/ncct/dsstox/sdf_cpdbas.html',\n",
       "  'species': 'Rat (TD50)',\n",
       "  'unit': 'mmol/kg_bw/day',\n",
       "  'updated_at': '2018-04-27T11:02:39.616+00:00'},\n",
       " 'prediction': {'measurements': [],\n",
       "  'neighbors': [{'id': '5ae2dd885f1c2d0132327150',\n",
       "    'measurement': 3.35659696502858,\n",
       "    'similarity': 0.2222222222222222},\n",
       "   {'id': '5ae2dd885f1c2d0132327153',\n",
       "    'measurement': 3.36631741830388,\n",
       "    'similarity': 0.2},\n",
       "   {'id': '5ae2dd895f1c2d0132327251',\n",
       "    'measurement': 4.51796551679951,\n",
       "    'similarity': 0.2857142857142857},\n",
       "   {'id': '5ae2dd8c5f1c2d013232752e',\n",
       "    'measurement': 2.53932109431475,\n",
       "    'similarity': 0.2857142857142857},\n",
       "   {'id': '5ae2de0e5f1c2d0132327bc1',\n",
       "    'measurement': 2.63953950363372,\n",
       "    'similarity': 0.2857142857142857},\n",
       "   {'id': '5ae2ff655f1c2d0132329abb',\n",
       "    'measurement': 5.79500722036801,\n",
       "    'similarity': 0.2},\n",
       "   {'id': '5ae2dd895f1c2d01323271b3',\n",
       "    'measurement': 5.9817334480438,\n",
       "    'similarity': 0.2},\n",
       "   {'id': '5ae2de0c5f1c2d0132327a12',\n",
       "    'measurement': 3.39051825067687,\n",
       "    'similarity': 0.2},\n",
       "   {'id': '5ae2dd895f1c2d0132327192',\n",
       "    'measurement': 2.98651985998736,\n",
       "    'similarity': 0.25},\n",
       "   {'id': '5ae2dd895f1c2d01323271e6',\n",
       "    'measurement': 3.07443253433142,\n",
       "    'similarity': 0.2222222222222222},\n",
       "   {'id': '5ae2fcb75f1c2d01323298e9',\n",
       "    'measurement': 3.68375103425424,\n",
       "    'similarity': 0.25},\n",
       "   {'id': '5ae2dd675f1c2d0132326ea6',\n",
       "    'measurement': 2.66483016353938,\n",
       "    'similarity': 0.2}],\n",
       "  'prediction_feature_id': {'$oid': '5ae2fcb45f1c2d0132329859'},\n",
       "  'prediction_interval': [1.0858179800325836, 5.843172933828109],\n",
       "  'r_squared': 0.1629636513560223,\n",
       "  'rmse': 1.2136109576008993,\n",
       "  'value': 3.4644954569303463,\n",
       "  'warnings': ['Similarity threshold 0.2 < 0.5, prediction may be out of applicability domain.']}}"
      ]
     },
     "execution_count": 16,
     "metadata": {},
     "output_type": "execute_result"
    }
   ],
   "source": [
    "r.json()"
   ]
  },
  {
   "cell_type": "code",
   "execution_count": null,
   "metadata": {},
   "outputs": [],
   "source": []
  }
 ],
 "metadata": {
  "kernelspec": {
   "display_name": "Python 3",
   "language": "python",
   "name": "python3"
  },
  "language_info": {
   "codemirror_mode": {
    "name": "ipython",
    "version": 3
   },
   "file_extension": ".py",
   "mimetype": "text/x-python",
   "name": "python",
   "nbconvert_exporter": "python",
   "pygments_lexer": "ipython3",
   "version": "3.6.3"
  }
 },
 "nbformat": 4,
 "nbformat_minor": 2
}
