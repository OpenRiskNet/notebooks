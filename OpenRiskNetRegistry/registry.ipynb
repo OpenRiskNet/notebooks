{
 "cells": [
  {
   "cell_type": "markdown",
   "metadata": {},
   "source": [
    "## Demonstrate how to run sparql queries against the OpenRiskNet registry\n",
    "\n",
    "This notebook demonstrates how to run a SparQL query against the OpenRiskNet registry. The registry at the moment only returns json formatted output and thus this example uses the requests library and puts the results directly into a dict of service names to pandas dataframes for further anlysis instead of using a specialized sparql library."
   ]
  },
  {
   "cell_type": "code",
   "execution_count": 1,
   "metadata": {},
   "outputs": [
    {
     "name": "stdout",
     "output_type": "stream",
     "text": [
      "Requirement already satisfied: pandas in /opt/app-root/lib/python3.6/site-packages (0.25.3)\n",
      "Requirement already satisfied: numpy>=1.13.3 in /opt/app-root/lib/python3.6/site-packages (from pandas) (1.17.3)\n",
      "Requirement already satisfied: pytz>=2017.2 in /opt/app-root/lib/python3.6/site-packages (from pandas) (2019.3)\n",
      "Requirement already satisfied: python-dateutil>=2.6.1 in /opt/app-root/lib/python3.6/site-packages (from pandas) (2.8.1)\n",
      "Requirement already satisfied: six>=1.5 in /opt/app-root/lib/python3.6/site-packages (from python-dateutil>=2.6.1->pandas) (1.12.0)\n"
     ]
    }
   ],
   "source": [
    "!pip install pandas"
   ]
  },
  {
   "cell_type": "code",
   "execution_count": 2,
   "metadata": {},
   "outputs": [],
   "source": [
    "import requests\n",
    "import pprint\n",
    "import pandas"
   ]
  },
  {
   "cell_type": "code",
   "execution_count": 3,
   "metadata": {},
   "outputs": [],
   "source": [
    "query = \"\"\"\n",
    "# Select all endoints that use a query parameter that was assigned the CHEMINF_000018 id\n",
    "# (smiles). Not that for parameters the mapping of json keys to ontology terms in \n",
    "# the x-onr-@context section does not do anything because the name of the parameter is \n",
    "# not specified as a json key but is just a string value. The author of a service has to\n",
    "# explicitly annotate a parameter with x-orn-@id tag of the ontology term in question for\n",
    "# this to work.\n",
    "\n",
    "PREFIX orn: <http://openrisknet.org/schema#>\n",
    "SELECT ?endpointnode ?relativeendpointpath ?endpointverbnode \n",
    "{ \n",
    "# start query at the \"paths\" predicate\n",
    "?n1 orn:paths ?n2 . \n",
    "\n",
    "# one level down are the endpoints - we select the predicate which is the relative endpoint path (e.g. \"/predict\")\n",
    "# here but this looks a bit weird as it is an IRI with the usual http://openrisknet.org/schema# prefix\n",
    "# (e.g. \"http://openrisknet.org/schema#/predict\")\n",
    "# If service authors opt to use x-orn-@id on their endpoints (or endpoint verbs), they can map the IRI\n",
    "# of the node to the correct URL of the service endpoint so it can be queried there directly - but this\n",
    "# only works if the id has been assigned correctly by the service author, otherwise you get an anonymous node id\n",
    "?n2 ?relativeendpointpath ?endpointnode. \n",
    "?endpointnode ?verb ?endpointverbnode.\n",
    "\n",
    "# Go one level down into the parameters section and match if the id of the parameter\n",
    "# is the ontology term that we are looking for. Alternatively you could match based on \n",
    "# text or a regex here so you can find services where the parameter has not been tagged\n",
    "# with this ontology term but then you rely on text based matching.\n",
    "?endpointverbnode orn:parameters <http://semanticscience.org/resource/CHEMINF_000018>\n",
    "}\n",
    "\"\"\""
   ]
  },
  {
   "cell_type": "code",
   "execution_count": 4,
   "metadata": {},
   "outputs": [],
   "source": [
    "response = requests.get(\"https://registry.prod.openrisknet.org/api/sparql\", params={\"query\": query})"
   ]
  },
  {
   "cell_type": "code",
   "execution_count": 5,
   "metadata": {},
   "outputs": [],
   "source": [
    "response.raise_for_status()"
   ]
  },
  {
   "cell_type": "code",
   "execution_count": 6,
   "metadata": {},
   "outputs": [],
   "source": [
    "json = response.json()\n",
    "#pprint.pprint(json)"
   ]
  },
  {
   "cell_type": "code",
   "execution_count": 7,
   "metadata": {},
   "outputs": [],
   "source": [
    "def mapServiceResult(serviceDict):\n",
    "    result = pandas.DataFrame(data=serviceDict['Result'][1]['ResultValues'], columns=serviceDict['Result'][1]['Variables'])\n",
    "    return serviceDict['ServiceName'], result"
   ]
  },
  {
   "cell_type": "code",
   "execution_count": 8,
   "metadata": {},
   "outputs": [],
   "source": [
    "dictOfDataframes = dict(map(mapServiceResult, json))"
   ]
  },
  {
   "cell_type": "code",
   "execution_count": 9,
   "metadata": {},
   "outputs": [
    {
     "data": {
      "text/plain": [
       "'BridgeDb identifier mapping service'"
      ]
     },
     "metadata": {},
     "output_type": "display_data"
    },
    {
     "data": {
      "text/html": [
       "<div>\n",
       "<style scoped>\n",
       "    .dataframe tbody tr th:only-of-type {\n",
       "        vertical-align: middle;\n",
       "    }\n",
       "\n",
       "    .dataframe tbody tr th {\n",
       "        vertical-align: top;\n",
       "    }\n",
       "\n",
       "    .dataframe thead th {\n",
       "        text-align: right;\n",
       "    }\n",
       "</style>\n",
       "<table border=\"1\" class=\"dataframe\">\n",
       "  <thead>\n",
       "    <tr style=\"text-align: right;\">\n",
       "      <th></th>\n",
       "      <th>endpointnode</th>\n",
       "      <th>relativeendpointpath</th>\n",
       "      <th>endpointverbnode</th>\n",
       "      <th>n1</th>\n",
       "      <th>n2</th>\n",
       "      <th>verb</th>\n",
       "    </tr>\n",
       "  </thead>\n",
       "  <tbody>\n",
       "  </tbody>\n",
       "</table>\n",
       "</div>"
      ],
      "text/plain": [
       "Empty DataFrame\n",
       "Columns: [endpointnode, relativeendpointpath, endpointverbnode, n1, n2, verb]\n",
       "Index: []"
      ]
     },
     "metadata": {},
     "output_type": "display_data"
    },
    {
     "data": {
      "text/plain": [
       "'Lazar REST Service'"
      ]
     },
     "metadata": {},
     "output_type": "display_data"
    },
    {
     "data": {
      "text/html": [
       "<div>\n",
       "<style scoped>\n",
       "    .dataframe tbody tr th:only-of-type {\n",
       "        vertical-align: middle;\n",
       "    }\n",
       "\n",
       "    .dataframe tbody tr th {\n",
       "        vertical-align: top;\n",
       "    }\n",
       "\n",
       "    .dataframe thead th {\n",
       "        text-align: right;\n",
       "    }\n",
       "</style>\n",
       "<table border=\"1\" class=\"dataframe\">\n",
       "  <thead>\n",
       "    <tr style=\"text-align: right;\">\n",
       "      <th></th>\n",
       "      <th>endpointnode</th>\n",
       "      <th>relativeendpointpath</th>\n",
       "      <th>endpointverbnode</th>\n",
       "      <th>n1</th>\n",
       "      <th>n2</th>\n",
       "      <th>verb</th>\n",
       "    </tr>\n",
       "  </thead>\n",
       "  <tbody>\n",
       "  </tbody>\n",
       "</table>\n",
       "</div>"
      ],
      "text/plain": [
       "Empty DataFrame\n",
       "Columns: [endpointnode, relativeendpointpath, endpointverbnode, n1, n2, verb]\n",
       "Index: []"
      ]
     },
     "metadata": {},
     "output_type": "display_data"
    },
    {
     "data": {
      "text/plain": [
       "'EPA-ToxCastV3.1-ACEA_ER_80hr_summary_tcpl'"
      ]
     },
     "metadata": {},
     "output_type": "display_data"
    },
    {
     "data": {
      "text/html": [
       "<div>\n",
       "<style scoped>\n",
       "    .dataframe tbody tr th:only-of-type {\n",
       "        vertical-align: middle;\n",
       "    }\n",
       "\n",
       "    .dataframe tbody tr th {\n",
       "        vertical-align: top;\n",
       "    }\n",
       "\n",
       "    .dataframe thead th {\n",
       "        text-align: right;\n",
       "    }\n",
       "</style>\n",
       "<table border=\"1\" class=\"dataframe\">\n",
       "  <thead>\n",
       "    <tr style=\"text-align: right;\">\n",
       "      <th></th>\n",
       "      <th>endpointnode</th>\n",
       "      <th>relativeendpointpath</th>\n",
       "      <th>endpointverbnode</th>\n",
       "      <th>n1</th>\n",
       "      <th>n2</th>\n",
       "      <th>verb</th>\n",
       "    </tr>\n",
       "  </thead>\n",
       "  <tbody>\n",
       "  </tbody>\n",
       "</table>\n",
       "</div>"
      ],
      "text/plain": [
       "Empty DataFrame\n",
       "Columns: [endpointnode, relativeendpointpath, endpointverbnode, n1, n2, verb]\n",
       "Index: []"
      ]
     },
     "metadata": {},
     "output_type": "display_data"
    },
    {
     "data": {
      "text/plain": [
       "'MetPred'"
      ]
     },
     "metadata": {},
     "output_type": "display_data"
    },
    {
     "data": {
      "text/html": [
       "<div>\n",
       "<style scoped>\n",
       "    .dataframe tbody tr th:only-of-type {\n",
       "        vertical-align: middle;\n",
       "    }\n",
       "\n",
       "    .dataframe tbody tr th {\n",
       "        vertical-align: top;\n",
       "    }\n",
       "\n",
       "    .dataframe thead th {\n",
       "        text-align: right;\n",
       "    }\n",
       "</style>\n",
       "<table border=\"1\" class=\"dataframe\">\n",
       "  <thead>\n",
       "    <tr style=\"text-align: right;\">\n",
       "      <th></th>\n",
       "      <th>endpointnode</th>\n",
       "      <th>relativeendpointpath</th>\n",
       "      <th>endpointverbnode</th>\n",
       "      <th>n1</th>\n",
       "      <th>n2</th>\n",
       "      <th>verb</th>\n",
       "    </tr>\n",
       "  </thead>\n",
       "  <tbody>\n",
       "  </tbody>\n",
       "</table>\n",
       "</div>"
      ],
      "text/plain": [
       "Empty DataFrame\n",
       "Columns: [endpointnode, relativeendpointpath, endpointverbnode, n1, n2, verb]\n",
       "Index: []"
      ]
     },
     "metadata": {},
     "output_type": "display_data"
    },
    {
     "data": {
      "text/plain": [
       "'JGU WEKA REST Service'"
      ]
     },
     "metadata": {},
     "output_type": "display_data"
    },
    {
     "data": {
      "text/html": [
       "<div>\n",
       "<style scoped>\n",
       "    .dataframe tbody tr th:only-of-type {\n",
       "        vertical-align: middle;\n",
       "    }\n",
       "\n",
       "    .dataframe tbody tr th {\n",
       "        vertical-align: top;\n",
       "    }\n",
       "\n",
       "    .dataframe thead th {\n",
       "        text-align: right;\n",
       "    }\n",
       "</style>\n",
       "<table border=\"1\" class=\"dataframe\">\n",
       "  <thead>\n",
       "    <tr style=\"text-align: right;\">\n",
       "      <th></th>\n",
       "      <th>endpointnode</th>\n",
       "      <th>relativeendpointpath</th>\n",
       "      <th>endpointverbnode</th>\n",
       "      <th>n1</th>\n",
       "      <th>n2</th>\n",
       "      <th>verb</th>\n",
       "    </tr>\n",
       "  </thead>\n",
       "  <tbody>\n",
       "  </tbody>\n",
       "</table>\n",
       "</div>"
      ],
      "text/plain": [
       "Empty DataFrame\n",
       "Columns: [endpointnode, relativeendpointpath, endpointverbnode, n1, n2, verb]\n",
       "Index: []"
      ]
     },
     "metadata": {},
     "output_type": "display_data"
    },
    {
     "data": {
      "text/plain": [
       "'ChemIdConvert - Chemical identifier conversion service'"
      ]
     },
     "metadata": {},
     "output_type": "display_data"
    },
    {
     "data": {
      "text/html": [
       "<div>\n",
       "<style scoped>\n",
       "    .dataframe tbody tr th:only-of-type {\n",
       "        vertical-align: middle;\n",
       "    }\n",
       "\n",
       "    .dataframe tbody tr th {\n",
       "        vertical-align: top;\n",
       "    }\n",
       "\n",
       "    .dataframe thead th {\n",
       "        text-align: right;\n",
       "    }\n",
       "</style>\n",
       "<table border=\"1\" class=\"dataframe\">\n",
       "  <thead>\n",
       "    <tr style=\"text-align: right;\">\n",
       "      <th></th>\n",
       "      <th>endpointnode</th>\n",
       "      <th>relativeendpointpath</th>\n",
       "      <th>endpointverbnode</th>\n",
       "      <th>n1</th>\n",
       "      <th>n2</th>\n",
       "      <th>verb</th>\n",
       "    </tr>\n",
       "  </thead>\n",
       "  <tbody>\n",
       "    <tr>\n",
       "      <th>0</th>\n",
       "      <td>_:b70</td>\n",
       "      <td>http://openrisknet.org/schema#/asSvg</td>\n",
       "      <td>http://chemidconvert.prod.openrisknet.org/v1/a...</td>\n",
       "      <td></td>\n",
       "      <td></td>\n",
       "      <td></td>\n",
       "    </tr>\n",
       "    <tr>\n",
       "      <th>1</th>\n",
       "      <td>_:b373</td>\n",
       "      <td>http://openrisknet.org/schema#/molWeight</td>\n",
       "      <td>http://chemidconvert.prod.openrisknet.org/v1/m...</td>\n",
       "      <td></td>\n",
       "      <td></td>\n",
       "      <td></td>\n",
       "    </tr>\n",
       "    <tr>\n",
       "      <th>2</th>\n",
       "      <td>_:b487</td>\n",
       "      <td>http://openrisknet.org/schema#/smiles/to/cas</td>\n",
       "      <td>http://chemidconvert.prod.openrisknet.org/v1/s...</td>\n",
       "      <td></td>\n",
       "      <td></td>\n",
       "      <td></td>\n",
       "    </tr>\n",
       "    <tr>\n",
       "      <th>3</th>\n",
       "      <td>_:b512</td>\n",
       "      <td>http://openrisknet.org/schema#/smiles/to/inchi</td>\n",
       "      <td>http://chemidconvert.prod.openrisknet.org/v1/s...</td>\n",
       "      <td></td>\n",
       "      <td></td>\n",
       "      <td></td>\n",
       "    </tr>\n",
       "    <tr>\n",
       "      <th>4</th>\n",
       "      <td>_:b529</td>\n",
       "      <td>http://openrisknet.org/schema#/smiles/to/inchikey</td>\n",
       "      <td>http://chemidconvert.prod.openrisknet.org/v1/s...</td>\n",
       "      <td></td>\n",
       "      <td></td>\n",
       "      <td></td>\n",
       "    </tr>\n",
       "    <tr>\n",
       "      <th>5</th>\n",
       "      <td>_:b546</td>\n",
       "      <td>http://openrisknet.org/schema#/smiles/to/names</td>\n",
       "      <td>http://chemidconvert.prod.openrisknet.org/v1/s...</td>\n",
       "      <td></td>\n",
       "      <td></td>\n",
       "      <td></td>\n",
       "    </tr>\n",
       "  </tbody>\n",
       "</table>\n",
       "</div>"
      ],
      "text/plain": [
       "  endpointnode                               relativeendpointpath  \\\n",
       "0        _:b70               http://openrisknet.org/schema#/asSvg   \n",
       "1       _:b373           http://openrisknet.org/schema#/molWeight   \n",
       "2       _:b487       http://openrisknet.org/schema#/smiles/to/cas   \n",
       "3       _:b512     http://openrisknet.org/schema#/smiles/to/inchi   \n",
       "4       _:b529  http://openrisknet.org/schema#/smiles/to/inchikey   \n",
       "5       _:b546     http://openrisknet.org/schema#/smiles/to/names   \n",
       "\n",
       "                                    endpointverbnode n1 n2 verb  \n",
       "0  http://chemidconvert.prod.openrisknet.org/v1/a...             \n",
       "1  http://chemidconvert.prod.openrisknet.org/v1/m...             \n",
       "2  http://chemidconvert.prod.openrisknet.org/v1/s...             \n",
       "3  http://chemidconvert.prod.openrisknet.org/v1/s...             \n",
       "4  http://chemidconvert.prod.openrisknet.org/v1/s...             \n",
       "5  http://chemidconvert.prod.openrisknet.org/v1/s...             "
      ]
     },
     "metadata": {},
     "output_type": "display_data"
    }
   ],
   "source": [
    "for key, value in dictOfDataframes.items():\n",
    "    display(key)\n",
    "    display(value)"
   ]
  },
  {
   "cell_type": "code",
   "execution_count": null,
   "metadata": {},
   "outputs": [],
   "source": []
  }
 ],
 "metadata": {
  "kernelspec": {
   "display_name": "Python 3",
   "language": "python",
   "name": "python3"
  },
  "language_info": {
   "codemirror_mode": {
    "name": "ipython",
    "version": 3
   },
   "file_extension": ".py",
   "mimetype": "text/x-python",
   "name": "python",
   "nbconvert_exporter": "python",
   "pygments_lexer": "ipython3",
   "version": "3.6.3"
  }
 },
 "nbformat": 4,
 "nbformat_minor": 2
}
